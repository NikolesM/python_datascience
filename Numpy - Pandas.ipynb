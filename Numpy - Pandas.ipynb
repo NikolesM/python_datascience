{
 "cells": [
  {
   "cell_type": "markdown",
   "id": "6a8cedc8",
   "metadata": {},
   "source": [
    "# Arrays en Numpy"
   ]
  },
  {
   "cell_type": "code",
   "execution_count": 3,
   "id": "df458399",
   "metadata": {},
   "outputs": [
    {
     "name": "stdout",
     "output_type": "stream",
     "text": [
      "<class 'numpy.ndarray'>\n",
      "42\n"
     ]
    }
   ],
   "source": [
    "import numpy as np\n",
    "escalar = np.array(42)\n",
    "print(type(escalar))\n",
    "print(escalar)"
   ]
  },
  {
   "cell_type": "code",
   "execution_count": 5,
   "id": "85e169ae",
   "metadata": {},
   "outputs": [
    {
     "name": "stdout",
     "output_type": "stream",
     "text": [
      "[30 29 35 31 33 36 42]\n"
     ]
    }
   ],
   "source": [
    "vector = np.array([30,29,35,31,33,36,42])\n",
    "print(vector)"
   ]
  },
  {
   "cell_type": "code",
   "execution_count": 8,
   "id": "324385a2",
   "metadata": {},
   "outputs": [
    {
     "name": "stdout",
     "output_type": "stream",
     "text": [
      "[[1 2 3]\n",
      " [4 5 6]\n",
      " [7 8 9]]\n"
     ]
    }
   ],
   "source": [
    "matrix = np.array([[1,2,3],[4,5,6],[7,8,9]])\n",
    "print(matrix)"
   ]
  },
  {
   "cell_type": "code",
   "execution_count": 9,
   "id": "46f598cf",
   "metadata": {},
   "outputs": [
    {
     "name": "stdout",
     "output_type": "stream",
     "text": [
      "[[1 2]\n",
      " [3 4]\n",
      " [5 6]\n",
      " [7 8]]\n"
     ]
    }
   ],
   "source": [
    "tensor = np.array([[1,2],[3,4],[5,6],[7,8]])\n",
    "print(tensor)"
   ]
  },
  {
   "cell_type": "code",
   "execution_count": 10,
   "id": "715a3f93",
   "metadata": {},
   "outputs": [
    {
     "name": "stdout",
     "output_type": "stream",
     "text": [
      "[0 1 2 3 4 5 6 7 8 9]\n"
     ]
    }
   ],
   "source": [
    "array_arange = np.arange(10)\n",
    "print(array_arange)"
   ]
  },
  {
   "cell_type": "code",
   "execution_count": 13,
   "id": "a8ae88a9",
   "metadata": {},
   "outputs": [
    {
     "name": "stdout",
     "output_type": "stream",
     "text": [
      "[[1. 0. 0. 0. 0. 0.]\n",
      " [0. 1. 0. 0. 0. 0.]\n",
      " [0. 0. 1. 0. 0. 0.]\n",
      " [0. 0. 0. 1. 0. 0.]\n",
      " [0. 0. 0. 0. 1. 0.]\n",
      " [0. 0. 0. 0. 0. 1.]]\n"
     ]
    }
   ],
   "source": [
    "eye_matrix = np.eye(6)\n",
    "print(eye_matrix)"
   ]
  },
  {
   "cell_type": "code",
   "execution_count": 15,
   "id": "66fa8673",
   "metadata": {},
   "outputs": [
    {
     "name": "stdout",
     "output_type": "stream",
     "text": [
      "[[1 0 0 0 0 0 0]\n",
      " [0 2 0 0 0 0 0]\n",
      " [0 0 3 0 0 0 0]\n",
      " [0 0 0 4 0 0 0]\n",
      " [0 0 0 0 5 0 0]\n",
      " [0 0 0 0 0 6 0]\n",
      " [0 0 0 0 0 0 7]]\n"
     ]
    }
   ],
   "source": [
    "diag = np.diag([1,2,3,4,5,6,7])\n",
    "print(diag)"
   ]
  },
  {
   "cell_type": "code",
   "execution_count": 16,
   "id": "658bedc9",
   "metadata": {},
   "outputs": [
    {
     "name": "stdout",
     "output_type": "stream",
     "text": [
      "[[0.99292438 0.84327964 0.69476081]\n",
      " [0.79272935 0.26099878 0.42153179]]\n"
     ]
    }
   ],
   "source": [
    "random = np.random.random((2,3))\n",
    "print(random)"
   ]
  },
  {
   "cell_type": "markdown",
   "id": "fc1a4933",
   "metadata": {},
   "source": [
    "# manipulacion de arrays numpy"
   ]
  },
  {
   "cell_type": "code",
   "execution_count": 20,
   "id": "f8960336",
   "metadata": {},
   "outputs": [
    {
     "name": "stdout",
     "output_type": "stream",
     "text": [
      "2\n",
      "(2, 3)\n",
      "int64\n"
     ]
    }
   ],
   "source": [
    "array = np.array([[1,2,3],[4,5,6]])\n",
    "print(array.ndim)\n",
    "print(array.shape)\n",
    "print(array.dtype)"
   ]
  },
  {
   "cell_type": "code",
   "execution_count": 22,
   "id": "7c493977",
   "metadata": {},
   "outputs": [
    {
     "name": "stdout",
     "output_type": "stream",
     "text": [
      "3\n"
     ]
    }
   ],
   "source": [
    "z = np.array(3,dtype = np.uint8)\n",
    "print(z)"
   ]
  },
  {
   "cell_type": "code",
   "execution_count": 23,
   "id": "1b738678",
   "metadata": {},
   "outputs": [
    {
     "name": "stdout",
     "output_type": "stream",
     "text": [
      "[1. 2. 3.]\n"
     ]
    }
   ],
   "source": [
    "double_array = np.array([1,2,3], dtype = 'd')\n",
    "print(double_array)"
   ]
  },
  {
   "cell_type": "code",
   "execution_count": 24,
   "id": "a722be18",
   "metadata": {},
   "outputs": [
    {
     "name": "stdout",
     "output_type": "stream",
     "text": [
      "3.0\n"
     ]
    }
   ],
   "source": [
    "z = z.astype(np.float64)\n",
    "print(z)"
   ]
  },
  {
   "cell_type": "code",
   "execution_count": 25,
   "id": "5d7e70f1",
   "metadata": {},
   "outputs": [
    {
     "name": "stdout",
     "output_type": "stream",
     "text": [
      "21\n"
     ]
    }
   ],
   "source": [
    "array = np.array([[1,2,3],[4,5,6]])\n",
    "add = np.sum(array)\n",
    "print(add)"
   ]
  },
  {
   "cell_type": "code",
   "execution_count": 26,
   "id": "217ed122",
   "metadata": {},
   "outputs": [
    {
     "name": "stdout",
     "output_type": "stream",
     "text": [
      "3.5\n"
     ]
    }
   ],
   "source": [
    "array = np.array([[1,2,3],[4,5,6]])\n",
    "mean = np.mean(array)\n",
    "print(mean)\n"
   ]
  },
  {
   "cell_type": "code",
   "execution_count": 27,
   "id": "286733c3",
   "metadata": {},
   "outputs": [
    {
     "name": "stdout",
     "output_type": "stream",
     "text": [
      "1.707825127659933\n"
     ]
    }
   ],
   "source": [
    "std = np.std(array)\n",
    "print(std)"
   ]
  },
  {
   "cell_type": "markdown",
   "id": "6f429987",
   "metadata": {},
   "source": [
    "# Indexacion y Slicing"
   ]
  },
  {
   "cell_type": "code",
   "execution_count": 41,
   "id": "0f91e410",
   "metadata": {},
   "outputs": [
    {
     "name": "stdout",
     "output_type": "stream",
     "text": [
      "20\n",
      "50\n"
     ]
    }
   ],
   "source": [
    "import numpy\n",
    "\n",
    "array = (np.array([10,20,30,40,50]))\n",
    "print(array[1])\n",
    "print(array[-1])"
   ]
  },
  {
   "cell_type": "code",
   "execution_count": null,
   "id": "79f49036",
   "metadata": {},
   "outputs": [
    {
     "name": "stdout",
     "output_type": "stream",
     "text": [
      "[20 30 40]\n"
     ]
    }
   ],
   "source": [
    "#sacamos una porcion del vector en este caso desde el elemento en la posicion 1 hasta la 4\n",
    "print(array[1:4])"
   ]
  },
  {
   "cell_type": "code",
   "execution_count": null,
   "id": "bc1ab15e",
   "metadata": {},
   "outputs": [
    {
     "name": "stdout",
     "output_type": "stream",
     "text": [
      "[20 30 40 50]\n"
     ]
    }
   ],
   "source": [
    "#como estamos intentando ejecutar una posicion que no existe simplemente nos da hasta el ultimo elemento posible\n",
    "print(array[1:7])"
   ]
  },
  {
   "cell_type": "code",
   "execution_count": null,
   "id": "c1fcd6e1",
   "metadata": {},
   "outputs": [
    {
     "name": "stdout",
     "output_type": "stream",
     "text": [
      "[]\n"
     ]
    }
   ],
   "source": [
    "#en este caso el vector se da en orden desde la posicion 1 hasta -7 posiciones como no tenemos nos muestra un []\n",
    "print(array[1:-7])"
   ]
  },
  {
   "cell_type": "code",
   "execution_count": null,
   "id": "b4d7f5d5",
   "metadata": {},
   "outputs": [
    {
     "name": "stdout",
     "output_type": "stream",
     "text": [
      "[False False  True  True  True]\n",
      "<class 'numpy.ndarray'>\n"
     ]
    }
   ],
   "source": [
    "# Realizamos indexacion booleana donde nos identifica bajo una condicion dada\n",
    "array = (np.array([10,20,30,40,50]))\n",
    "bool_index = array > 25\n",
    "print(bool_index)\n",
    "print(type(bool_index))"
   ]
  },
  {
   "cell_type": "code",
   "execution_count": null,
   "id": "2a6d3c7b",
   "metadata": {},
   "outputs": [
    {
     "name": "stdout",
     "output_type": "stream",
     "text": [
      "[30 10 50]\n"
     ]
    }
   ],
   "source": [
    "# a los indices podemos guardarllos bajo una variable para que nos traiga solo un parte del vector, es igual que el ejercicio de arriba \n",
    "#sin embargo aqui definimos en variables especificamente la porcion que queremos sacar del vector\n",
    "index = [2,0,4]\n",
    "print(array[index])"
   ]
  },
  {
   "cell_type": "code",
   "execution_count": null,
   "id": "af51c710",
   "metadata": {},
   "outputs": [
    {
     "name": "stdout",
     "output_type": "stream",
     "text": [
      "[[2 2 2]\n",
      " [2 5 5]\n",
      " [2 6 9]]\n",
      "2\n"
     ]
    }
   ],
   "source": [
    "#indexacion con multiples indices\n",
    "array = np.random.randint(1,10,size = (3,3))\n",
    "print(array)\n",
    "print(array[0,1])"
   ]
  },
  {
   "cell_type": "code",
   "execution_count": null,
   "id": "ba42b0ad",
   "metadata": {},
   "outputs": [
    {
     "name": "stdout",
     "output_type": "stream",
     "text": [
      "[[2 2]\n",
      " [2 5]]\n"
     ]
    }
   ],
   "source": [
    "#matrices bidimensionales basado en una porcion de una matriz de mas dimensiones, util al trabajar con grandes volumenes de datos\n",
    "print(array[:2,:2])"
   ]
  },
  {
   "cell_type": "markdown",
   "id": "11bce33a",
   "metadata": {},
   "source": [
    "# Boradcasting"
   ]
  },
  {
   "cell_type": "code",
   "execution_count": 44,
   "id": "19b2101e",
   "metadata": {},
   "outputs": [
    {
     "name": "stdout",
     "output_type": "stream",
     "text": [
      "[ 90. 180. 270.]\n"
     ]
    }
   ],
   "source": [
    "prices = np.array([100,200,300])\n",
    "discount= np.array([0.9])\n",
    "discount_prices = prices * discount\n",
    "print(discount_prices)\n"
   ]
  },
  {
   "cell_type": "code",
   "execution_count": 48,
   "id": "abb035d2",
   "metadata": {},
   "outputs": [
    {
     "name": "stdout",
     "output_type": "stream",
     "text": [
      "[[106 257 220]\n",
      " [401 261 343]\n",
      " [179 369 364]]\n",
      "[[107 259 223]\n",
      " [402 263 346]\n",
      " [180 371 367]]\n"
     ]
    }
   ],
   "source": [
    "prices = np.random.randint(100,500, size=(3,3))\n",
    "discount = np.array([1,2,3])\n",
    "discount_prices = prices + discount\n",
    "print(prices)\n",
    "print(discount_prices)"
   ]
  },
  {
   "cell_type": "code",
   "execution_count": null,
   "id": "cf2426e4",
   "metadata": {},
   "outputs": [
    {
     "name": "stdout",
     "output_type": "stream",
     "text": [
      "True\n"
     ]
    }
   ],
   "source": [
    "array = np.array([1,2,3,4,5])\n",
    "print(np.all(array>0)) #todos los slementos deben cumplir la condicion para que el retorno sea true."
   ]
  },
  {
   "cell_type": "code",
   "execution_count": null,
   "id": "d6fb9ec7",
   "metadata": {},
   "outputs": [],
   "source": [
    "print(np.all(array>0)) #cualquier elemento puede cumplir la condicion para retornar true"
   ]
  },
  {
   "cell_type": "markdown",
   "id": "4bb4acfa",
   "metadata": {},
   "source": [
    "# concatenated"
   ]
  },
  {
   "cell_type": "code",
   "execution_count": 57,
   "id": "8899c1b6",
   "metadata": {},
   "outputs": [
    {
     "name": "stdout",
     "output_type": "stream",
     "text": [
      "[1 2 3 4 5 6]\n",
      "[1 2 3 1 2 3]\n",
      "[1 2 3 4 5 6]\n"
     ]
    }
   ],
   "source": [
    "array_a = np.array([1,2,3])\n",
    "array_b = np.array([4,5,6])\n",
    "concatenated = np.concatenate((array_a, array_b))\n",
    "print(concatenated)\n",
    "# teniendo dos arrays usamos la funcion de numpy concatenate o concat para concatenar dos vectores.\n",
    "concatenated_a = np.concatenate((array_a, array_a))\n",
    "concatenated_ab = np.concatenate((array_a, array_b))\n",
    "print(concatenated_a)\n",
    "print(concatenated_ab)"
   ]
  },
  {
   "cell_type": "markdown",
   "id": "ed48f1ce",
   "metadata": {},
   "source": [
    "# Stacking"
   ]
  },
  {
   "cell_type": "code",
   "execution_count": null,
   "id": "dff98aed",
   "metadata": {},
   "outputs": [
    {
     "name": "stdout",
     "output_type": "stream",
     "text": [
      "[[1 2 3]\n",
      " [4 5 6]]\n"
     ]
    }
   ],
   "source": [
    "#El stacking nos permite concatenar ya sea de manera vertical u horizontal con la funcion np.vstack o np.hstack\n",
    "stacked_v = np.vstack((array_a,array_b))\n",
    "print(stacked_v)"
   ]
  },
  {
   "cell_type": "code",
   "execution_count": 60,
   "id": "475cd57a",
   "metadata": {},
   "outputs": [
    {
     "name": "stdout",
     "output_type": "stream",
     "text": [
      "[1 2 3 4 5 6]\n"
     ]
    }
   ],
   "source": [
    "stacked_h = np.hstack((array_a,array_b))\n",
    "print(stacked_h)"
   ]
  },
  {
   "cell_type": "markdown",
   "id": "44c54554",
   "metadata": {},
   "source": [
    "# Split"
   ]
  },
  {
   "cell_type": "code",
   "execution_count": null,
   "id": "5a341480",
   "metadata": {},
   "outputs": [
    {
     "name": "stdout",
     "output_type": "stream",
     "text": [
      "[1 2 3 4 5 6 7 8 9]\n",
      "[array([1, 2, 3]), array([4, 5, 6]), array([7, 8, 9])]\n"
     ]
    }
   ],
   "source": [
    "array_c = np.arange(1,10) #creamos un array entre un rango entre el 1 al 10\n",
    "split_array = np.split(array_c,3) #usamos la funcion split que nos permite separar en arrays mas pequeños, en este caso en 3\n",
    "print(array_c) #imprimimos el array completo\n",
    "print(split_array) #imprimimos el array en 3 arrays mas pequeños respectivamente sus valores."
   ]
  }
 ],
 "metadata": {
  "kernelspec": {
   "display_name": "venv",
   "language": "python",
   "name": "python3"
  },
  "language_info": {
   "codemirror_mode": {
    "name": "ipython",
    "version": 3
   },
   "file_extension": ".py",
   "mimetype": "text/x-python",
   "name": "python",
   "nbconvert_exporter": "python",
   "pygments_lexer": "ipython3",
   "version": "3.13.2"
  }
 },
 "nbformat": 4,
 "nbformat_minor": 5
}
