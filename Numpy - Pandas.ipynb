{
 "cells": [
  {
   "cell_type": "markdown",
   "id": "6a8cedc8",
   "metadata": {},
   "source": [
    "# Arrays en Numpy"
   ]
  },
  {
   "cell_type": "code",
   "execution_count": 3,
   "id": "df458399",
   "metadata": {},
   "outputs": [
    {
     "name": "stdout",
     "output_type": "stream",
     "text": [
      "<class 'numpy.ndarray'>\n",
      "42\n"
     ]
    }
   ],
   "source": [
    "import numpy as np\n",
    "escalar = np.array(42)\n",
    "print(type(escalar))\n",
    "print(escalar)"
   ]
  },
  {
   "cell_type": "code",
   "execution_count": 5,
   "id": "85e169ae",
   "metadata": {},
   "outputs": [
    {
     "name": "stdout",
     "output_type": "stream",
     "text": [
      "[30 29 35 31 33 36 42]\n"
     ]
    }
   ],
   "source": [
    "vector = np.array([30,29,35,31,33,36,42])\n",
    "print(vector)"
   ]
  },
  {
   "cell_type": "code",
   "execution_count": 8,
   "id": "324385a2",
   "metadata": {},
   "outputs": [
    {
     "name": "stdout",
     "output_type": "stream",
     "text": [
      "[[1 2 3]\n",
      " [4 5 6]\n",
      " [7 8 9]]\n"
     ]
    }
   ],
   "source": [
    "matrix = np.array([[1,2,3],[4,5,6],[7,8,9]])\n",
    "print(matrix)"
   ]
  },
  {
   "cell_type": "code",
   "execution_count": 9,
   "id": "46f598cf",
   "metadata": {},
   "outputs": [
    {
     "name": "stdout",
     "output_type": "stream",
     "text": [
      "[[1 2]\n",
      " [3 4]\n",
      " [5 6]\n",
      " [7 8]]\n"
     ]
    }
   ],
   "source": [
    "tensor = np.array([[1,2],[3,4],[5,6],[7,8]])\n",
    "print(tensor)"
   ]
  },
  {
   "cell_type": "code",
   "execution_count": 10,
   "id": "715a3f93",
   "metadata": {},
   "outputs": [
    {
     "name": "stdout",
     "output_type": "stream",
     "text": [
      "[0 1 2 3 4 5 6 7 8 9]\n"
     ]
    }
   ],
   "source": [
    "array_arange = np.arange(10)\n",
    "print(array_arange)"
   ]
  },
  {
   "cell_type": "code",
   "execution_count": 13,
   "id": "a8ae88a9",
   "metadata": {},
   "outputs": [
    {
     "name": "stdout",
     "output_type": "stream",
     "text": [
      "[[1. 0. 0. 0. 0. 0.]\n",
      " [0. 1. 0. 0. 0. 0.]\n",
      " [0. 0. 1. 0. 0. 0.]\n",
      " [0. 0. 0. 1. 0. 0.]\n",
      " [0. 0. 0. 0. 1. 0.]\n",
      " [0. 0. 0. 0. 0. 1.]]\n"
     ]
    }
   ],
   "source": [
    "eye_matrix = np.eye(6)\n",
    "print(eye_matrix)"
   ]
  },
  {
   "cell_type": "code",
   "execution_count": 15,
   "id": "66fa8673",
   "metadata": {},
   "outputs": [
    {
     "name": "stdout",
     "output_type": "stream",
     "text": [
      "[[1 0 0 0 0 0 0]\n",
      " [0 2 0 0 0 0 0]\n",
      " [0 0 3 0 0 0 0]\n",
      " [0 0 0 4 0 0 0]\n",
      " [0 0 0 0 5 0 0]\n",
      " [0 0 0 0 0 6 0]\n",
      " [0 0 0 0 0 0 7]]\n"
     ]
    }
   ],
   "source": [
    "diag = np.diag([1,2,3,4,5,6,7])\n",
    "print(diag)"
   ]
  },
  {
   "cell_type": "code",
   "execution_count": 16,
   "id": "658bedc9",
   "metadata": {},
   "outputs": [
    {
     "name": "stdout",
     "output_type": "stream",
     "text": [
      "[[0.99292438 0.84327964 0.69476081]\n",
      " [0.79272935 0.26099878 0.42153179]]\n"
     ]
    }
   ],
   "source": [
    "random = np.random.random((2,3))\n",
    "print(random)"
   ]
  },
  {
   "cell_type": "markdown",
   "id": "fc1a4933",
   "metadata": {},
   "source": [
    "# manipulacion de arrays numpy"
   ]
  },
  {
   "cell_type": "code",
   "execution_count": 20,
   "id": "f8960336",
   "metadata": {},
   "outputs": [
    {
     "name": "stdout",
     "output_type": "stream",
     "text": [
      "2\n",
      "(2, 3)\n",
      "int64\n"
     ]
    }
   ],
   "source": [
    "array = np.array([[1,2,3],[4,5,6]])\n",
    "print(array.ndim)\n",
    "print(array.shape)\n",
    "print(array.dtype)"
   ]
  },
  {
   "cell_type": "code",
   "execution_count": 22,
   "id": "7c493977",
   "metadata": {},
   "outputs": [
    {
     "name": "stdout",
     "output_type": "stream",
     "text": [
      "3\n"
     ]
    }
   ],
   "source": [
    "z = np.array(3,dtype = np.uint8)\n",
    "print(z)"
   ]
  },
  {
   "cell_type": "code",
   "execution_count": 23,
   "id": "1b738678",
   "metadata": {},
   "outputs": [
    {
     "name": "stdout",
     "output_type": "stream",
     "text": [
      "[1. 2. 3.]\n"
     ]
    }
   ],
   "source": [
    "double_array = np.array([1,2,3], dtype = 'd')\n",
    "print(double_array)"
   ]
  },
  {
   "cell_type": "code",
   "execution_count": 24,
   "id": "a722be18",
   "metadata": {},
   "outputs": [
    {
     "name": "stdout",
     "output_type": "stream",
     "text": [
      "3.0\n"
     ]
    }
   ],
   "source": [
    "z = z.astype(np.float64)\n",
    "print(z)"
   ]
  },
  {
   "cell_type": "code",
   "execution_count": 25,
   "id": "5d7e70f1",
   "metadata": {},
   "outputs": [
    {
     "name": "stdout",
     "output_type": "stream",
     "text": [
      "21\n"
     ]
    }
   ],
   "source": [
    "array = np.array([[1,2,3],[4,5,6]])\n",
    "add = np.sum(array)\n",
    "print(add)"
   ]
  },
  {
   "cell_type": "code",
   "execution_count": 26,
   "id": "217ed122",
   "metadata": {},
   "outputs": [
    {
     "name": "stdout",
     "output_type": "stream",
     "text": [
      "3.5\n"
     ]
    }
   ],
   "source": [
    "array = np.array([[1,2,3],[4,5,6]])\n",
    "mean = np.mean(array)\n",
    "print(mean)\n"
   ]
  },
  {
   "cell_type": "code",
   "execution_count": 27,
   "id": "286733c3",
   "metadata": {},
   "outputs": [
    {
     "name": "stdout",
     "output_type": "stream",
     "text": [
      "1.707825127659933\n"
     ]
    }
   ],
   "source": [
    "std = np.std(array)\n",
    "print(std)"
   ]
  },
  {
   "cell_type": "markdown",
   "id": "6f429987",
   "metadata": {},
   "source": [
    "# Indexacion y Slicing"
   ]
  },
  {
   "cell_type": "code",
   "execution_count": 41,
   "id": "0f91e410",
   "metadata": {},
   "outputs": [
    {
     "name": "stdout",
     "output_type": "stream",
     "text": [
      "20\n",
      "50\n"
     ]
    }
   ],
   "source": [
    "import numpy\n",
    "\n",
    "array = (np.array([10,20,30,40,50]))\n",
    "print(array[1])\n",
    "print(array[-1])"
   ]
  },
  {
   "cell_type": "code",
   "execution_count": null,
   "id": "79f49036",
   "metadata": {},
   "outputs": [
    {
     "name": "stdout",
     "output_type": "stream",
     "text": [
      "[20 30 40]\n"
     ]
    }
   ],
   "source": [
    "#sacamos una porcion del vector en este caso desde el elemento en la posicion 1 hasta la 4\n",
    "print(array[1:4])"
   ]
  },
  {
   "cell_type": "code",
   "execution_count": null,
   "id": "bc1ab15e",
   "metadata": {},
   "outputs": [
    {
     "name": "stdout",
     "output_type": "stream",
     "text": [
      "[20 30 40 50]\n"
     ]
    }
   ],
   "source": [
    "#como estamos intentando ejecutar una posicion que no existe simplemente nos da hasta el ultimo elemento posible\n",
    "print(array[1:7])"
   ]
  },
  {
   "cell_type": "code",
   "execution_count": null,
   "id": "c1fcd6e1",
   "metadata": {},
   "outputs": [
    {
     "name": "stdout",
     "output_type": "stream",
     "text": [
      "[]\n"
     ]
    }
   ],
   "source": [
    "#en este caso el vector se da en orden desde la posicion 1 hasta -7 posiciones como no tenemos nos muestra un []\n",
    "print(array[1:-7])"
   ]
  },
  {
   "cell_type": "code",
   "execution_count": null,
   "id": "b4d7f5d5",
   "metadata": {},
   "outputs": [
    {
     "name": "stdout",
     "output_type": "stream",
     "text": [
      "[False False  True  True  True]\n",
      "<class 'numpy.ndarray'>\n"
     ]
    }
   ],
   "source": [
    "# Realizamos indexacion booleana donde nos identifica bajo una condicion dada\n",
    "array = (np.array([10,20,30,40,50]))\n",
    "bool_index = array > 25\n",
    "print(bool_index)\n",
    "print(type(bool_index))"
   ]
  },
  {
   "cell_type": "code",
   "execution_count": null,
   "id": "2a6d3c7b",
   "metadata": {},
   "outputs": [
    {
     "name": "stdout",
     "output_type": "stream",
     "text": [
      "[30 10 50]\n"
     ]
    }
   ],
   "source": [
    "# a los indices podemos guardarllos bajo una variable para que nos traiga solo un parte del vector, es igual que el ejercicio de arriba \n",
    "#sin embargo aqui definimos en variables especificamente la porcion que queremos sacar del vector\n",
    "index = [2,0,4]\n",
    "print(array[index])"
   ]
  },
  {
   "cell_type": "code",
   "execution_count": null,
   "id": "af51c710",
   "metadata": {},
   "outputs": [
    {
     "name": "stdout",
     "output_type": "stream",
     "text": [
      "[[2 2 2]\n",
      " [2 5 5]\n",
      " [2 6 9]]\n",
      "2\n"
     ]
    }
   ],
   "source": [
    "#indexacion con multiples indices\n",
    "array = np.random.randint(1,10,size = (3,3))\n",
    "print(array)\n",
    "print(array[0,1])"
   ]
  },
  {
   "cell_type": "code",
   "execution_count": null,
   "id": "ba42b0ad",
   "metadata": {},
   "outputs": [
    {
     "name": "stdout",
     "output_type": "stream",
     "text": [
      "[[2 2]\n",
      " [2 5]]\n"
     ]
    }
   ],
   "source": [
    "#matrices bidimensionales basado en una porcion de una matriz de mas dimensiones, util al trabajar con grandes volumenes de datos\n",
    "print(array[:2,:2])"
   ]
  },
  {
   "cell_type": "markdown",
   "id": "11bce33a",
   "metadata": {},
   "source": [
    "# Boradcasting"
   ]
  },
  {
   "cell_type": "code",
   "execution_count": 44,
   "id": "19b2101e",
   "metadata": {},
   "outputs": [
    {
     "name": "stdout",
     "output_type": "stream",
     "text": [
      "[ 90. 180. 270.]\n"
     ]
    }
   ],
   "source": [
    "prices = np.array([100,200,300])\n",
    "discount= np.array([0.9])\n",
    "discount_prices = prices * discount\n",
    "print(discount_prices)\n"
   ]
  },
  {
   "cell_type": "code",
   "execution_count": 48,
   "id": "abb035d2",
   "metadata": {},
   "outputs": [
    {
     "name": "stdout",
     "output_type": "stream",
     "text": [
      "[[106 257 220]\n",
      " [401 261 343]\n",
      " [179 369 364]]\n",
      "[[107 259 223]\n",
      " [402 263 346]\n",
      " [180 371 367]]\n"
     ]
    }
   ],
   "source": [
    "prices = np.random.randint(100,500, size=(3,3))\n",
    "discount = np.array([1,2,3])\n",
    "discount_prices = prices + discount\n",
    "print(prices)\n",
    "print(discount_prices)"
   ]
  },
  {
   "cell_type": "code",
   "execution_count": null,
   "id": "cf2426e4",
   "metadata": {},
   "outputs": [
    {
     "name": "stdout",
     "output_type": "stream",
     "text": [
      "True\n"
     ]
    }
   ],
   "source": [
    "array = np.array([1,2,3,4,5])\n",
    "print(np.all(array>0)) #todos los slementos deben cumplir la condicion para que el retorno sea true."
   ]
  },
  {
   "cell_type": "code",
   "execution_count": null,
   "id": "d6fb9ec7",
   "metadata": {},
   "outputs": [],
   "source": [
    "print(np.all(array>0)) #cualquier elemento puede cumplir la condicion para retornar true"
   ]
  },
  {
   "cell_type": "markdown",
   "id": "4bb4acfa",
   "metadata": {},
   "source": [
    "# concatenated"
   ]
  },
  {
   "cell_type": "code",
   "execution_count": 57,
   "id": "8899c1b6",
   "metadata": {},
   "outputs": [
    {
     "name": "stdout",
     "output_type": "stream",
     "text": [
      "[1 2 3 4 5 6]\n",
      "[1 2 3 1 2 3]\n",
      "[1 2 3 4 5 6]\n"
     ]
    }
   ],
   "source": [
    "array_a = np.array([1,2,3])\n",
    "array_b = np.array([4,5,6])\n",
    "concatenated = np.concatenate((array_a, array_b))\n",
    "print(concatenated)\n",
    "# teniendo dos arrays usamos la funcion de numpy concatenate o concat para concatenar dos vectores.\n",
    "concatenated_a = np.concatenate((array_a, array_a))\n",
    "concatenated_ab = np.concatenate((array_a, array_b))\n",
    "print(concatenated_a)\n",
    "print(concatenated_ab)"
   ]
  },
  {
   "cell_type": "markdown",
   "id": "ed48f1ce",
   "metadata": {},
   "source": [
    "# Stacking"
   ]
  },
  {
   "cell_type": "code",
   "execution_count": null,
   "id": "dff98aed",
   "metadata": {},
   "outputs": [
    {
     "name": "stdout",
     "output_type": "stream",
     "text": [
      "[[1 2 3]\n",
      " [4 5 6]]\n"
     ]
    }
   ],
   "source": [
    "#El stacking nos permite concatenar ya sea de manera vertical u horizontal con la funcion np.vstack o np.hstack\n",
    "stacked_v = np.vstack((array_a,array_b))\n",
    "print(stacked_v)"
   ]
  },
  {
   "cell_type": "code",
   "execution_count": 60,
   "id": "475cd57a",
   "metadata": {},
   "outputs": [
    {
     "name": "stdout",
     "output_type": "stream",
     "text": [
      "[1 2 3 4 5 6]\n"
     ]
    }
   ],
   "source": [
    "stacked_h = np.hstack((array_a,array_b))\n",
    "print(stacked_h)"
   ]
  },
  {
   "cell_type": "markdown",
   "id": "44c54554",
   "metadata": {},
   "source": [
    "# Split"
   ]
  },
  {
   "cell_type": "code",
   "execution_count": null,
   "id": "5a341480",
   "metadata": {},
   "outputs": [
    {
     "name": "stdout",
     "output_type": "stream",
     "text": [
      "[1 2 3 4 5 6 7 8 9]\n",
      "[array([1, 2, 3]), array([4, 5, 6]), array([7, 8, 9])]\n"
     ]
    }
   ],
   "source": [
    "array_c = np.arange(1,10) #creamos un array entre un rango entre el 1 al 10\n",
    "split_array = np.split(array_c,3) #usamos la funcion split que nos permite separar en arrays mas pequeños, en este caso en 3\n",
    "print(array_c) #imprimimos el array completo\n",
    "print(split_array) #imprimimos el array en 3 arrays mas pequeños respectivamente sus valores."
   ]
  },
  {
   "cell_type": "markdown",
   "id": "1fb12ed9",
   "metadata": {},
   "source": [
    "# identify and unique responses"
   ]
  },
  {
   "cell_type": "code",
   "execution_count": null,
   "id": "ff2f9cc7",
   "metadata": {},
   "outputs": [
    {
     "name": "stdout",
     "output_type": "stream",
     "text": [
      "['bad' 'excelent' 'good']\n"
     ]
    }
   ],
   "source": [
    "#vamos a identificar valores unicos\n",
    "survey_responses = np.array([\"good\",\"excelent\",\"bad\",\n",
    "                             \"good\",\"bad\",\"excelent\",\n",
    "                             \"good\",\"good\",\"bad\",\n",
    "                             \"excelent\"                             \n",
    "                             ])\n",
    "print(np.unique(survey_responses))"
   ]
  },
  {
   "cell_type": "code",
   "execution_count": null,
   "id": "f1837d3c",
   "metadata": {},
   "outputs": [
    {
     "name": "stdout",
     "output_type": "stream",
     "text": [
      "['bad' 'excelent' 'good']\n",
      "[3 3 4]\n"
     ]
    }
   ],
   "source": [
    "#Realizamos el conteo de cuantas veces se encuentra un valor en la lista\n",
    "unique_elements, count = np.unique(survey_responses, return_counts = True)\n",
    "print(unique_elements)\n",
    "print(count)"
   ]
  },
  {
   "cell_type": "code",
   "execution_count": null,
   "id": "7ce67019",
   "metadata": {},
   "outputs": [
    {
     "name": "stdout",
     "output_type": "stream",
     "text": [
      "[0 1 2 3 4 5 6 7 8 9]\n",
      "[1 2]\n",
      "[ 0 10 11  3  4  5  6  7  8  9]\n",
      "[10 11]\n"
     ]
    }
   ],
   "source": [
    "array_x = np.arange(10)\n",
    "view_y = array_x[1:3]\n",
    "print(array_x)\n",
    "print(view_y)\n",
    "array_x[1:3] = [10,11]\n",
    "print(array_x)\n",
    "print(view_y)\n",
    "#observamos que es posible modificar la información de origen por ello al realizar algun proceso de transformacion siempre se recomienda \n",
    "#realizar copias de la lista,tupla,conjunto, dataframe,etc\n"
   ]
  },
  {
   "cell_type": "code",
   "execution_count": null,
   "id": "6e64ea1c",
   "metadata": {},
   "outputs": [
    {
     "name": "stdout",
     "output_type": "stream",
     "text": [
      "[0 1 2 3 4 5 6 7 8 9]\n",
      "[1 2]\n",
      "[ 0 10 11  3  4  5  6  7  8  9]\n",
      "[1 2]\n"
     ]
    }
   ],
   "source": [
    "array_x = np.arange(10)\n",
    "copy_x = array_x[[1,2]]\n",
    "print(array_x)\n",
    "print(copy_x)\n",
    "array_x[1:3] = [10,11]\n",
    "print(array_x)\n",
    "print(copy_x)\n",
    "#obsrevamos que se mantienen los valores en la copia\n",
    "\n"
   ]
  },
  {
   "cell_type": "markdown",
   "id": "b5c3f7ec",
   "metadata": {},
   "source": [
    "# Transformations with arrays\n",
    "## Transposed"
   ]
  },
  {
   "cell_type": "code",
   "execution_count": null,
   "id": "ca0cf822",
   "metadata": {},
   "outputs": [
    {
     "name": "stdout",
     "output_type": "stream",
     "text": [
      "[[1 2 3]\n",
      " [4 5 6]\n",
      " [7 8 9]]\n",
      "[[1 4 7]\n",
      " [2 5 8]\n",
      " [3 6 9]]\n"
     ]
    }
   ],
   "source": [
    "matrix = np.array([[1,2,3],[4,5,6],[7,8,9]])\n",
    "transposed_matrix = matrix.T #la funcion T ns da la transpuesta de la matriz\n",
    "print(matrix)\n",
    "print(transposed_matrix)\n"
   ]
  },
  {
   "cell_type": "markdown",
   "id": "696bd89d",
   "metadata": {},
   "source": [
    "## Shape"
   ]
  },
  {
   "cell_type": "code",
   "execution_count": null,
   "id": "73bfc855",
   "metadata": {},
   "outputs": [
    {
     "name": "stdout",
     "output_type": "stream",
     "text": [
      "[ 1  2  3  4  5  6  7  8  9 10 11 12]\n",
      "[[ 1  2  3  4]\n",
      " [ 5  6  7  8]\n",
      " [ 9 10 11 12]]\n"
     ]
    }
   ],
   "source": [
    "array = np.arange(1,13)\n",
    "reshaped_array = array.reshape(3,4) #la funcion reshape me cambia la dimensionalidad que del array que tenga conservando valores\n",
    "print(array)\n",
    "print(reshaped_array)\n"
   ]
  },
  {
   "cell_type": "markdown",
   "id": "c6216fbd",
   "metadata": {},
   "source": [
    "## reverse"
   ]
  },
  {
   "cell_type": "code",
   "execution_count": null,
   "id": "ff6078f8",
   "metadata": {},
   "outputs": [
    {
     "name": "stdout",
     "output_type": "stream",
     "text": [
      "[ 1  2  3  4  5  6  7  8  9 10 11 12]\n",
      "[12 11 10  9  8  7  6  5  4  3  2  1]\n"
     ]
    }
   ],
   "source": [
    "reversed_array = array[::-1] #cambiamos el orden de manera del ultimo elemento al primero respectivamente\n",
    "print(array) #imprimimos el array sin modificaciones\n",
    "print(reversed_array) #nos muestra el array modificado el orden\n"
   ]
  },
  {
   "cell_type": "markdown",
   "id": "7c98950d",
   "metadata": {},
   "source": [
    "## flattening"
   ]
  },
  {
   "cell_type": "code",
   "execution_count": null,
   "id": "786b54d8",
   "metadata": {},
   "outputs": [
    {
     "name": "stdout",
     "output_type": "stream",
     "text": [
      "[[1 2 3]\n",
      " [4 5 6]\n",
      " [7 8 9]]\n",
      "[1 2 3 4 5 6 7 8 9]\n"
     ]
    }
   ],
   "source": [
    "# transformamos la dimensionalidad de una matriz en un venctor, lo \"aplanamos\", esta transformacion es usada en deep learning\n",
    "matrix = np.array([[1,2,3],[4,5,6],[7,8,9]])\n",
    "flattened_array = matrix.flatten()\n",
    "print(matrix)\n",
    "print(flattened_array)\n"
   ]
  },
  {
   "cell_type": "markdown",
   "id": "86587abd",
   "metadata": {},
   "source": [
    "# Ejercicio practico\n",
    "Ejercicio: Análisis de Ventas Mensuales con NumPy\n",
    "El objetivo de este ejercicio es trabajar con arrays de NumPy para analizar y manipular datos de ventas de tres productos a lo largo de un año. A través de diversas operaciones, explorarás cómo usar NumPy para obtener estadísticas, realizar manipulaciones avanzadas y aplicar técnicas de indexación para extraer información clave.\n",
    "\n",
    "Instrucciones:\n",
    "\n",
    "Paso 1: Crear Arrays con Datos de Ventas\n",
    "\n",
    "Usa la librería numpy para crear los siguientes arrays:\n",
    "meses: un array con los nombres de los meses del año.\n",
    "ventas_A, ventas_B, ventas_C: arrays que representan las ventas mensuales de tres productos diferentes.\n",
    "Paso 2: Estadísticas Básicas\n",
    "\n",
    "Calcula la media y la suma de ventas para los productos A, B y C usando las funciones de NumPy.\n",
    "Imprime estos valores en el formato siguiente:\n",
    "Media de ventas Producto A: <valor>\n",
    "Suma de ventas Producto A: <valor>\n",
    "Repite para los productos B y C.\n",
    "Paso 3: Manipulación y Análisis de Datos\n",
    "\n",
    "Total de ventas por mes: Suma las ventas de los tres productos para cada mes.\n",
    "Promedio de ventas por producto: Calcula el promedio de ventas por producto.\n",
    "Mes con mayor y menor ventas: Identifica qué mes tuvo el total de ventas más alto y cuál el más bajo usando las funciones np.argmax y np.argmin.\n",
    "Paso 4: Operaciones Avanzadas con NumPy\n",
    "\n",
    "Reshape y Transposición:\n",
    "\n",
    "Crea una matriz 2D con las ventas de los tres productos y transforma su forma (reshape) a un array tridimensional con dimensiones (3, 4, 3).\n",
    "Transpone la matriz de ventas para que las filas se conviertan en columnas.\n",
    "Invertir arrays: Invierte las ventas de cada producto en orden de meses.\n",
    "Aplanar la matriz: Convierte la matriz de ventas a un array unidimensional.\n",
    "Paso 5: Análisis de Elementos Únicos\n",
    "\n",
    "Utiliza np.unique para encontrar los elementos únicos en los datos de ventas y cuenta cuántas veces aparece cada uno.\n",
    "Paso 6: Indexación y Slicing\n",
    "\n",
    "Ventas del primer trimestre: Extrae las ventas de los tres primeros meses del año.\n",
    "Indexación booleana: Selecciona los meses donde el total de ventas de los tres productos supere los 800.\n",
    "Selección avanzada: Usa una lista de índices para seleccionar las ventas de los meses pares (o selecciona los meses a tu elección) y muestra esas ventas en una nueva matriz."
   ]
  },
  {
   "cell_type": "code",
   "execution_count": 109,
   "id": "f51e7da7",
   "metadata": {},
   "outputs": [],
   "source": [
    "# Paso 1\n",
    "months = np.array([\n",
    "    'Enero', 'Febrero', 'Marzo', 'Abril', 'Mayo', 'Junio', \n",
    "    'Julio', 'Agosto', 'Septiembre', 'Octubre', 'Noviembre', 'Diciembre'\n",
    "])\n",
    "\n",
    "product_A = np.array([150, 200, 250, 300, 220, 210, 180, 190, 230, 240, 280, 300])\n",
    "product_B = np.array([180, 210, 230, 250, 270, 260, 240, 250, 270, 290, 310, 330])\n",
    "product_C = np.array([200, 220, 240, 260, 280, 300, 320, 340, 360, 380, 400, 420])"
   ]
  },
  {
   "cell_type": "code",
   "execution_count": 120,
   "id": "f3378334",
   "metadata": {},
   "outputs": [
    {
     "name": "stdout",
     "output_type": "stream",
     "text": [
      "Media de ventas Producto A:\n",
      "Suma de ventas Producto A:\n",
      "Media de ventas Producto B:\n",
      "Suma de ventas Producto B:\n",
      "Media de ventas Producto C:\n",
      "Suma de ventas Producto C:\n",
      "\n",
      "2750\n"
     ]
    }
   ],
   "source": [
    "# Paso 2\n",
    "sum_sales_A = np.sum(product_A)\n",
    "sum_sales_A = np.sum(product_B)\n",
    "sum_sales_A = np.sum(product_C)\n",
    "sum_sales_A = np.sum(product_A)\n",
    "mean_sales_A = np.mean(product_A)\n",
    "mean_sales_B = np.mean(product_B)\n",
    "mean_sales_C = np.mean(product_C)\n",
    "print(\"Media de ventas Producto A:\"+\"\\n\"\n",
    "\"Suma de ventas Producto A:\"+\"\\n\"\n",
    "\"Media de ventas Producto B:\"+ \"\\n\"\n",
    "\"Suma de ventas Producto B:\"+ \"\\n\"\n",
    "\"Media de ventas Producto C:\"+ \"\\n\"\n",
    "\"Suma de ventas Producto C:\"+ \"\\n\")\n",
    "print(sum_sales_A)"
   ]
  },
  {
   "cell_type": "code",
   "execution_count": 141,
   "id": "0e78c999",
   "metadata": {},
   "outputs": [
    {
     "name": "stdout",
     "output_type": "stream",
     "text": [
      "Para el mes de Enero el total de ventas fue: 530\n",
      "Para el mes de Febrero el total de ventas fue: 630\n",
      "Para el mes de Marzo el total de ventas fue: 720\n",
      "Para el mes de Abril el total de ventas fue: 810\n",
      "Para el mes de Mayo el total de ventas fue: 770\n",
      "Para el mes de Junio el total de ventas fue: 770\n",
      "Para el mes de Julio el total de ventas fue: 740\n",
      "Para el mes de Agosto el total de ventas fue: 780\n",
      "Para el mes de Septiembre el total de ventas fue: 860\n",
      "Para el mes de Octubre el total de ventas fue: 910\n",
      "Para el mes de Noviembre el total de ventas fue: 990\n",
      "Para el mes de Diciembre el total de ventas fue: 1050\n",
      "El promedio de ventas para el producto A fue de 229.16666666666666\n",
      "El promedio de ventas para el producto A fue de 257.5\n",
      "El promedio de ventas para el producto A fue de 310.0\n",
      "El mes que mas tuvo ventas fue:Febrero\n",
      "con ventas por valor de:11\n",
      "11\n",
      "0\n",
      "11\n",
      "0\n",
      "11\n",
      "0\n",
      "[[150 200 250 300 220 210 180 190 230 240 280 300]\n",
      " [180 210 230 250 270 260 240 250 270 290 310 330]\n",
      " [200 220 240 260 280 300 320 340 360 380 400 420]]\n",
      "Cambio de forma\n",
      "[[[150 200 250]\n",
      "  [300 220 210]\n",
      "  [180 190 230]\n",
      "  [240 280 300]]\n",
      "\n",
      " [[180 210 230]\n",
      "  [250 270 260]\n",
      "  [240 250 270]\n",
      "  [290 310 330]]\n",
      "\n",
      " [[200 220 240]\n",
      "  [260 280 300]\n",
      "  [320 340 360]\n",
      "  [380 400 420]]]\n",
      "Transupuesta\n",
      "[[150 180 200]\n",
      " [200 210 220]\n",
      " [250 230 240]\n",
      " [300 250 260]\n",
      " [220 270 280]\n",
      " [210 260 300]\n",
      " [180 240 320]\n",
      " [190 250 340]\n",
      " [230 270 360]\n",
      " [240 290 380]\n",
      " [280 310 400]\n",
      " [300 330 420]]\n",
      "Invierte Array\n",
      "['Diciembre' 'Noviembre' 'Octubre' 'Septiembre' 'Agosto' 'Julio' 'Junio'\n",
      " 'Mayo' 'Abril' 'Marzo' 'Febrero' 'Enero']\n",
      "[300 280 240 230 190 180 210 220 300 250 200 150]\n",
      "[330 310 290 270 250 240 260 270 250 230 210 180]\n",
      "[420 400 380 360 340 320 300 280 260 240 220 200]\n",
      "Ventas_Aplanado\n",
      "[150 200 250 300 220 210 180 190 230 240 280 300 180 210 230 250 270 260\n",
      " 240 250 270 290 310 330 200 220 240 260 280 300 320 340 360 380 400 420]\n",
      "Elementos y Conteo\n",
      "Elementos unicos [150 180 190 200 210 220 230 240 250 260 270 280 290 300 310 320 330 340\n",
      " 360 380 400 420]\n",
      "Conteo [1 2 1 2 2 2 2 3 3 2 2 2 1 3 1 1 1 1 1 1 1 1]\n",
      "Ventas totales primer trimestre  [530 630 720]\n",
      "['Abril' 'Septiembre' 'Octubre' 'Noviembre' 'Diciembre']\n",
      "Seleccion avanzada\n",
      "Ventas en meses seleccionados:\n",
      " [[150 250 220 180 230 280]\n",
      " [180 230 270 240 270 310]\n",
      " [200 240 280 320 360 400]]\n"
     ]
    }
   ],
   "source": [
    "#total de ventas por mes\n",
    "total_sales_A = product_A+product_B+product_C\n",
    "print(f\"Para el mes de {months[0]} el total de ventas fue: {total_sales_A[0]}\")\n",
    "print(f\"Para el mes de {months[1]} el total de ventas fue: {total_sales_A[1]}\")\n",
    "print(f\"Para el mes de {months[2]} el total de ventas fue: {total_sales_A[2]}\")\n",
    "print(f\"Para el mes de {months[3]} el total de ventas fue: {total_sales_A[3]}\")\n",
    "print(f\"Para el mes de {months[4]} el total de ventas fue: {total_sales_A[4]}\")\n",
    "print(f\"Para el mes de {months[5]} el total de ventas fue: {total_sales_A[5]}\")\n",
    "print(f\"Para el mes de {months[6]} el total de ventas fue: {total_sales_A[6]}\")\n",
    "print(f\"Para el mes de {months[7]} el total de ventas fue: {total_sales_A[7]}\")\n",
    "print(f\"Para el mes de {months[8]} el total de ventas fue: {total_sales_A[8]}\")\n",
    "print(f\"Para el mes de {months[9]} el total de ventas fue: {total_sales_A[9]}\")\n",
    "print(f\"Para el mes de {months[10]} el total de ventas fue: {total_sales_A[10]}\")\n",
    "print(f\"Para el mes de {months[11]} el total de ventas fue: {total_sales_A[11]}\")\n",
    "\n",
    "\n",
    "#promedio de ventas por producto\n",
    "print(f\"El promedio de ventas para el producto A fue de {mean_sales_A}\")\n",
    "print(f\"El promedio de ventas para el producto A fue de {mean_sales_B}\")\n",
    "print(f\"El promedio de ventas para el producto A fue de {mean_sales_C}\")\n",
    "\n",
    "#mes con mayor y menores ventas\n",
    "Max_sales_month = np.argmax(product_A+product_B+product_C)\n",
    "Min_sales_month_A = np.argmin(product_A)\n",
    "Max_sales_month_B = np.argmax(product_B)\n",
    "Min_sales_month_B = np.argmin(product_B)\n",
    "Max_sales_month_C = np.argmax(product_C)\n",
    "Min_sales_month_C = np.argmin(product_C)\n",
    "print(f\"El mes que mas tuvo ventas fue:{months[1]}\\n\"+\n",
    "    f\"con ventas por valor de:{Max_sales_month}\")\n",
    "print(Max_sales_month_A)\n",
    "print(Min_sales_month_A)\n",
    "print(Max_sales_month_B)\n",
    "print(Min_sales_month_B)\n",
    "print(Max_sales_month_C)\n",
    "print(Min_sales_month_C)\n",
    "\n",
    "productoA_B_C_2D= np.array([[150,200,250,300,220,210,180,190,230,240,280, 300],[180,210,230,250,270,260,240,250,270,290,310,330],[200,220,240,260,280,300,320,340,360,380,400,420]])\n",
    "print(productoA_B_C_2D)\n",
    "\n",
    "# Otra forma ventas_matrix = np.array([ventas_A, ventas_B, ventas_C])\n",
    "\n",
    "print(\"Cambio de forma\")\n",
    "reshaped_array= productoA_B_C_2D.reshape(3, 4, 3)\n",
    "print(reshaped_array)\n",
    "\n",
    "print(\"Transupuesta\")\n",
    "transpuesta_producto= productoA_B_C_2D.T\n",
    "print(transpuesta_producto)\n",
    "\n",
    "print(\"Invierte Array\")\n",
    "meses_invertido= months[::-1].copy()\n",
    "\n",
    "productoA_invertido = product_A[::-1].copy()\n",
    "productoB_invertido = product_B[::-1].copy()\n",
    "productoC_invertido = product_C[::-1].copy()\n",
    "print(meses_invertido)\n",
    "print(productoA_invertido)\n",
    "print(productoB_invertido)\n",
    "print(productoC_invertido)\n",
    "\n",
    "print(\"Ventas_Aplanado\")\n",
    "Ventas_Aplanado= productoA_B_C_2D.flatten()\n",
    "print(Ventas_Aplanado)\n",
    "\n",
    "\"\"\"\n",
    "Paso 5: Análisis de Elementos Únicos\n",
    "Utiliza np.unique para encontrar los elementos únicos en los datos de ventas y cuenta cuántas veces aparece cada uno.\n",
    "\"\"\"\n",
    "\n",
    "print(\"Elementos y Conteo\")\n",
    "elementos_unico,conteo= np.unique(Ventas_Aplanado, return_counts=True )\n",
    "\n",
    "print(\"Elementos unicos\", elementos_unico)\n",
    "print(\"Conteo\", conteo)\n",
    "\n",
    "\n",
    "\"\"\"\n",
    "**Paso 6: Indexación y Slicing**\n",
    "\n",
    "- Ventas del primer trimestre: Extrae las ventas de los tres primeros meses del año.\n",
    "- Indexación booleana: Selecciona los meses donde el total de ventas de los tres productos supere los 800.\n",
    "- Selección avanzada: Usa una lista de índices para seleccionar las ventas de los meses pares (o selecciona los meses a tu elección) y muestra esas ventas en una nueva matriz\n",
    "\"\"\"\n",
    "\n",
    "ventas_primer_Trimestre= np.array(total_sales_A[0:3])\n",
    "print(\"Ventas totales primer trimestre \", ventas_primer_Trimestre)\n",
    "\n",
    "ventas_mayor_cond= total_sales_A>800\n",
    "print(months[ventas_mayor_cond])\n",
    "\n",
    "print(\"Seleccion avanzada\")\n",
    "par = [0, 2, 4, 6, 8, 10]\n",
    "ventas_par_seleccionados = productoA_B_C_2D[:, par]\n",
    "print(\"Ventas en meses seleccionados:\\n\", ventas_par_seleccionados)\n"
   ]
  },
  {
   "cell_type": "markdown",
   "id": "da45e270",
   "metadata": {},
   "source": [
    "# Operations withs lineal algebra"
   ]
  },
  {
   "cell_type": "code",
   "execution_count": null,
   "id": "71d6c959",
   "metadata": {},
   "outputs": [
    {
     "name": "stdout",
     "output_type": "stream",
     "text": [
      "[[1 2]\n",
      " [3 4]]\n",
      "[[5 6]\n",
      " [7 8]]\n",
      "[[ 6  8]\n",
      " [10 12]]\n"
     ]
    }
   ],
   "source": [
    "A = np.array([[1,2],[3,4]])\n",
    "B = np.array([[5,6],[7,8]])\n",
    "\n",
    "#suma\n",
    "sum = A+B\n",
    "print(A)\n",
    "print(B)\n",
    "print(sum)\n",
    "\n"
   ]
  },
  {
   "cell_type": "code",
   "execution_count": null,
   "id": "64e905f5",
   "metadata": {},
   "outputs": [
    {
     "name": "stdout",
     "output_type": "stream",
     "text": [
      "[[19 22]\n",
      " [43 50]]\n"
     ]
    }
   ],
   "source": [
    "#multiplicacion\n",
    "product = np.dot(A,B)\n",
    "print(product)\n"
   ]
  },
  {
   "cell_type": "code",
   "execution_count": 146,
   "id": "7408c67c",
   "metadata": {},
   "outputs": [
    {
     "name": "stdout",
     "output_type": "stream",
     "text": [
      "[[1 2]\n",
      " [3 4]]\n",
      "-2.0000000000000004\n",
      "[[-2.   1. ]\n",
      " [ 1.5 -0.5]]\n"
     ]
    }
   ],
   "source": [
    "A = np.array([[1,2],[3,4]])\n",
    "B = np.array([[5,6],[7,8]])\n",
    "det_A = np.linalg.det(A)\n",
    "inv_A = np.linalg.inv(A)\n",
    "print(A)\n",
    "print(det_A)\n",
    "print(inv_A)"
   ]
  },
  {
   "cell_type": "code",
   "execution_count": 147,
   "id": "e17c53d5",
   "metadata": {},
   "outputs": [
    {
     "name": "stdout",
     "output_type": "stream",
     "text": [
      "[-7.  8.]\n"
     ]
    }
   ],
   "source": [
    "#resolver Ax = b\n",
    "b = np.array([9,11])\n",
    "x = np.linalg.solve(A,b)\n",
    "print(x)"
   ]
  },
  {
   "cell_type": "markdown",
   "id": "d8846321",
   "metadata": {},
   "source": [
    "# Ejercicios Prácticos con NumPy\n",
    "Vamos a consolidar lo que has aprendido con ejercicios exclusivos de NumPy, diseñados para reforzar tus habilidades y prepararte para las conexiones futuras con Pandas y Matplotlib.\n",
    "\n",
    "Operaciones Básicas con Arrays\n",
    "Instrucción: Crea dos arrays de 1D con valores enteros y realiza las operaciones de suma, resta, multiplicación, y división entre ellos."
   ]
  },
  {
   "cell_type": "code",
   "execution_count": 148,
   "id": "215b3207",
   "metadata": {},
   "outputs": [
    {
     "name": "stdout",
     "output_type": "stream",
     "text": [
      "Suma: [11 22 33 44]\n",
      "Resta: [ 9 18 27 36]\n",
      "Multiplicación: [ 10  40  90 160]\n",
      "División: [10. 10. 10. 10.]\n"
     ]
    }
   ],
   "source": [
    "import numpy as np\n",
    "\n",
    "array1 = np.array([10, 20, 30, 40])\n",
    "array2 = np.array([1, 2, 3, 4])\n",
    "\n",
    "suma = array1 + array2\n",
    "resta = array1 - array2\n",
    "multiplicacion = array1 * array2\n",
    "division = array1 / array2\n",
    "\n",
    "print(\"Suma:\", suma)\n",
    "print(\"Resta:\", resta)\n",
    "print(\"Multiplicación:\", multiplicacion)\n",
    "print(\"División:\", division)"
   ]
  },
  {
   "cell_type": "markdown",
   "id": "6490d11b",
   "metadata": {},
   "source": [
    "## 2. Cálculos Estadísticos en Arrays\n",
    "Instrucción: Dado un array de datos, calcula la media, mediana, varianza, y desviación estándar."
   ]
  },
  {
   "cell_type": "code",
   "execution_count": 149,
   "id": "7c235639",
   "metadata": {},
   "outputs": [
    {
     "name": "stdout",
     "output_type": "stream",
     "text": [
      "Media: 57.44444444444444\n",
      "Mediana: 67.0\n",
      "Varianza: 484.02469135802465\n",
      "Desviación estándar: 22.000561160071\n"
     ]
    }
   ],
   "source": [
    "\n",
    "import numpy as np\n",
    "\n",
    "datos = np.array([23, 76, 35, 67, 89, 45, 68, 79, 35])\n",
    "\n",
    "media = np.mean(datos)\n",
    "mediana = np.median(datos)\n",
    "varianza = np.var(datos)\n",
    "desviacion = np.std(datos)\n",
    "\n",
    "print(\"Media:\", media)\n",
    "print(\"Mediana:\", mediana)\n",
    "print(\"Varianza:\", varianza)\n",
    "print(\"Desviación estándar:\", desviacion)"
   ]
  },
  {
   "cell_type": "markdown",
   "id": "398edb6b",
   "metadata": {},
   "source": [
    "## 3. Operaciones Matriciales\n",
    "Instrucción: Crea dos matrices de 2x2 y realiza las operaciones de suma, resta, multiplicación (producto matricial) y cálculo de la inversa de una de ellas."
   ]
  },
  {
   "cell_type": "code",
   "execution_count": null,
   "id": "e5235f70",
   "metadata": {},
   "outputs": [],
   "source": [
    "import numpy as np\n",
    "\n",
    "matriz1 = np.array([[1, 2], [3, 4]])\n",
    "matriz2 = np.array([[5, 6], [7, 8]])\n",
    "\n",
    "suma_matrices = matriz1 + matriz2\n",
    "resta_matrices = matriz1 - matriz2\n",
    "producto_matrices = np.dot(matriz1, matriz2)\n",
    "inversa_matriz1 = np.linalg.inv(matriz1)\n",
    "\n",
    "print(\"Suma de matrices:\\n\", suma_matrices)\n",
    "print(\"Resta de matrices:\\n\", resta_matrices)\n",
    "print(\"Producto de matrices:\\n\", producto_matrices)\n",
    "print(\"Inversa de la matriz 1:\\n\", inversa_matriz1)"
   ]
  },
  {
   "cell_type": "markdown",
   "id": "10b03559",
   "metadata": {},
   "source": [
    "## 4. Resolución de un Sistema de Ecuaciones Lineales\n",
    "Instrucción: Resuelve el sistema de ecuaciones lineales dado por Ax=b, donde A es una matriz 2x2 y b es un vector de 2 elementos.\n",
    "\n",
    "Ax=bAx = b"
   ]
  },
  {
   "cell_type": "code",
   "execution_count": 151,
   "id": "bd6bc980",
   "metadata": {},
   "outputs": [
    {
     "name": "stdout",
     "output_type": "stream",
     "text": [
      "Solución del sistema de ecuaciones: [1. 2.]\n"
     ]
    }
   ],
   "source": [
    "import numpy as np\n",
    "\n",
    "A = np.array([[2, 3], [1, 2]])\n",
    "b = np.array([8, 5])\n",
    "\n",
    "x = np.linalg.solve(A, b)\n",
    "print(\"Solución del sistema de ecuaciones:\", x)"
   ]
  },
  {
   "cell_type": "markdown",
   "id": "feec2863",
   "metadata": {},
   "source": [
    "## 5. Simulación de Datos\n",
    "Instrucción: Genera un array de 1000 números aleatorios que sigan una distribución normal con media 0 y desviación estándar 1. Calcula la media y desviación estándar del array generado."
   ]
  },
  {
   "cell_type": "code",
   "execution_count": 150,
   "id": "8564f6a1",
   "metadata": {},
   "outputs": [
    {
     "name": "stdout",
     "output_type": "stream",
     "text": [
      "Media de los datos simulados: 0.008230053285713895\n",
      "Desviación estándar de los datos simulados: 1.0286458110531616\n"
     ]
    }
   ],
   "source": [
    "import numpy as np\n",
    "\n",
    "datos_simulados = np.random.normal(0, 1, 1000)\n",
    "media_simulada = np.mean(datos_simulados)\n",
    "desviacion_simulada = np.std(datos_simulados)\n",
    "\n",
    "print(\"Media de los datos simulados:\", media_simulada)\n",
    "print(\"Desviación estándar de los datos simulados:\", desviacion_simulada)"
   ]
  }
 ],
 "metadata": {
  "kernelspec": {
   "display_name": "venv",
   "language": "python",
   "name": "python3"
  },
  "language_info": {
   "codemirror_mode": {
    "name": "ipython",
    "version": 3
   },
   "file_extension": ".py",
   "mimetype": "text/x-python",
   "name": "python",
   "nbconvert_exporter": "python",
   "pygments_lexer": "ipython3",
   "version": "3.13.2"
  }
 },
 "nbformat": 4,
 "nbformat_minor": 5
}
