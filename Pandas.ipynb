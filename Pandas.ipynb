{
 "cells": [
  {
   "cell_type": "markdown",
   "id": "5eae5192",
   "metadata": {},
   "source": [
    "# Pandas"
   ]
  },
  {
   "cell_type": "code",
   "execution_count": 70,
   "id": "0174646f",
   "metadata": {},
   "outputs": [
    {
     "name": "stdout",
     "output_type": "stream",
     "text": [
      "       InvoiceNo StockCode                          Description  Quantity  \\\n",
      "0         536365    85123A   WHITE HANGING HEART T-LIGHT HOLDER         6   \n",
      "1         536365     71053                  WHITE METAL LANTERN         6   \n",
      "2         536365    84406B       CREAM CUPID HEARTS COAT HANGER         8   \n",
      "3         536365    84029G  KNITTED UNION FLAG HOT WATER BOTTLE         6   \n",
      "4         536365    84029E       RED WOOLLY HOTTIE WHITE HEART.         6   \n",
      "...          ...       ...                                  ...       ...   \n",
      "541904    581587     22613          PACK OF 20 SPACEBOY NAPKINS        12   \n",
      "541905    581587     22899         CHILDREN'S APRON DOLLY GIRL          6   \n",
      "541906    581587     23254        CHILDRENS CUTLERY DOLLY GIRL          4   \n",
      "541907    581587     23255      CHILDRENS CUTLERY CIRCUS PARADE         4   \n",
      "541908    581587     22138        BAKING SET 9 PIECE RETROSPOT          3   \n",
      "\n",
      "                InvoiceDate  UnitPrice  CustomerID         Country  \n",
      "0       2010-12-01 08:26:00       2.55     17850.0  United Kingdom  \n",
      "1       2010-12-01 08:26:00       3.39     17850.0  United Kingdom  \n",
      "2       2010-12-01 08:26:00       2.75     17850.0  United Kingdom  \n",
      "3       2010-12-01 08:26:00       3.39     17850.0  United Kingdom  \n",
      "4       2010-12-01 08:26:00       3.39     17850.0  United Kingdom  \n",
      "...                     ...        ...         ...             ...  \n",
      "541904  2011-12-09 12:50:00       0.85     12680.0          France  \n",
      "541905  2011-12-09 12:50:00       2.10     12680.0          France  \n",
      "541906  2011-12-09 12:50:00       4.15     12680.0          France  \n",
      "541907  2011-12-09 12:50:00       4.15     12680.0          France  \n",
      "541908  2011-12-09 12:50:00       4.95     12680.0          France  \n",
      "\n",
      "[541909 rows x 8 columns]\n"
     ]
    }
   ],
   "source": [
    "import pandas as pd\n",
    "path = 'online_retail.csv'\n",
    "retail_data = pd.read_csv(path,encoding='latin')\n",
    "#print(type(retail_data))\n",
    "print(retail_data)"
   ]
  },
  {
   "cell_type": "markdown",
   "id": "7f242538",
   "metadata": {},
   "source": [
    "# Creacion de dataframes"
   ]
  },
  {
   "cell_type": "code",
   "execution_count": 2,
   "id": "9b72c3a7",
   "metadata": {},
   "outputs": [
    {
     "name": "stdout",
     "output_type": "stream",
     "text": [
      "  InvoiceNo StockCode                          Description  Quantity  \\\n",
      "0    536365    85123A   WHITE HANGING HEART T-LIGHT HOLDER         6   \n",
      "1    536365     71053                  WHITE METAL LANTERN         6   \n",
      "2    536365    84406B       CREAM CUPID HEARTS COAT HANGER         8   \n",
      "3    536365    84029G  KNITTED UNION FLAG HOT WATER BOTTLE         6   \n",
      "4    536365    84029E       RED WOOLLY HOTTIE WHITE HEART.         6   \n",
      "\n",
      "           InvoiceDate  UnitPrice  CustomerID         Country  \n",
      "0  2010-12-01 08:26:00       2.55     17850.0  United Kingdom  \n",
      "1  2010-12-01 08:26:00       3.39     17850.0  United Kingdom  \n",
      "2  2010-12-01 08:26:00       2.75     17850.0  United Kingdom  \n",
      "3  2010-12-01 08:26:00       3.39     17850.0  United Kingdom  \n",
      "4  2010-12-01 08:26:00       3.39     17850.0  United Kingdom  \n"
     ]
    }
   ],
   "source": [
    "import pandas as pd\n",
    "path = 'online_retail.csv'\n",
    "retail_data = pd.read_csv(path,encoding='latin')\n",
    "print(retail_data.head())"
   ]
  },
  {
   "cell_type": "code",
   "execution_count": null,
   "id": "8f3b5eef",
   "metadata": {},
   "outputs": [
    {
     "name": "stdout",
     "output_type": "stream",
     "text": [
      "   A  B  C\n",
      "0  1  2  3\n",
      "1  4  5  6\n",
      "2  7  8  9\n"
     ]
    }
   ],
   "source": [
    "#importamos numpy para crar un array e importarlo sobre el dataframe\n",
    "import numpy as np\n",
    "\n",
    "data = np.array([[1,2,3],[4,5,6],[7,8,9]])\n",
    "\n",
    "dt_from_array = pd.DataFrame(data,columns = ['A','B','C'])\n",
    "print(dt_from_array)"
   ]
  },
  {
   "cell_type": "code",
   "execution_count": null,
   "id": "1ebdea86",
   "metadata": {},
   "outputs": [
    {
     "name": "stdout",
     "output_type": "stream",
     "text": [
      "   id nombre  edad\n",
      "0   1   Jhon    22\n",
      "1   2   Anna    24\n"
     ]
    }
   ],
   "source": [
    "#creamos un dataframe a partir de la informacion de una lista\n",
    "data = [[1,'Jhon',22],[2,'Anna',24]]\n",
    "dt_from_list = pd.DataFrame(data, columns = ['id','nombre','edad'])\n",
    "print(dt_from_list)"
   ]
  },
  {
   "cell_type": "code",
   "execution_count": null,
   "id": "b9d99b5a",
   "metadata": {},
   "outputs": [
    {
     "name": "stdout",
     "output_type": "stream",
     "text": [
      "   id  Name  Age\n",
      "0   1  John   22\n"
     ]
    }
   ],
   "source": [
    "#creamos un dataframe a partir de la informacion de un diccionario en formato lista clave valor\n",
    "data = [{'id':1,\n",
    "         'Name': 'John',\n",
    "         'Age': 22\n",
    "         }]\n",
    "dt_from_dict_list = pd.DataFrame(data)\n",
    "print(dt_from_dict_list)"
   ]
  },
  {
   "cell_type": "code",
   "execution_count": null,
   "id": "d56e9ace",
   "metadata": {},
   "outputs": [
    {
     "name": "stdout",
     "output_type": "stream",
     "text": [
      "   ID  Name  Age\n",
      "0   1  John   22\n",
      "1   2  Anna   24\n",
      "2   3  Mike   21\n"
     ]
    }
   ],
   "source": [
    "#creamos un dataframe de manera diccionario\n",
    "data = {'ID': [1,2,3], 'Name': ['John','Anna','Mike'], 'Age':[22,24,21]}\n",
    "dtf_from_dict = pd.DataFrame(data)\n",
    "print(df_from_dict)"
   ]
  },
  {
   "cell_type": "code",
   "execution_count": null,
   "id": "26821008",
   "metadata": {},
   "outputs": [
    {
     "name": "stdout",
     "output_type": "stream",
     "text": [
      "   ID  Name  Age\n",
      "0   1  John   22\n",
      "1   2  Anna   24\n",
      "2   3  Mike   21\n"
     ]
    }
   ],
   "source": [
    "#creamos un dataframe a partir de la informacion de un diccionario pero en modelado tipo series\n",
    "data = {'ID': pd.Series([1,2,3]),\n",
    "        'Name': pd.Series(['John','Anna','Mike']),\n",
    "        'Age': pd.Series([22,24,21])\n",
    "        }\n",
    "df_from_series_dict = pd.DataFrame(data)\n",
    "print(df_from_series_dict)"
   ]
  },
  {
   "cell_type": "markdown",
   "id": "81aa93ba",
   "metadata": {},
   "source": [
    "# Structures and functions"
   ]
  },
  {
   "cell_type": "code",
   "execution_count": 3,
   "id": "ae9e442d",
   "metadata": {},
   "outputs": [
    {
     "name": "stdout",
     "output_type": "stream",
     "text": [
      "Index(['InvoiceNo', 'StockCode', 'Description', 'Quantity', 'InvoiceDate',\n",
      "       'UnitPrice', 'CustomerID', 'Country'],\n",
      "      dtype='object')\n"
     ]
    }
   ],
   "source": [
    "# nombres de las columnas\n",
    "columns_names = retail_data.columns\n",
    "print(columns_names)"
   ]
  },
  {
   "cell_type": "code",
   "execution_count": 4,
   "id": "9b82175e",
   "metadata": {},
   "outputs": [
    {
     "name": "stdout",
     "output_type": "stream",
     "text": [
      "Numero de filas 541909\n",
      "Numero de columnas 8\n"
     ]
    }
   ],
   "source": [
    "num_rows, num_columns = retail_data.shape\n",
    "print('Numero de filas',num_rows)\n",
    "print('Numero de columnas',num_columns)"
   ]
  },
  {
   "cell_type": "code",
   "execution_count": 6,
   "id": "fd6cafd5",
   "metadata": {},
   "outputs": [
    {
     "name": "stdout",
     "output_type": "stream",
     "text": [
      "0          6\n",
      "1          6\n",
      "2          8\n",
      "3          6\n",
      "4          6\n",
      "          ..\n",
      "541904    12\n",
      "541905     6\n",
      "541906     4\n",
      "541907     4\n",
      "541908     3\n",
      "Name: Quantity, Length: 541909, dtype: int64\n",
      "8\n"
     ]
    }
   ],
   "source": [
    "daily_sales = retail_data['Quantity']\n",
    "print(daily_sales)\n",
    "print(daily_sales[2])"
   ]
  },
  {
   "cell_type": "code",
   "execution_count": 7,
   "id": "420985b7",
   "metadata": {},
   "outputs": [
    {
     "name": "stdout",
     "output_type": "stream",
     "text": [
      "            Quantity      UnitPrice     CustomerID\n",
      "count  541909.000000  541909.000000  406829.000000\n",
      "mean        9.552250       4.611114   15287.690570\n",
      "std       218.081158      96.759853    1713.600303\n",
      "min    -80995.000000  -11062.060000   12346.000000\n",
      "25%         1.000000       1.250000   13953.000000\n",
      "50%         3.000000       2.080000   15152.000000\n",
      "75%        10.000000       4.130000   16791.000000\n",
      "max     80995.000000   38970.000000   18287.000000\n"
     ]
    }
   ],
   "source": [
    "summary = retail_data.describe()\n",
    "print(summary)"
   ]
  },
  {
   "cell_type": "code",
   "execution_count": null,
   "id": "acba17a9",
   "metadata": {},
   "outputs": [
    {
     "name": "stdout",
     "output_type": "stream",
     "text": [
      "La media es: 9.55224954743324\n"
     ]
    }
   ],
   "source": [
    "#funcion para obtner la media\n",
    "mean_value = daily_sales.mean()\n",
    "print('La media es:',mean_value)"
   ]
  },
  {
   "cell_type": "code",
   "execution_count": null,
   "id": "f998ce35",
   "metadata": {},
   "outputs": [
    {
     "name": "stdout",
     "output_type": "stream",
     "text": [
      "La media es: 3.0\n"
     ]
    }
   ],
   "source": [
    "#funcion para obtener la mediana\n",
    "median_value = daily_sales.median()\n",
    "print('La mediana es:',median_value)"
   ]
  },
  {
   "cell_type": "code",
   "execution_count": null,
   "id": "84646a01",
   "metadata": {},
   "outputs": [
    {
     "name": "stdout",
     "output_type": "stream",
     "text": [
      "La suma total es: 5176450\n"
     ]
    }
   ],
   "source": [
    "#funcion para sumar los valores de la columna\n",
    "sum_value = daily_sales.sum()\n",
    "print('La suma total es:',sum_value)"
   ]
  },
  {
   "cell_type": "code",
   "execution_count": null,
   "id": "04a0063a",
   "metadata": {},
   "outputs": [
    {
     "name": "stdout",
     "output_type": "stream",
     "text": [
      "El contes es: 541909\n"
     ]
    }
   ],
   "source": [
    "#funcion para contar no nulos\n",
    "count_value = daily_sales.count()\n",
    "print('El contes es:',count_value)"
   ]
  },
  {
   "cell_type": "code",
   "execution_count": 17,
   "id": "c0d7d2e3",
   "metadata": {},
   "outputs": [
    {
     "name": "stdout",
     "output_type": "stream",
     "text": [
      "La suma de unit price es: 2498803.974\n",
      "El conteo de unit price es: 541909\n",
      "La mediana de unit price es: 2.08\n",
      "La media de unit price es: 4.611113626088513\n"
     ]
    }
   ],
   "source": [
    "# ejercicio\n",
    "import pandas as pd\n",
    "daily_sales = retail_data['UnitPrice']\n",
    "\n",
    "#suma de quantity\n",
    "total_sum = daily_sales.sum()\n",
    "print('La suma de unit price es:',total_sum)\n",
    "#conteo de quantity\n",
    "count_values = daily_sales.count()\n",
    "print('El conteo de unit price es:',count_values)\n",
    "\n",
    "count_values = daily_sales.median()\n",
    "print('La mediana de unit price es:',count_values)\n",
    "\n",
    "count_values = daily_sales.mean()\n",
    "print('La media de unit price es:',count_values)\n",
    "\n",
    "\n"
   ]
  },
  {
   "cell_type": "markdown",
   "id": "ea992df4",
   "metadata": {},
   "source": [
    "# Iloc & LOC\n",
    "Diferencias Principales Entre iloc y loc:\n",
    "Índices vs. Etiquetas:\n",
    "iloc: Se basa en la posición (número de índice).\n",
    "loc: Se basa en las etiquetas de los índices.\n",
    "Inclusividad en Slicing:\n",
    "iloc: Excluye el índice final en el slicing (similar a las listas en Python).\n",
    "loc: Incluye tanto el inicio como el final en el slicing.\n",
    "Compatibilidad con Booleanos:\n",
    "loc permite la selección de filas o columnas utilizando condiciones booleanas, lo cual no es posible con iloc."
   ]
  },
  {
   "cell_type": "code",
   "execution_count": 18,
   "id": "0ca40706",
   "metadata": {},
   "outputs": [
    {
     "name": "stdout",
     "output_type": "stream",
     "text": [
      "InvoiceNo                                  536365\n",
      "StockCode                                  85123A\n",
      "Description    WHITE HANGING HEART T-LIGHT HOLDER\n",
      "Quantity                                        6\n",
      "InvoiceDate                   2010-12-01 08:26:00\n",
      "UnitPrice                                    2.55\n",
      "CustomerID                                17850.0\n",
      "Country                            United Kingdom\n",
      "Name: 0, dtype: object\n"
     ]
    }
   ],
   "source": [
    "first_row = retail_data.iloc[0]\n",
    "print(first_row)"
   ]
  },
  {
   "cell_type": "code",
   "execution_count": 21,
   "id": "fd9b90fa",
   "metadata": {},
   "outputs": [
    {
     "name": "stdout",
     "output_type": "stream",
     "text": [
      "  InvoiceNo StockCode                        Description  Quantity  \\\n",
      "6    536365     21730  GLASS STAR FROSTED T-LIGHT HOLDER         6   \n",
      "7    536366     22633             HAND WARMER UNION JACK         6   \n",
      "\n",
      "           InvoiceDate  UnitPrice  CustomerID         Country  \n",
      "6  2010-12-01 08:26:00       4.25     17850.0  United Kingdom  \n",
      "7  2010-12-01 08:28:00       1.85     17850.0  United Kingdom  \n"
     ]
    }
   ],
   "source": [
    "first_row = retail_data.iloc[6:8]\n",
    "print(first_row)"
   ]
  },
  {
   "cell_type": "code",
   "execution_count": 22,
   "id": "8d3255ab",
   "metadata": {},
   "outputs": [
    {
     "name": "stdout",
     "output_type": "stream",
     "text": [
      "  InvoiceNo StockCode\n",
      "0    536365    85123A\n",
      "1    536365     71053\n",
      "2    536365    84406B\n"
     ]
    }
   ],
   "source": [
    "#creamos un subset del dataframe\n",
    "subset = retail_data.iloc[:3,:2]\n",
    "print(subset)"
   ]
  },
  {
   "cell_type": "code",
   "execution_count": 23,
   "id": "3bacc977",
   "metadata": {},
   "outputs": [
    {
     "name": "stdout",
     "output_type": "stream",
     "text": [
      "WHITE METAL LANTERN\n"
     ]
    }
   ],
   "source": [
    "retail_value = retail_data.iloc[1, 2]\n",
    "print(retail_value)"
   ]
  },
  {
   "cell_type": "code",
   "execution_count": 24,
   "id": "ce377886",
   "metadata": {},
   "outputs": [
    {
     "name": "stdout",
     "output_type": "stream",
     "text": [
      "InvoiceNo                                   536365\n",
      "StockCode                                   84029G\n",
      "Description    KNITTED UNION FLAG HOT WATER BOTTLE\n",
      "Quantity                                         6\n",
      "InvoiceDate                    2010-12-01 08:26:00\n",
      "UnitPrice                                     3.39\n",
      "CustomerID                                 17850.0\n",
      "Country                             United Kingdom\n",
      "Name: 3, dtype: object\n"
     ]
    }
   ],
   "source": [
    "row_index_3 = retail_data.loc[3]\n",
    "print(row_index_3)"
   ]
  },
  {
   "cell_type": "code",
   "execution_count": null,
   "id": "f6a3742d",
   "metadata": {},
   "outputs": [
    {
     "name": "stdout",
     "output_type": "stream",
     "text": [
      "  InvoiceNo StockCode                          Description  Quantity  \\\n",
      "0    536365    85123A   WHITE HANGING HEART T-LIGHT HOLDER         6   \n",
      "1    536365     71053                  WHITE METAL LANTERN         6   \n",
      "2    536365    84406B       CREAM CUPID HEARTS COAT HANGER         8   \n",
      "3    536365    84029G  KNITTED UNION FLAG HOT WATER BOTTLE         6   \n",
      "4    536365    84029E       RED WOOLLY HOTTIE WHITE HEART.         6   \n",
      "\n",
      "           InvoiceDate  UnitPrice  CustomerID         Country  \n",
      "0  2010-12-01 08:26:00       2.55     17850.0  United Kingdom  \n",
      "1  2010-12-01 08:26:00       3.39     17850.0  United Kingdom  \n",
      "2  2010-12-01 08:26:00       2.75     17850.0  United Kingdom  \n",
      "3  2010-12-01 08:26:00       3.39     17850.0  United Kingdom  \n",
      "4  2010-12-01 08:26:00       3.39     17850.0  United Kingdom  \n"
     ]
    }
   ],
   "source": [
    "# aqui podemos indicar desde que columna queremos extraer la informacion en este caso 4\n",
    "row_index_0_to_4 = retail_data.loc[:4]\n",
    "print(row_index_0_to_4)"
   ]
  },
  {
   "cell_type": "code",
   "execution_count": null,
   "id": "f07ee0da",
   "metadata": {},
   "outputs": [
    {
     "name": "stdout",
     "output_type": "stream",
     "text": [
      "0          6\n",
      "1          6\n",
      "2          8\n",
      "3          6\n",
      "4          6\n",
      "          ..\n",
      "541904    12\n",
      "541905     6\n",
      "541906     4\n",
      "541907     4\n",
      "541908     3\n",
      "Name: Quantity, Length: 541909, dtype: int64\n"
     ]
    }
   ],
   "source": [
    "# extraemos la informacion de la columna quantity creando un dataframe mas pequeño\n",
    "quantity_column = retail_data.loc[:,'Quantity']\n",
    "print(quantity_column)"
   ]
  },
  {
   "cell_type": "code",
   "execution_count": null,
   "id": "e704b482",
   "metadata": {},
   "outputs": [
    {
     "name": "stdout",
     "output_type": "stream",
     "text": [
      "        Quantity  UnitPrice\n",
      "0              6       2.55\n",
      "1              6       3.39\n",
      "2              8       2.75\n",
      "3              6       3.39\n",
      "4              6       3.39\n",
      "...          ...        ...\n",
      "541904        12       0.85\n",
      "541905         6       2.10\n",
      "541906         4       4.15\n",
      "541907         4       4.15\n",
      "541908         3       4.95\n",
      "\n",
      "[541909 rows x 2 columns]\n"
     ]
    }
   ],
   "source": [
    "# el ejercicio tambien lo podemos aplicar a varias columnas sin embargo, hay que encerrarlas en []\n",
    "quantity_unitprices_column = retail_data.loc[:,['Quantity','UnitPrice']]\n",
    "print(quantity_unitprices_column)"
   ]
  },
  {
   "cell_type": "markdown",
   "id": "f33b7173",
   "metadata": {},
   "source": [
    "# Manejo de datos faltantes en pandas"
   ]
  },
  {
   "cell_type": "code",
   "execution_count": null,
   "id": "a27327fb",
   "metadata": {},
   "outputs": [
    {
     "name": "stdout",
     "output_type": "stream",
     "text": [
      "        InvoiceNo  StockCode  Description  Quantity  InvoiceDate  UnitPrice  \\\n",
      "0           False      False        False     False        False      False   \n",
      "1           False      False        False     False        False      False   \n",
      "2           False      False        False     False        False      False   \n",
      "3           False      False        False     False        False      False   \n",
      "4           False      False        False     False        False      False   \n",
      "...           ...        ...          ...       ...          ...        ...   \n",
      "541904      False      False        False     False        False      False   \n",
      "541905      False      False        False     False        False      False   \n",
      "541906      False      False        False     False        False      False   \n",
      "541907      False      False        False     False        False      False   \n",
      "541908      False      False        False     False        False      False   \n",
      "\n",
      "        CustomerID  Country  \n",
      "0            False    False  \n",
      "1            False    False  \n",
      "2            False    False  \n",
      "3            False    False  \n",
      "4            False    False  \n",
      "...            ...      ...  \n",
      "541904       False    False  \n",
      "541905       False    False  \n",
      "541906       False    False  \n",
      "541907       False    False  \n",
      "541908       False    False  \n",
      "\n",
      "[541909 rows x 8 columns]\n"
     ]
    }
   ],
   "source": [
    "#Lo primero que hacemos es identificar que columna o que filas tenemos datos faltantes para ello usamos el metodo isna()\n",
    "missing_data = retail_data.isna()\n",
    "print(missing_data)"
   ]
  },
  {
   "cell_type": "code",
   "execution_count": null,
   "id": "7a8ba348",
   "metadata": {},
   "outputs": [
    {
     "name": "stdout",
     "output_type": "stream",
     "text": [
      "   InvoiceNo  StockCode  Description  Quantity  InvoiceDate  UnitPrice  \\\n",
      "0      False      False        False     False        False      False   \n",
      "1      False      False        False     False        False      False   \n",
      "2      False      False        False     False        False      False   \n",
      "3      False      False        False     False        False      False   \n",
      "4      False      False        False     False        False      False   \n",
      "\n",
      "   CustomerID  Country  \n",
      "0       False    False  \n",
      "1       False    False  \n",
      "2       False    False  \n",
      "3       False    False  \n",
      "4       False    False  \n"
     ]
    }
   ],
   "source": [
    "#como aparentemente no tenemos datos faltantes vamos a imprimir las primeras 5 filas del dataframe en busca \n",
    "#de datos faltantes en caso de que hubiera nos dira true\n",
    "print(missing_data.head())"
   ]
  },
  {
   "cell_type": "code",
   "execution_count": null,
   "id": "e40d24c1",
   "metadata": {},
   "outputs": [
    {
     "name": "stdout",
     "output_type": "stream",
     "text": [
      "Conteo de datos faltantes por columna \n",
      ": InvoiceNo           0\n",
      "StockCode           0\n",
      "Description      1454\n",
      "Quantity            0\n",
      "InvoiceDate         0\n",
      "UnitPrice           0\n",
      "CustomerID     135080\n",
      "Country             0\n",
      "dtype: int64\n"
     ]
    }
   ],
   "source": [
    "#como no es facil de identificar vamos a hacer un conteo de datos faltantes que analice todo el dataset para ello usamos \n",
    "#isna y sum para sumar cuantos registros tenemos faltantes en cada columna\n",
    "missing_data_count = retail_data.isna().sum()\n",
    "print('Conteo de datos faltantes por columna \\n:',missing_data_count)"
   ]
  },
  {
   "cell_type": "code",
   "execution_count": 34,
   "id": "b3088257",
   "metadata": {},
   "outputs": [
    {
     "name": "stdout",
     "output_type": "stream",
     "text": [
      "Datos sin filas con valores faltantes: \n",
      "        InvoiceNo StockCode                          Description  Quantity  \\\n",
      "0         536365    85123A   WHITE HANGING HEART T-LIGHT HOLDER         6   \n",
      "1         536365     71053                  WHITE METAL LANTERN         6   \n",
      "2         536365    84406B       CREAM CUPID HEARTS COAT HANGER         8   \n",
      "3         536365    84029G  KNITTED UNION FLAG HOT WATER BOTTLE         6   \n",
      "4         536365    84029E       RED WOOLLY HOTTIE WHITE HEART.         6   \n",
      "...          ...       ...                                  ...       ...   \n",
      "541904    581587     22613          PACK OF 20 SPACEBOY NAPKINS        12   \n",
      "541905    581587     22899         CHILDREN'S APRON DOLLY GIRL          6   \n",
      "541906    581587     23254        CHILDRENS CUTLERY DOLLY GIRL          4   \n",
      "541907    581587     23255      CHILDRENS CUTLERY CIRCUS PARADE         4   \n",
      "541908    581587     22138        BAKING SET 9 PIECE RETROSPOT          3   \n",
      "\n",
      "                InvoiceDate  UnitPrice  CustomerID         Country  \n",
      "0       2010-12-01 08:26:00       2.55     17850.0  United Kingdom  \n",
      "1       2010-12-01 08:26:00       3.39     17850.0  United Kingdom  \n",
      "2       2010-12-01 08:26:00       2.75     17850.0  United Kingdom  \n",
      "3       2010-12-01 08:26:00       3.39     17850.0  United Kingdom  \n",
      "4       2010-12-01 08:26:00       3.39     17850.0  United Kingdom  \n",
      "...                     ...        ...         ...             ...  \n",
      "541904  2011-12-09 12:50:00       0.85     12680.0          France  \n",
      "541905  2011-12-09 12:50:00       2.10     12680.0          France  \n",
      "541906  2011-12-09 12:50:00       4.15     12680.0          France  \n",
      "541907  2011-12-09 12:50:00       4.15     12680.0          France  \n",
      "541908  2011-12-09 12:50:00       4.95     12680.0          France  \n",
      "\n",
      "[406829 rows x 8 columns]\n"
     ]
    }
   ],
   "source": [
    "#cuando ya tenemos identificado el conteo tenemos dos opciones o rellenar los datos fdaltantes o eliminar las filas con datos faltantes\n",
    "#todo va segun las necesidades podemos elegir una u otra, en este caso vamos a eliminar las filas con la funcion dropna()\n",
    "no_missing_rows = retail_data.dropna()\n",
    "print('Datos sin filas con valores faltantes: \\n',no_missing_rows)\n"
   ]
  },
  {
   "cell_type": "code",
   "execution_count": null,
   "id": "4b8ccaea",
   "metadata": {},
   "outputs": [],
   "source": [
    "#para el ejercicio vamos a eliminar las columnas con valores faltantes\n",
    "no_missing_columns = retail_data.dropna(axis=1)\n",
    "print('Datos sin columnas con valores faltantes: \\n',no_missing_columns)"
   ]
  },
  {
   "cell_type": "code",
   "execution_count": null,
   "id": "e62e0552",
   "metadata": {},
   "outputs": [
    {
     "name": "stdout",
     "output_type": "stream",
     "text": [
      "InvoiceNo      0\n",
      "StockCode      0\n",
      "Description    0\n",
      "Quantity       0\n",
      "InvoiceDate    0\n",
      "UnitPrice      0\n",
      "CustomerID     0\n",
      "Country        0\n",
      "dtype: int64\n"
     ]
    }
   ],
   "source": [
    "# la otra forma de realizar el tratamiento a datos faltantes es rellenarlos, en este caso vamos a poner el valor 0 donde haya datos faltantes\n",
    "#esto lo logramos con la funcion fillna(valor), realizamos el conteo nuevamente de cuantos datos tenemos faltantes para comprobar el ejercicio\n",
    "retail_data_fillef_zeros = retail_data.fillna(0)\n",
    "retail_data_fillef_zeros_count = retail_data_fillef_zeros.isna().sum()\n",
    "print(retail_data_fillef_zeros_count)\n"
   ]
  },
  {
   "cell_type": "code",
   "execution_count": 40,
   "id": "172a6293",
   "metadata": {},
   "outputs": [
    {
     "name": "stdout",
     "output_type": "stream",
     "text": [
      "0         2.55\n",
      "1         3.39\n",
      "2         2.75\n",
      "3         3.39\n",
      "4         3.39\n",
      "          ... \n",
      "541904    0.85\n",
      "541905    2.10\n",
      "541906    4.15\n",
      "541907    4.15\n",
      "541908    4.95\n",
      "Name: UnitPrice, Length: 541909, dtype: float64\n"
     ]
    }
   ],
   "source": [
    "#como no siempre sera posible llenar con 0 ya que nos daria un margen de error muy grande en la realizacion de operaciones con los datos\n",
    "#faltantes lo que se suele hacer es poner la media de todos los datos en donde encuentro datos faltantes de esa manera se asegura\n",
    "#reducir el error en las operaciones\n",
    "mean_unit_price = retail_data['UnitPrice'].mean()\n",
    "retail_data_filled_mean = retail_data['UnitPrice'].fillna(mean_unit_price)\n",
    "print(retail_data_filled_mean)\n"
   ]
  },
  {
   "cell_type": "markdown",
   "id": "a5381347",
   "metadata": {},
   "source": [
    "# Manipulacion de columnas"
   ]
  },
  {
   "cell_type": "code",
   "execution_count": 2,
   "id": "380095de",
   "metadata": {},
   "outputs": [
    {
     "name": "stdout",
     "output_type": "stream",
     "text": [
      "  InvoiceNo StockCode                          Description  Quantity  \\\n",
      "0    536365    85123A   WHITE HANGING HEART T-LIGHT HOLDER         6   \n",
      "1    536365     71053                  WHITE METAL LANTERN         6   \n",
      "2    536365    84406B       CREAM CUPID HEARTS COAT HANGER         8   \n",
      "3    536365    84029G  KNITTED UNION FLAG HOT WATER BOTTLE         6   \n",
      "4    536365    84029E       RED WOOLLY HOTTIE WHITE HEART.         6   \n",
      "\n",
      "           InvoiceDate  UnitPrice  CustomerID         Country  TotalPrice  \n",
      "0  2010-12-01 08:26:00       2.55     17850.0  United Kingdom       15.30  \n",
      "1  2010-12-01 08:26:00       3.39     17850.0  United Kingdom       20.34  \n",
      "2  2010-12-01 08:26:00       2.75     17850.0  United Kingdom       22.00  \n",
      "3  2010-12-01 08:26:00       3.39     17850.0  United Kingdom       20.34  \n",
      "4  2010-12-01 08:26:00       3.39     17850.0  United Kingdom       20.34  \n"
     ]
    }
   ],
   "source": [
    "# vamos a crear una columna a partir de datos generados en este caso el precio total multiplicando las columnas existentes\n",
    "# quantity por unitprice\n",
    "import pandas as pd\n",
    "\n",
    "path = 'online_retail.csv'\n",
    "df = pd.read_csv(path,encoding='latin')\n",
    "df['TotalPrice'] = df['Quantity']* df['UnitPrice']\n",
    "print(df.head())"
   ]
  },
  {
   "cell_type": "code",
   "execution_count": null,
   "id": "e21a629e",
   "metadata": {},
   "outputs": [
    {
     "name": "stdout",
     "output_type": "stream",
     "text": [
      "0    False\n",
      "1     True\n",
      "2     True\n",
      "3     True\n",
      "4     True\n",
      "5    False\n",
      "6     True\n",
      "7    False\n",
      "8    False\n",
      "9     True\n",
      "Name: Highvalue, dtype: bool\n"
     ]
    }
   ],
   "source": [
    "#tambien podeos crear columnas a partir de un condicional booleano, en el ejemplo si totalprice es mayor a 16\n",
    "#debera retornar true\n",
    "df['Highvalue'] = df['TotalPrice'] > 16\n",
    "print(df['Highvalue'].head(10))"
   ]
  },
  {
   "cell_type": "code",
   "execution_count": 6,
   "id": "58aa704d",
   "metadata": {},
   "outputs": [
    {
     "name": "stdout",
     "output_type": "stream",
     "text": [
      "<class 'pandas.core.frame.DataFrame'>\n",
      "RangeIndex: 541909 entries, 0 to 541908\n",
      "Data columns (total 10 columns):\n",
      " #   Column       Non-Null Count   Dtype  \n",
      "---  ------       --------------   -----  \n",
      " 0   InvoiceNo    541909 non-null  object \n",
      " 1   StockCode    541909 non-null  object \n",
      " 2   Description  540455 non-null  object \n",
      " 3   Quantity     541909 non-null  int64  \n",
      " 4   InvoiceDate  541909 non-null  object \n",
      " 5   UnitPrice    541909 non-null  float64\n",
      " 6   CustomerID   406829 non-null  float64\n",
      " 7   Country      541909 non-null  object \n",
      " 8   TotalPrice   541909 non-null  float64\n",
      " 9   Highvalue    541909 non-null  bool   \n",
      "dtypes: bool(1), float64(3), int64(1), object(5)\n",
      "memory usage: 37.7+ MB\n",
      "None\n"
     ]
    }
   ],
   "source": [
    "print(df.info())\n"
   ]
  },
  {
   "cell_type": "code",
   "execution_count": 8,
   "id": "6a706ed5",
   "metadata": {},
   "outputs": [
    {
     "name": "stdout",
     "output_type": "stream",
     "text": [
      "<class 'pandas.core.frame.DataFrame'>\n",
      "RangeIndex: 541909 entries, 0 to 541908\n",
      "Data columns (total 10 columns):\n",
      " #   Column       Non-Null Count   Dtype         \n",
      "---  ------       --------------   -----         \n",
      " 0   InvoiceNo    541909 non-null  object        \n",
      " 1   StockCode    541909 non-null  object        \n",
      " 2   Description  540455 non-null  object        \n",
      " 3   Quantity     541909 non-null  int64         \n",
      " 4   InvoiceDate  541909 non-null  datetime64[ns]\n",
      " 5   UnitPrice    541909 non-null  float64       \n",
      " 6   CustomerID   406829 non-null  float64       \n",
      " 7   Country      541909 non-null  object        \n",
      " 8   TotalPrice   541909 non-null  float64       \n",
      " 9   Highvalue    541909 non-null  bool          \n",
      "dtypes: bool(1), datetime64[ns](1), float64(3), int64(1), object(4)\n",
      "memory usage: 37.7+ MB\n",
      "None\n"
     ]
    }
   ],
   "source": [
    "df['InvoiceDate'] = pd.to_datetime(df['InvoiceDate'])\n",
    "print(df.info())"
   ]
  },
  {
   "cell_type": "code",
   "execution_count": 10,
   "id": "bff675c7",
   "metadata": {},
   "outputs": [
    {
     "name": "stdout",
     "output_type": "stream",
     "text": [
      "  InvoiceNo StockCode                         Description  Quantity  \\\n",
      "0    536365    85123A  WHITE HANGING HEART T-LIGHT HOLDER         6   \n",
      "1    536365     71053                 WHITE METAL LANTERN         6   \n",
      "2    536365    84406B      CREAM CUPID HEARTS COAT HANGER         8   \n",
      "\n",
      "          InvoiceDate  UnitPrice  CustomerID         Country  TotalPrice  \\\n",
      "0 2010-12-01 08:26:00       2.55     17850.0  United Kingdom       15.30   \n",
      "1 2010-12-01 08:26:00       3.39     17850.0  United Kingdom       20.34   \n",
      "2 2010-12-01 08:26:00       2.75     17850.0  United Kingdom       22.00   \n",
      "\n",
      "   Highvalue  DiscountedPrice  \n",
      "0      False            2.295  \n",
      "1       True            3.051  \n",
      "2       True            2.475  \n"
     ]
    }
   ],
   "source": [
    "#creamos una columba descuento usando la funcion lambda\n",
    "df['DiscountedPrice'] = df['UnitPrice'].apply(lambda x: x*0.9)\n",
    "print(df.head(3))\n"
   ]
  },
  {
   "cell_type": "code",
   "execution_count": null,
   "id": "2e164303",
   "metadata": {},
   "outputs": [
    {
     "name": "stdout",
     "output_type": "stream",
     "text": [
      "  InvoiceNo StockCode                          Description  Quantity  \\\n",
      "0    536365    85123A   WHITE HANGING HEART T-LIGHT HOLDER         6   \n",
      "1    536365     71053                  WHITE METAL LANTERN         6   \n",
      "2    536365    84406B       CREAM CUPID HEARTS COAT HANGER         8   \n",
      "3    536365    84029G  KNITTED UNION FLAG HOT WATER BOTTLE         6   \n",
      "4    536365    84029E       RED WOOLLY HOTTIE WHITE HEART.         6   \n",
      "5    536365     22752         SET 7 BABUSHKA NESTING BOXES         2   \n",
      "6    536365     21730    GLASS STAR FROSTED T-LIGHT HOLDER         6   \n",
      "7    536366     22633               HAND WARMER UNION JACK         6   \n",
      "8    536366     22632            HAND WARMER RED POLKA DOT         6   \n",
      "9    536367     84879        ASSORTED COLOUR BIRD ORNAMENT        32   \n",
      "\n",
      "          InvoiceDate  UnitPrice  CustomerID         Country  TotalPrice  \\\n",
      "0 2010-12-01 08:26:00       2.55     17850.0  United Kingdom       15.30   \n",
      "1 2010-12-01 08:26:00       3.39     17850.0  United Kingdom       20.34   \n",
      "2 2010-12-01 08:26:00       2.75     17850.0  United Kingdom       22.00   \n",
      "3 2010-12-01 08:26:00       3.39     17850.0  United Kingdom       20.34   \n",
      "4 2010-12-01 08:26:00       3.39     17850.0  United Kingdom       20.34   \n",
      "5 2010-12-01 08:26:00       7.65     17850.0  United Kingdom       15.30   \n",
      "6 2010-12-01 08:26:00       4.25     17850.0  United Kingdom       25.50   \n",
      "7 2010-12-01 08:28:00       1.85     17850.0  United Kingdom       11.10   \n",
      "8 2010-12-01 08:28:00       1.85     17850.0  United Kingdom       11.10   \n",
      "9 2010-12-01 08:34:00       1.69     13047.0  United Kingdom       54.08   \n",
      "\n",
      "   Highvalue  DiscountedPrice PriceCategory  \n",
      "0      False            2.295           Low  \n",
      "1       True            3.051           Low  \n",
      "2       True            2.475           Low  \n",
      "3       True            3.051           Low  \n",
      "4       True            3.051           Low  \n",
      "5      False            6.885           Low  \n",
      "6       True            3.825           Low  \n",
      "7      False            1.665           Low  \n",
      "8      False            1.665           Low  \n",
      "9       True            1.521           Low  \n"
     ]
    }
   ],
   "source": [
    "def categorize_price(price):\n",
    "    if price > 50:\n",
    "        return 'High'\n",
    "    elif price >= 20:\n",
    "        return 'Medium'\n",
    "    else:\n",
    "        return 'Low'\n",
    "df['PriceCategory'] = df['UnitPrice'].apply(categorize_price)\n",
    "print(df.head(10))\n",
    "\n"
   ]
  },
  {
   "cell_type": "markdown",
   "id": "aed33784",
   "metadata": {},
   "source": [
    "# Group By"
   ]
  },
  {
   "cell_type": "code",
   "execution_count": null,
   "id": "a093d50b",
   "metadata": {},
   "outputs": [
    {
     "name": "stdout",
     "output_type": "stream",
     "text": [
      "Country\n",
      "United Kingdom          495478\n",
      "Germany                   9495\n",
      "France                    8557\n",
      "EIRE                      8196\n",
      "Spain                     2533\n",
      "Netherlands               2371\n",
      "Belgium                   2069\n",
      "Switzerland               2002\n",
      "Portugal                  1519\n",
      "Australia                 1259\n",
      "Norway                    1086\n",
      "Italy                      803\n",
      "Channel Islands            758\n",
      "Finland                    695\n",
      "Cyprus                     622\n",
      "Sweden                     462\n",
      "Unspecified                446\n",
      "Austria                    401\n",
      "Denmark                    389\n",
      "Japan                      358\n",
      "Poland                     341\n",
      "Israel                     297\n",
      "USA                        291\n",
      "Hong Kong                  288\n",
      "Singapore                  229\n",
      "Iceland                    182\n",
      "Canada                     151\n",
      "Greece                     146\n",
      "Malta                      127\n",
      "United Arab Emirates        68\n",
      "European Community          61\n",
      "RSA                         58\n",
      "Lebanon                     45\n",
      "Lithuania                   35\n",
      "Brazil                      32\n",
      "Czech Republic              30\n",
      "Bahrain                     19\n",
      "Saudi Arabia                10\n",
      "Name: count, dtype: int64\n"
     ]
    }
   ],
   "source": [
    "#Para realizar un conteo de ventas por paises podemos usar la funcion value_couunts que evalua cuanto registros tiene un determinado valor\n",
    "country_count = df['Country'].value_counts()\n",
    "print(country_count)\n"
   ]
  },
  {
   "cell_type": "code",
   "execution_count": null,
   "id": "5fbc22b0",
   "metadata": {},
   "outputs": [
    {
     "name": "stdout",
     "output_type": "stream",
     "text": [
      "Country\n",
      "Australia                 83653\n",
      "Austria                    4827\n",
      "Bahrain                     260\n",
      "Belgium                   23152\n",
      "Brazil                      356\n",
      "Canada                     2763\n",
      "Channel Islands            9479\n",
      "Cyprus                     6317\n",
      "Czech Republic              592\n",
      "Denmark                    8188\n",
      "EIRE                     142637\n",
      "European Community          497\n",
      "Finland                   10666\n",
      "France                   110480\n",
      "Germany                  117448\n",
      "Greece                     1556\n",
      "Hong Kong                  4769\n",
      "Iceland                    2458\n",
      "Israel                     4353\n",
      "Italy                      7999\n",
      "Japan                     25218\n",
      "Lebanon                     386\n",
      "Lithuania                   652\n",
      "Malta                       944\n",
      "Netherlands              200128\n",
      "Norway                    19247\n",
      "Poland                     3653\n",
      "Portugal                  16180\n",
      "RSA                         352\n",
      "Saudi Arabia                 75\n",
      "Singapore                  5234\n",
      "Spain                     26824\n",
      "Sweden                    35637\n",
      "Switzerland               30325\n",
      "USA                        1034\n",
      "United Arab Emirates        982\n",
      "United Kingdom          4263829\n",
      "Unspecified                3300\n",
      "Name: Quantity, dtype: int64\n"
     ]
    }
   ],
   "source": [
    "# en este caso vamos a sumar las cantidades totales agrupadas por paises para ello usamos la funcion groupby\n",
    "country_group = df.groupby('Country')['Quantity'].sum()\n",
    "print(country_group)\n"
   ]
  },
  {
   "cell_type": "code",
   "execution_count": null,
   "id": "c1db18b3",
   "metadata": {},
   "outputs": [
    {
     "name": "stdout",
     "output_type": "stream",
     "text": [
      "                            mean          sum\n",
      "Country                                      \n",
      "Australia               3.220612     4054.750\n",
      "Austria                 4.243192     1701.520\n",
      "Bahrain                 4.556316       86.570\n",
      "Belgium                 3.644335     7540.130\n",
      "Brazil                  4.456250      142.600\n",
      "Canada                  6.030331      910.580\n",
      "Channel Islands         4.932124     3738.550\n",
      "Cyprus                  6.302363     3920.070\n",
      "Czech Republic          2.938333       88.150\n",
      "Denmark                 3.256941     1266.950\n",
      "EIRE                    5.911077    48447.190\n",
      "European Community      4.820492      294.050\n",
      "Finland                 5.448705     3786.850\n",
      "France                  5.028864    43031.990\n",
      "Germany                 3.966930    37666.000\n",
      "Greece                  4.885548      713.290\n",
      "Hong Kong              42.505208    12241.500\n",
      "Iceland                 2.644011      481.210\n",
      "Israel                  3.633131     1079.040\n",
      "Italy                   4.831121     3879.390\n",
      "Japan                   2.276145      814.860\n",
      "Lebanon                 5.387556      242.440\n",
      "Lithuania               2.841143       99.440\n",
      "Malta                   5.244173      666.010\n",
      "Netherlands             2.738317     6492.550\n",
      "Norway                  6.012026     6529.060\n",
      "Poland                  4.170880     1422.270\n",
      "Portugal                8.582976    13037.540\n",
      "RSA                     4.277586      248.100\n",
      "Saudi Arabia            2.411000       24.110\n",
      "Singapore             109.645808    25108.890\n",
      "Spain                   4.987544    12633.450\n",
      "Sweden                  3.910887     1806.830\n",
      "Switzerland             3.403442     6813.690\n",
      "USA                     2.216426      644.980\n",
      "United Arab Emirates    3.380735      229.890\n",
      "United Kingdom          4.532422  2245715.474\n",
      "Unspecified             2.699574     1204.010\n"
     ]
    }
   ],
   "source": [
    "#Para sacar datos estadisticos lo que podemos hacer es con la funcion agg de agregacion podemos agrupar funciones como mean y sum\n",
    "#en este caso vamos a sacar la media y suma de unitprice agrupandolo por country\n",
    "country_stats = df.groupby('Country')['UnitPrice'].agg(['mean','sum'])\n",
    "print(country_stats)\n"
   ]
  },
  {
   "cell_type": "code",
   "execution_count": null,
   "id": "f7301c25",
   "metadata": {},
   "outputs": [
    {
     "name": "stdout",
     "output_type": "stream",
     "text": [
      "Country      StockCode\n",
      "Australia    15036        600\n",
      "             15056BL        3\n",
      "             16161P       400\n",
      "             16169E        25\n",
      "             20665          6\n",
      "                         ... \n",
      "Unspecified  85180A         2\n",
      "             85180B         1\n",
      "             85212         12\n",
      "             85213         12\n",
      "             85227         10\n",
      "Name: Quantity, Length: 19839, dtype: int64\n"
     ]
    }
   ],
   "source": [
    "#En este caso podemos agrupar por mas de una columna, usarmos country y Stockccode sumando las cantidades\n",
    "country_stock_group = df.groupby(['Country','StockCode'])['Quantity'].agg('sum')\n",
    "print(country_stock_group)"
   ]
  },
  {
   "cell_type": "code",
   "execution_count": 11,
   "id": "c528a7b2",
   "metadata": {},
   "outputs": [
    {
     "name": "stdout",
     "output_type": "stream",
     "text": [
      "Country\n",
      "Australia                137077.270\n",
      "Austria                   10154.320\n",
      "Bahrain                     548.400\n",
      "Belgium                   40910.960\n",
      "Brazil                     1143.600\n",
      "Canada                     3666.380\n",
      "Channel Islands           20086.290\n",
      "Cyprus                    12946.290\n",
      "Czech Republic              707.720\n",
      "Denmark                   18768.140\n",
      "EIRE                     263276.820\n",
      "European Community         1291.750\n",
      "Finland                   22326.740\n",
      "France                   197403.900\n",
      "Germany                  221698.210\n",
      "Greece                     4710.520\n",
      "Hong Kong                 10117.040\n",
      "Iceland                    4310.000\n",
      "Israel                     7907.820\n",
      "Italy                     16890.510\n",
      "Japan                     35340.620\n",
      "Lebanon                    1693.880\n",
      "Lithuania                  1661.060\n",
      "Malta                      2505.470\n",
      "Netherlands              284661.540\n",
      "Norway                    35163.460\n",
      "Poland                     7213.140\n",
      "Portugal                  29367.020\n",
      "RSA                        1002.310\n",
      "Saudi Arabia                131.170\n",
      "Singapore                  9120.390\n",
      "Spain                     54774.580\n",
      "Sweden                    36595.910\n",
      "Switzerland               56385.350\n",
      "USA                        1730.920\n",
      "United Arab Emirates       1902.280\n",
      "United Kingdom          8187806.364\n",
      "Unspecified                4749.790\n",
      "dtype: float64\n"
     ]
    },
    {
     "name": "stderr",
     "output_type": "stream",
     "text": [
      "C:\\Users\\Admin\\AppData\\Local\\Temp\\ipykernel_18292\\1749323064.py:5: DeprecationWarning: DataFrameGroupBy.apply operated on the grouping columns. This behavior is deprecated, and in a future version of pandas the grouping columns will be excluded from the operation. Either pass `include_groups=False` to exclude the groupings or explicitly select the grouping columns after groupby to silence this warning.\n",
      "  revenue_per_country = df.groupby('Country').apply(total_revenue)\n"
     ]
    }
   ],
   "source": [
    "#Para obtener la ganancia total por cada una de los paises\n",
    "def total_revenue(group):\n",
    "    return(group['Quantity'] * group['UnitPrice']).sum()\n",
    "\n",
    "revenue_per_country = df.groupby('Country').apply(total_revenue)\n",
    "print(revenue_per_country)"
   ]
  },
  {
   "cell_type": "markdown",
   "id": "89e87c83",
   "metadata": {},
   "source": [
    "## Ejericio\n",
    "* Cuales son los 3 paises con mayor dinero recaudado en ventas y cuales son los 3 con menos\n"
   ]
  },
  {
   "cell_type": "code",
   "execution_count": 12,
   "id": "1f3034c2",
   "metadata": {},
   "outputs": [
    {
     "name": "stdout",
     "output_type": "stream",
     "text": [
      "Los 3 países con mayores ventas: primeros en el ranking:\n",
      " Country\n",
      "United Kingdom    8187806.364\n",
      "Netherlands        284661.540\n",
      "EIRE               263276.820\n",
      "dtype: float64\n",
      "Los 3 países con menores ventas: últimos en el ranking:\n",
      " Country\n",
      "Czech Republic    707.72\n",
      "Bahrain           548.40\n",
      "Saudi Arabia      131.17\n",
      "dtype: float64\n"
     ]
    }
   ],
   "source": [
    "country_rank = revenue_per_country.sort_values(ascending=False)\n",
    "\n",
    "\n",
    "top3_best = country_rank.iloc[:3]\n",
    "print(\"Los 3 países con mayores ventas: primeros en el ranking:\\n\", top3_best)\n",
    "\n",
    "\n",
    "top3_worst = country_rank.iloc[-3:]\n",
    "print(\"Los 3 países con menores ventas: últimos en el ranking:\\n\", top3_worst)"
   ]
  },
  {
   "cell_type": "markdown",
   "id": "1165f10c",
   "metadata": {},
   "source": [
    "# Filtrado de datos"
   ]
  },
  {
   "cell_type": "code",
   "execution_count": null,
   "id": "6503b289",
   "metadata": {},
   "outputs": [
    {
     "name": "stdout",
     "output_type": "stream",
     "text": [
      "  InvoiceNo StockCode                          Description  Quantity  \\\n",
      "0    536365    85123A   WHITE HANGING HEART T-LIGHT HOLDER         6   \n",
      "1    536365     71053                  WHITE METAL LANTERN         6   \n",
      "2    536365    84406B       CREAM CUPID HEARTS COAT HANGER         8   \n",
      "3    536365    84029G  KNITTED UNION FLAG HOT WATER BOTTLE         6   \n",
      "4    536365    84029E       RED WOOLLY HOTTIE WHITE HEART.         6   \n",
      "\n",
      "          InvoiceDate  UnitPrice  CustomerID         Country  TotalPrice  \n",
      "0 2010-12-01 08:26:00       2.55     17850.0  United Kingdom       15.30  \n",
      "1 2010-12-01 08:26:00       3.39     17850.0  United Kingdom       20.34  \n",
      "2 2010-12-01 08:26:00       2.75     17850.0  United Kingdom       22.00  \n",
      "3 2010-12-01 08:26:00       3.39     17850.0  United Kingdom       20.34  \n",
      "4 2010-12-01 08:26:00       3.39     17850.0  United Kingdom       20.34  \n"
     ]
    }
   ],
   "source": [
    "#Leer el dataset de ventas desde un archivo CSV\n",
    "\n",
    "sales_data = pd.read_csv(path)\n",
    "\n",
    "#Convertir la columna 'InvociceDate' a tipo datetime\n",
    "sales_data['InvoiceDate'] = pd.to_datetime(sales_data['InvoiceDate'])\n",
    "\n",
    "#Eliminar filas con valores faltantes en las columnas criticas\n",
    "sales_data.dropna(subset=['CustomerID', 'InvoiceDate'], inplace=True)\n",
    "\n",
    "#Crear una nueva columna 'TotalPrice'\n",
    "sales_data['TotalPrice'] = sales_data['Quantity'] * sales_data['UnitPrice']\n",
    "\n",
    "print(sales_data.head())\n"
   ]
  },
  {
   "cell_type": "code",
   "execution_count": null,
   "id": "5bc6692c",
   "metadata": {},
   "outputs": [
    {
     "name": "stdout",
     "output_type": "stream",
     "text": [
      "       InvoiceNo StockCode                          Description  Quantity  \\\n",
      "0         536365    85123A   WHITE HANGING HEART T-LIGHT HOLDER         6   \n",
      "1         536365     71053                  WHITE METAL LANTERN         6   \n",
      "2         536365    84406B       CREAM CUPID HEARTS COAT HANGER         8   \n",
      "3         536365    84029G  KNITTED UNION FLAG HOT WATER BOTTLE         6   \n",
      "4         536365    84029E       RED WOOLLY HOTTIE WHITE HEART.         6   \n",
      "...          ...       ...                                  ...       ...   \n",
      "541889    581585     22466       FAIRY TALE COTTAGE NIGHT LIGHT        12   \n",
      "541890    581586     22061  LARGE CAKE STAND  HANGING STRAWBERY         8   \n",
      "541891    581586     23275     SET OF 3 HANGING OWLS OLLIE BEAK        24   \n",
      "541892    581586     21217        RED RETROSPOT ROUND CAKE TINS        24   \n",
      "541893    581586     20685                DOORMAT RED RETROSPOT        10   \n",
      "\n",
      "               InvoiceDate  UnitPrice  CustomerID         Country  TotalPrice  \n",
      "0      2010-12-01 08:26:00       2.55     17850.0  United Kingdom       15.30  \n",
      "1      2010-12-01 08:26:00       3.39     17850.0  United Kingdom       20.34  \n",
      "2      2010-12-01 08:26:00       2.75     17850.0  United Kingdom       22.00  \n",
      "3      2010-12-01 08:26:00       3.39     17850.0  United Kingdom       20.34  \n",
      "4      2010-12-01 08:26:00       3.39     17850.0  United Kingdom       20.34  \n",
      "...                    ...        ...         ...             ...         ...  \n",
      "541889 2011-12-09 12:31:00       1.95     15804.0  United Kingdom       23.40  \n",
      "541890 2011-12-09 12:49:00       2.95     13113.0  United Kingdom       23.60  \n",
      "541891 2011-12-09 12:49:00       1.25     13113.0  United Kingdom       30.00  \n",
      "541892 2011-12-09 12:49:00       8.95     13113.0  United Kingdom      214.80  \n",
      "541893 2011-12-09 12:49:00       7.08     13113.0  United Kingdom       70.80  \n",
      "\n",
      "[361878 rows x 9 columns]\n"
     ]
    }
   ],
   "source": [
    "#Filtrar ventas en el reuno unido - UK\n",
    "uk_sales = sales_data[sales_data['Country'] == 'United Kingdom']\n",
    "print(uk_sales)"
   ]
  },
  {
   "cell_type": "code",
   "execution_count": null,
   "id": "4d9d41e2",
   "metadata": {},
   "outputs": [
    {
     "name": "stdout",
     "output_type": "stream",
     "text": [
      "       InvoiceNo StockCode                      Description  Quantity  \\\n",
      "9         536367     84879    ASSORTED COLOUR BIRD ORNAMENT        32   \n",
      "26        536370     22728        ALARM CLOCK BAKELIKE PINK        24   \n",
      "27        536370     22727        ALARM CLOCK BAKELIKE RED         24   \n",
      "28        536370     22726       ALARM CLOCK BAKELIKE GREEN        12   \n",
      "29        536370     21724  PANDA AND BUNNIES STICKER SHEET        12   \n",
      "...          ...       ...                              ...       ...   \n",
      "541894    581587     22631         CIRCUS PARADE LUNCH BOX         12   \n",
      "541895    581587     22556   PLASTERS IN TIN CIRCUS PARADE         12   \n",
      "541896    581587     22555        PLASTERS IN TIN STRONGMAN        12   \n",
      "541902    581587     22629              SPACEBOY LUNCH BOX         12   \n",
      "541904    581587     22613      PACK OF 20 SPACEBOY NAPKINS        12   \n",
      "\n",
      "               InvoiceDate  UnitPrice  CustomerID         Country  TotalPrice  \n",
      "9      2010-12-01 08:34:00       1.69     13047.0  United Kingdom       54.08  \n",
      "26     2010-12-01 08:45:00       3.75     12583.0          France       90.00  \n",
      "27     2010-12-01 08:45:00       3.75     12583.0          France       90.00  \n",
      "28     2010-12-01 08:45:00       3.75     12583.0          France       45.00  \n",
      "29     2010-12-01 08:45:00       0.85     12583.0          France       10.20  \n",
      "...                    ...        ...         ...             ...         ...  \n",
      "541894 2011-12-09 12:50:00       1.95     12680.0          France       23.40  \n",
      "541895 2011-12-09 12:50:00       1.65     12680.0          France       19.80  \n",
      "541896 2011-12-09 12:50:00       1.65     12680.0          France       19.80  \n",
      "541902 2011-12-09 12:50:00       1.95     12680.0          France       23.40  \n",
      "541904 2011-12-09 12:50:00       0.85     12680.0          France       10.20  \n",
      "\n",
      "[126312 rows x 9 columns]\n"
     ]
    }
   ],
   "source": [
    "#aplicamos un filtrado por cantidad mayor a 10 \n",
    "high_quantity_sales = sales_data[sales_data['Quantity'] > 10]\n",
    "print(high_quantity_sales)\n"
   ]
  },
  {
   "cell_type": "code",
   "execution_count": null,
   "id": "454e7435",
   "metadata": {},
   "outputs": [
    {
     "name": "stdout",
     "output_type": "stream",
     "text": [
      "       InvoiceNo StockCode                          Description  Quantity  \\\n",
      "46        536371     22086      PAPER CHAIN KIT 50'S CHRISTMAS         80   \n",
      "82        536376     22114    HOT WATER BOTTLE TEA AND SYMPATHY        48   \n",
      "83        536376     21733     RED HANGING HEART T-LIGHT HOLDER        64   \n",
      "96        536378     21212      PACK OF 72 RETROSPOT CAKE CASES       120   \n",
      "101       536378    85183B  CHARLIE & LOLA WASTEPAPER BIN FLORA        48   \n",
      "...          ...       ...                                  ...       ...   \n",
      "541746    581571     23167       SMALL CERAMIC TOP STORAGE JAR         96   \n",
      "541747    581571     21314        SMALL GLASS HEART TRINKET POT        48   \n",
      "541751    581572     23328   SET 6 SCHOOL MILK BOTTLES IN CRATE        48   \n",
      "541867    581584     20832     RED FLOCK LOVE HEART PHOTO FRAME        72   \n",
      "541868    581584     85038      6 CHOCOLATE LOVE HEART T-LIGHTS        48   \n",
      "\n",
      "               InvoiceDate  UnitPrice  CustomerID         Country  TotalPrice  \n",
      "46     2010-12-01 09:00:00       2.55     13748.0  United Kingdom      204.00  \n",
      "82     2010-12-01 09:32:00       3.45     15291.0  United Kingdom      165.60  \n",
      "83     2010-12-01 09:32:00       2.55     15291.0  United Kingdom      163.20  \n",
      "96     2010-12-01 09:37:00       0.42     14688.0  United Kingdom       50.40  \n",
      "101    2010-12-01 09:37:00       1.25     14688.0  United Kingdom       60.00  \n",
      "...                    ...        ...         ...             ...         ...  \n",
      "541746 2011-12-09 12:00:00       0.69     15311.0  United Kingdom       66.24  \n",
      "541747 2011-12-09 12:00:00       1.85     15311.0  United Kingdom       88.80  \n",
      "541751 2011-12-09 12:08:00       3.39     16705.0  United Kingdom      162.72  \n",
      "541867 2011-12-09 12:25:00       0.72     13777.0  United Kingdom       51.84  \n",
      "541868 2011-12-09 12:25:00       1.85     13777.0  United Kingdom       88.80  \n",
      "\n",
      "[14245 rows x 9 columns]\n"
     ]
    }
   ],
   "source": [
    "#Si queremos filtrar por 2 o mas condiciones nos quedaria de la siguiente manera:\n",
    "uk_high_quantity_sales = sales_data[(sales_data['Country'] == 'United Kingdom') & (sales_data['Quantity'] > 40)]\n",
    "print(uk_high_quantity_sales)"
   ]
  },
  {
   "cell_type": "code",
   "execution_count": null,
   "id": "f6081c8c",
   "metadata": {},
   "outputs": [
    {
     "name": "stdout",
     "output_type": "stream",
     "text": [
      "       InvoiceNo StockCode                      Description  Quantity  \\\n",
      "42481     539993     22386          JUMBO BAG PINK POLKADOT        10   \n",
      "42482     539993     21499               BLUE POLKADOT WRAP        25   \n",
      "42483     539993     21498              RED RETROSPOT WRAP         25   \n",
      "42484     539993     22379         RECYCLING BAG RETROSPOT          5   \n",
      "42485     539993     20718        RED RETROSPOT SHOPPER BAG        10   \n",
      "...          ...       ...                              ...       ...   \n",
      "541904    581587     22613      PACK OF 20 SPACEBOY NAPKINS        12   \n",
      "541905    581587     22899     CHILDREN'S APRON DOLLY GIRL          6   \n",
      "541906    581587     23254    CHILDRENS CUTLERY DOLLY GIRL          4   \n",
      "541907    581587     23255  CHILDRENS CUTLERY CIRCUS PARADE         4   \n",
      "541908    581587     22138    BAKING SET 9 PIECE RETROSPOT          3   \n",
      "\n",
      "               InvoiceDate  UnitPrice  CustomerID         Country  TotalPrice  \n",
      "42481  2011-01-04 10:00:00       1.95     13313.0  United Kingdom       19.50  \n",
      "42482  2011-01-04 10:00:00       0.42     13313.0  United Kingdom       10.50  \n",
      "42483  2011-01-04 10:00:00       0.42     13313.0  United Kingdom       10.50  \n",
      "42484  2011-01-04 10:00:00       2.10     13313.0  United Kingdom       10.50  \n",
      "42485  2011-01-04 10:00:00       1.25     13313.0  United Kingdom       12.50  \n",
      "...                    ...        ...         ...             ...         ...  \n",
      "541904 2011-12-09 12:50:00       0.85     12680.0          France       10.20  \n",
      "541905 2011-12-09 12:50:00       2.10     12680.0          France       12.60  \n",
      "541906 2011-12-09 12:50:00       4.15     12680.0          France       16.60  \n",
      "541907 2011-12-09 12:50:00       4.15     12680.0          France       16.60  \n",
      "541908 2011-12-09 12:50:00       4.95     12680.0          France       14.85  \n",
      "\n",
      "[379979 rows x 9 columns]\n"
     ]
    }
   ],
   "source": [
    "#filtrado por fecha\n",
    "sales_2011 = sales_data[sales_data['InvoiceDate'].dt.year == 2011]\n",
    "print(sales_2011)"
   ]
  },
  {
   "cell_type": "code",
   "execution_count": 20,
   "id": "111708c8",
   "metadata": {},
   "outputs": [
    {
     "name": "stdout",
     "output_type": "stream",
     "text": [
      "      InvoiceNo StockCode                          Description  Quantity  \\\n",
      "0        536365    85123A   WHITE HANGING HEART T-LIGHT HOLDER         6   \n",
      "1        536365     71053                  WHITE METAL LANTERN         6   \n",
      "2        536365    84406B       CREAM CUPID HEARTS COAT HANGER         8   \n",
      "3        536365    84029G  KNITTED UNION FLAG HOT WATER BOTTLE         6   \n",
      "4        536365    84029E       RED WOOLLY HOTTIE WHITE HEART.         6   \n",
      "...         ...       ...                                  ...       ...   \n",
      "42448    539988     84380    SET OF 3 BUTTERFLY COOKIE CUTTERS         1   \n",
      "42449    539988    84849D                HOT BATHS SOAP HOLDER         1   \n",
      "42450    539988    84849B               FAIRY SOAP SOAP HOLDER         1   \n",
      "42451    539988     22854          CREAM SWEETHEART EGG HOLDER         2   \n",
      "42452    539988    47559B                  TEA TIME OVEN GLOVE         2   \n",
      "\n",
      "              InvoiceDate  UnitPrice  CustomerID         Country  TotalPrice  \n",
      "0     2010-12-01 08:26:00       2.55     17850.0  United Kingdom       15.30  \n",
      "1     2010-12-01 08:26:00       3.39     17850.0  United Kingdom       20.34  \n",
      "2     2010-12-01 08:26:00       2.75     17850.0  United Kingdom       22.00  \n",
      "3     2010-12-01 08:26:00       3.39     17850.0  United Kingdom       20.34  \n",
      "4     2010-12-01 08:26:00       3.39     17850.0  United Kingdom       20.34  \n",
      "...                   ...        ...         ...             ...         ...  \n",
      "42448 2010-12-23 16:06:00       1.25     18116.0  United Kingdom        1.25  \n",
      "42449 2010-12-23 16:06:00       1.69     18116.0  United Kingdom        1.69  \n",
      "42450 2010-12-23 16:06:00       1.69     18116.0  United Kingdom        1.69  \n",
      "42451 2010-12-23 16:06:00       4.95     18116.0  United Kingdom        9.90  \n",
      "42452 2010-12-23 16:06:00       1.25     18116.0  United Kingdom        2.50  \n",
      "\n",
      "[26850 rows x 9 columns]\n"
     ]
    }
   ],
   "source": [
    "sales_2010 = sales_data[sales_data['InvoiceDate'].dt.year == 2010]\n",
    "print(sales_2010)"
   ]
  },
  {
   "cell_type": "code",
   "execution_count": null,
   "id": "f4e44603",
   "metadata": {},
   "outputs": [
    {
     "name": "stdout",
     "output_type": "stream",
     "text": [
      "      InvoiceNo StockCode                          Description  Quantity  \\\n",
      "0        536365    85123A   WHITE HANGING HEART T-LIGHT HOLDER         6   \n",
      "1        536365     71053                  WHITE METAL LANTERN         6   \n",
      "2        536365    84406B       CREAM CUPID HEARTS COAT HANGER         8   \n",
      "3        536365    84029G  KNITTED UNION FLAG HOT WATER BOTTLE         6   \n",
      "4        536365    84029E       RED WOOLLY HOTTIE WHITE HEART.         6   \n",
      "...         ...       ...                                  ...       ...   \n",
      "42448    539988     84380    SET OF 3 BUTTERFLY COOKIE CUTTERS         1   \n",
      "42449    539988    84849D                HOT BATHS SOAP HOLDER         1   \n",
      "42450    539988    84849B               FAIRY SOAP SOAP HOLDER         1   \n",
      "42451    539988     22854          CREAM SWEETHEART EGG HOLDER         2   \n",
      "42452    539988    47559B                  TEA TIME OVEN GLOVE         2   \n",
      "\n",
      "              InvoiceDate  UnitPrice  CustomerID         Country  TotalPrice  \n",
      "0     2010-12-01 08:26:00       2.55     17850.0  United Kingdom       15.30  \n",
      "1     2010-12-01 08:26:00       3.39     17850.0  United Kingdom       20.34  \n",
      "2     2010-12-01 08:26:00       2.75     17850.0  United Kingdom       22.00  \n",
      "3     2010-12-01 08:26:00       3.39     17850.0  United Kingdom       20.34  \n",
      "4     2010-12-01 08:26:00       3.39     17850.0  United Kingdom       20.34  \n",
      "...                   ...        ...         ...             ...         ...  \n",
      "42448 2010-12-23 16:06:00       1.25     18116.0  United Kingdom        1.25  \n",
      "42449 2010-12-23 16:06:00       1.69     18116.0  United Kingdom        1.69  \n",
      "42450 2010-12-23 16:06:00       1.69     18116.0  United Kingdom        1.69  \n",
      "42451 2010-12-23 16:06:00       4.95     18116.0  United Kingdom        9.90  \n",
      "42452 2010-12-23 16:06:00       1.25     18116.0  United Kingdom        2.50  \n",
      "\n",
      "[26850 rows x 9 columns]\n"
     ]
    }
   ],
   "source": [
    "#Ejecutamos las ventas del mes de enero de 2010 y obtenemos que todas las ventas pertencen a diciembre\n",
    "sales_2010_dec = sales_data[(sales_data['InvoiceDate'].dt.year == 2010) & (sales_data['InvoiceDate'].dt.month == 12)]\n",
    "print(sales_2010_dec)"
   ]
  },
  {
   "cell_type": "markdown",
   "id": "ba99e2e8",
   "metadata": {},
   "source": [
    "# Pivot Table and Reshape\n",
    "Las pivot tables son modelos reestructurados de datos crudos para realizar datos stadisticos resumir reorgnizar\n",
    "o comparar subgrupos de datos que no son faciles de ver\n",
    "* Para facilitar el análisis de datos, puede que la información de las filas estén mejor en columnas.\n",
    "* Preparación para un modelo de Machine Learning, ciertos modelos requieren la información estructura según lo establezca el algoritmo.\n",
    "* Visualización, igualmente que el primer punto, puede que sea más fácil de visualizar si está ordenado de manera diferente.\n",
    "* Limpieza de datos, en ciertas ocasiones la información faltante no se muestra porque faltan filas, al hacer stack, las columnas se autocompletan mostrando la información faltante."
   ]
  },
  {
   "cell_type": "code",
   "execution_count": null,
   "id": "0caad406",
   "metadata": {},
   "outputs": [
    {
     "name": "stdout",
     "output_type": "stream",
     "text": [
      "StockCode             10002  10080  10120  10123C  10124A  10124G  10125  \\\n",
      "Country                                                                    \n",
      "Australia               NaN    NaN    NaN     NaN     NaN     NaN    NaN   \n",
      "Austria                 NaN    NaN    NaN     NaN     NaN     NaN    NaN   \n",
      "Bahrain                 NaN    NaN    NaN     NaN     NaN     NaN    NaN   \n",
      "Belgium                 NaN    NaN    NaN     NaN     NaN     NaN    NaN   \n",
      "Brazil                  NaN    NaN    NaN     NaN     NaN     NaN    NaN   \n",
      "Canada                  NaN    NaN    NaN     NaN     NaN     NaN    NaN   \n",
      "Channel Islands         NaN    NaN    NaN     NaN     NaN     NaN    NaN   \n",
      "Cyprus                  NaN    NaN    NaN     NaN     NaN     NaN    NaN   \n",
      "Czech Republic          NaN    NaN    NaN     NaN     NaN     NaN    NaN   \n",
      "Denmark                 NaN    NaN    NaN     NaN     NaN     NaN    NaN   \n",
      "EIRE                   12.0    NaN    NaN     NaN     NaN     NaN    NaN   \n",
      "European Community      NaN    NaN    NaN     NaN     NaN     NaN    NaN   \n",
      "Finland                 NaN    NaN    NaN     NaN     NaN     NaN    NaN   \n",
      "France                372.0    NaN   10.0     NaN     NaN     NaN  470.0   \n",
      "Germany                 1.0    NaN    NaN     NaN     NaN     NaN  120.0   \n",
      "Greece                  NaN    NaN    NaN     NaN     NaN     NaN    NaN   \n",
      "Iceland                 NaN    NaN    NaN     NaN     NaN     NaN    NaN   \n",
      "Israel                  NaN    NaN    NaN     NaN     NaN     NaN    NaN   \n",
      "Italy                   NaN    NaN    NaN     NaN     NaN     NaN    NaN   \n",
      "Japan                   1.0    NaN    NaN     NaN     NaN     NaN    NaN   \n",
      "Lebanon                 NaN    NaN    NaN     NaN     NaN     NaN    NaN   \n",
      "Lithuania               NaN    NaN    NaN     NaN     NaN     NaN    NaN   \n",
      "Malta                   NaN    NaN    NaN     NaN     NaN     NaN    NaN   \n",
      "Netherlands             NaN    NaN    NaN     NaN     NaN     NaN    NaN   \n",
      "Norway                  NaN    NaN    NaN     NaN     NaN     NaN    NaN   \n",
      "Poland                  NaN    NaN    NaN     NaN     NaN     NaN    NaN   \n",
      "Portugal                NaN    NaN    NaN     NaN     NaN     NaN    NaN   \n",
      "RSA                     NaN    NaN    NaN     NaN     NaN     NaN    NaN   \n",
      "Saudi Arabia            NaN    NaN    NaN     NaN     NaN     NaN    NaN   \n",
      "Singapore               NaN    NaN    NaN     NaN     NaN     NaN    NaN   \n",
      "Spain                  24.0    NaN    NaN     NaN     NaN     NaN    NaN   \n",
      "Sweden                  NaN    NaN    NaN     NaN     NaN     NaN    NaN   \n",
      "Switzerland            12.0    NaN    NaN     NaN     NaN     NaN   20.0   \n",
      "USA                     NaN    NaN    NaN     NaN     NaN     NaN    NaN   \n",
      "United Arab Emirates    NaN    NaN    NaN     NaN     NaN     NaN    NaN   \n",
      "United Kingdom        401.0  291.0  183.0     5.0    16.0    17.0  616.0   \n",
      "Unspecified             NaN    NaN    NaN     NaN     NaN     NaN    NaN   \n",
      "\n",
      "StockCode              10133   10135  11001  ...  90214Y  90214Z  \\\n",
      "Country                                      ...                   \n",
      "Australia                NaN     NaN    NaN  ...     NaN     NaN   \n",
      "Austria                  NaN     NaN    NaN  ...     NaN     NaN   \n",
      "Bahrain                  NaN     NaN    NaN  ...     NaN     NaN   \n",
      "Belgium                  NaN     NaN    NaN  ...     NaN     NaN   \n",
      "Brazil                   NaN     NaN    NaN  ...     NaN     NaN   \n",
      "Canada                  40.0    20.0    NaN  ...     NaN     NaN   \n",
      "Channel Islands          NaN     NaN    NaN  ...     NaN     NaN   \n",
      "Cyprus                   NaN     NaN    NaN  ...     NaN     NaN   \n",
      "Czech Republic           NaN     NaN    NaN  ...     NaN     NaN   \n",
      "Denmark                  NaN     NaN    NaN  ...     NaN     NaN   \n",
      "EIRE                    40.0    60.0   48.0  ...     NaN     NaN   \n",
      "European Community       NaN     NaN    NaN  ...     NaN     NaN   \n",
      "Finland                  NaN     NaN    NaN  ...     NaN     NaN   \n",
      "France                   NaN    10.0   16.0  ...     NaN     NaN   \n",
      "Germany                  NaN   200.0   32.0  ...     NaN     NaN   \n",
      "Greece                   NaN     NaN    NaN  ...     NaN     NaN   \n",
      "Iceland                  NaN     NaN    NaN  ...     NaN     NaN   \n",
      "Israel                  20.0     NaN    NaN  ...     NaN     NaN   \n",
      "Italy                    NaN     NaN    NaN  ...     NaN     NaN   \n",
      "Japan                    NaN     NaN    NaN  ...     NaN     NaN   \n",
      "Lebanon                  NaN     NaN    NaN  ...     NaN     NaN   \n",
      "Lithuania                NaN     NaN    NaN  ...     NaN     NaN   \n",
      "Malta                    NaN     NaN    NaN  ...     NaN     NaN   \n",
      "Netherlands              NaN     NaN    NaN  ...     NaN     NaN   \n",
      "Norway                   NaN    10.0   16.0  ...     NaN     NaN   \n",
      "Poland                   NaN     NaN    NaN  ...     NaN     NaN   \n",
      "Portugal                20.0     NaN   16.0  ...     NaN     NaN   \n",
      "RSA                      NaN     NaN    NaN  ...     NaN     NaN   \n",
      "Saudi Arabia             NaN     NaN    NaN  ...     NaN     NaN   \n",
      "Singapore                NaN     NaN    NaN  ...     NaN     NaN   \n",
      "Spain                    NaN     NaN   16.0  ...     NaN     NaN   \n",
      "Sweden                   NaN     NaN    NaN  ...     NaN     NaN   \n",
      "Switzerland             10.0     NaN    NaN  ...     NaN     NaN   \n",
      "USA                      NaN     NaN    NaN  ...     NaN     NaN   \n",
      "United Arab Emirates     NaN     NaN    NaN  ...     NaN     NaN   \n",
      "United Kingdom        2244.0  1637.0  923.0  ...    61.0    12.0   \n",
      "Unspecified              NaN     NaN    NaN  ...     NaN     NaN   \n",
      "\n",
      "StockCode             BANK CHARGES    C2  CRUK       D   DOT       M  PADS  \\\n",
      "Country                                                                      \n",
      "Australia                      NaN   NaN   NaN     NaN   NaN     NaN   NaN   \n",
      "Austria                        NaN   NaN   NaN     NaN   NaN     NaN   NaN   \n",
      "Bahrain                        NaN   NaN   NaN     NaN   NaN     NaN   NaN   \n",
      "Belgium                        NaN   NaN   NaN     NaN   NaN     NaN   NaN   \n",
      "Brazil                         NaN   NaN   NaN     NaN   NaN     NaN   NaN   \n",
      "Canada                         NaN   NaN   NaN     NaN   NaN     NaN   NaN   \n",
      "Channel Islands                NaN   3.0   NaN     NaN   NaN     0.0   NaN   \n",
      "Cyprus                         NaN   NaN   NaN     NaN   NaN     0.0   NaN   \n",
      "Czech Republic                 NaN   NaN   NaN     NaN   NaN     NaN   NaN   \n",
      "Denmark                        NaN   NaN   NaN     NaN   NaN     NaN   NaN   \n",
      "EIRE                           NaN  97.0   NaN    -1.0   NaN    -1.0   NaN   \n",
      "European Community             NaN   NaN   NaN     NaN   NaN     NaN   NaN   \n",
      "Finland                        NaN   NaN   NaN     NaN   NaN     2.0   NaN   \n",
      "France                         NaN   3.0   NaN     NaN   NaN   -16.0   NaN   \n",
      "Germany                        NaN   NaN   NaN     NaN   NaN     2.0   NaN   \n",
      "Greece                         NaN   NaN   NaN     NaN   NaN     NaN   NaN   \n",
      "Iceland                        NaN   NaN   NaN     NaN   NaN     NaN   NaN   \n",
      "Israel                         NaN   NaN   NaN     NaN   NaN     NaN   NaN   \n",
      "Italy                          NaN   NaN   NaN    -1.0   NaN    -1.0   NaN   \n",
      "Japan                          NaN   NaN   NaN     NaN   NaN    -3.0   NaN   \n",
      "Lebanon                        NaN   NaN   NaN     NaN   NaN     NaN   NaN   \n",
      "Lithuania                      NaN   NaN   NaN     NaN   NaN     NaN   NaN   \n",
      "Malta                          NaN   NaN   NaN     NaN   NaN     NaN   NaN   \n",
      "Netherlands                    NaN   NaN   NaN    -1.0   NaN  -480.0   NaN   \n",
      "Norway                         NaN   NaN   NaN     NaN   NaN     0.0   NaN   \n",
      "Poland                         NaN   NaN   NaN     NaN   NaN     NaN   NaN   \n",
      "Portugal                       NaN   NaN   NaN     NaN   NaN     1.0   NaN   \n",
      "RSA                            NaN   NaN   NaN     NaN   NaN     1.0   NaN   \n",
      "Saudi Arabia                   NaN   NaN   NaN     NaN   NaN     NaN   NaN   \n",
      "Singapore                      NaN   NaN   NaN     NaN   NaN     0.0   NaN   \n",
      "Spain                          NaN   NaN   NaN     NaN   NaN    -3.0   NaN   \n",
      "Sweden                         NaN   NaN   NaN     NaN   NaN     1.0   NaN   \n",
      "Switzerland                    NaN   NaN   NaN     NaN   NaN     NaN   NaN   \n",
      "USA                            NaN   NaN   NaN     NaN   NaN     NaN   NaN   \n",
      "United Arab Emirates           NaN   NaN   NaN     NaN   NaN     NaN   NaN   \n",
      "United Kingdom                12.0  30.0 -16.0 -1191.0  16.0  3681.0   4.0   \n",
      "Unspecified                    NaN   NaN   NaN     NaN   NaN     NaN   NaN   \n",
      "\n",
      "StockCode               POST  \n",
      "Country                       \n",
      "Australia                0.0  \n",
      "Austria                 37.0  \n",
      "Bahrain                  NaN  \n",
      "Belgium                272.0  \n",
      "Brazil                   NaN  \n",
      "Canada                   1.0  \n",
      "Channel Islands          NaN  \n",
      "Cyprus                   1.0  \n",
      "Czech Republic           0.0  \n",
      "Denmark                 41.0  \n",
      "EIRE                     NaN  \n",
      "European Community       9.0  \n",
      "Finland                 89.0  \n",
      "France                 803.0  \n",
      "Germany               1104.0  \n",
      "Greece                   6.0  \n",
      "Iceland                  NaN  \n",
      "Israel                   NaN  \n",
      "Italy                   44.0  \n",
      "Japan                    NaN  \n",
      "Lebanon                  NaN  \n",
      "Lithuania                NaN  \n",
      "Malta                   10.0  \n",
      "Netherlands             99.0  \n",
      "Norway                  57.0  \n",
      "Poland                   9.0  \n",
      "Portugal                97.0  \n",
      "RSA                      NaN  \n",
      "Saudi Arabia             NaN  \n",
      "Singapore                NaN  \n",
      "Spain                  209.0  \n",
      "Sweden                  37.0  \n",
      "Switzerland             97.0  \n",
      "USA                      NaN  \n",
      "United Arab Emirates     1.0  \n",
      "United Kingdom         -21.0  \n",
      "Unspecified              NaN  \n",
      "\n",
      "[37 rows x 3684 columns]\n"
     ]
    }
   ],
   "source": [
    "#Un pivot table es basicamente una tabla dinamica de excel donde podemos agrupar por indices valores y agregar funciones y columnas\n",
    "#especificas\n",
    "pivot_table = pd.pivot_table(sales_data, values = 'Quantity', index = 'Country', columns = 'StockCode', aggfunc = 'sum')\n",
    "print(pivot_table)"
   ]
  },
  {
   "cell_type": "code",
   "execution_count": 26,
   "id": "2bf39901",
   "metadata": {},
   "outputs": [
    {
     "name": "stdout",
     "output_type": "stream",
     "text": [
      "     A  B  C\n",
      "0  foo  1  4\n",
      "1  bar  2  5\n",
      "2  baz  3  6\n"
     ]
    }
   ],
   "source": [
    "df = pd.DataFrame({\n",
    "    'A': ['foo', 'bar','baz'],\n",
    "    'B': [1,2,3],\n",
    "    'C': [4,5,6] \n",
    "})\n",
    "print(df)"
   ]
  },
  {
   "cell_type": "code",
   "execution_count": null,
   "id": "25c97545",
   "metadata": {},
   "outputs": [
    {
     "name": "stdout",
     "output_type": "stream",
     "text": [
      "0  A    foo\n",
      "   B      1\n",
      "   C      4\n",
      "1  A    bar\n",
      "   B      2\n",
      "   C      5\n",
      "2  A    baz\n",
      "   B      3\n",
      "   C      6\n",
      "dtype: object\n"
     ]
    }
   ],
   "source": [
    "#Realizamos una transformacion para apilar la informacion, segun nos convenga\n",
    "df_stack = df.stack()\n",
    "print(df_stack)"
   ]
  },
  {
   "cell_type": "code",
   "execution_count": null,
   "id": "2e0586df",
   "metadata": {},
   "outputs": [
    {
     "name": "stdout",
     "output_type": "stream",
     "text": [
      "     A  B  C\n",
      "0  foo  1  4\n",
      "1  bar  2  5\n",
      "2  baz  3  6\n"
     ]
    }
   ],
   "source": [
    "#Para desapilarlo usamos la funcion unstack\n",
    "df_unstacked = df_stack.unstack()\n",
    "print(df_unstacked)"
   ]
  },
  {
   "cell_type": "markdown",
   "id": "b3385e8a",
   "metadata": {},
   "source": [
    "# Fusion de dataframes: merge, concat, join"
   ]
  },
  {
   "cell_type": "markdown",
   "id": "05624ad5",
   "metadata": {},
   "source": [
    "## unions"
   ]
  },
  {
   "cell_type": "code",
   "execution_count": 29,
   "id": "b0845c9c",
   "metadata": {},
   "outputs": [
    {
     "name": "stdout",
     "output_type": "stream",
     "text": [
      "  key  value1\n",
      "0   A       1\n",
      "1   B       2\n",
      "2   C       3\n",
      "  key  value2\n",
      "0   B       4\n",
      "1   C       5\n",
      "2   D       6\n"
     ]
    }
   ],
   "source": [
    "import pandas as pd\n",
    "\n",
    "df1 = pd.DataFrame({\n",
    "\n",
    "    'key': ['A', 'B', 'C'],\n",
    "\n",
    "    'value1': [1,2,3]\n",
    "\n",
    "})\n",
    "\n",
    "df2 = pd.DataFrame({\n",
    "\n",
    "    'key': ['B', 'C', 'D'],\n",
    "\n",
    "    'value2': [4,5,6]\n",
    "\n",
    "})\n",
    "\n",
    "print(df1)\n",
    "print(df2)"
   ]
  },
  {
   "cell_type": "code",
   "execution_count": 30,
   "id": "0f3f0424",
   "metadata": {},
   "outputs": [
    {
     "name": "stdout",
     "output_type": "stream",
     "text": [
      "  key  value1  value2\n",
      "0   B       2       4\n",
      "1   C       3       5\n"
     ]
    }
   ],
   "source": [
    "inner_merge =  pd.merge(df1, df2, on='key', how= 'inner')\n",
    "print(inner_merge)"
   ]
  },
  {
   "cell_type": "code",
   "execution_count": 34,
   "id": "9104eec1",
   "metadata": {},
   "outputs": [
    {
     "name": "stdout",
     "output_type": "stream",
     "text": [
      "  key  value1  value2\n",
      "0   A     1.0     NaN\n",
      "1   B     2.0     4.0\n",
      "2   C     3.0     5.0\n",
      "3   D     NaN     6.0\n"
     ]
    }
   ],
   "source": [
    "outer_merged = pd.merge(df1,df2, on='key', how='outer')\n",
    "print(outer_merged)"
   ]
  },
  {
   "cell_type": "code",
   "execution_count": 36,
   "id": "07d4817d",
   "metadata": {},
   "outputs": [
    {
     "name": "stdout",
     "output_type": "stream",
     "text": [
      "  key  value1  value2\n",
      "0   A       1     NaN\n",
      "1   B       2     4.0\n",
      "2   C       3     5.0\n"
     ]
    }
   ],
   "source": [
    "left_merged = pd.merge(df1,df2, on='key', how='left')\n",
    "print(left_merged)"
   ]
  },
  {
   "cell_type": "code",
   "execution_count": 39,
   "id": "c7e15628",
   "metadata": {},
   "outputs": [
    {
     "name": "stdout",
     "output_type": "stream",
     "text": [
      "  key  value1  value2\n",
      "0   B     2.0       4\n",
      "1   C     3.0       5\n",
      "2   D     NaN       6\n"
     ]
    }
   ],
   "source": [
    "right_merged = pd.merge(df1,df2, on='key', how='right')\n",
    "print(right_merged)"
   ]
  },
  {
   "cell_type": "code",
   "execution_count": 40,
   "id": "822e5eda",
   "metadata": {},
   "outputs": [
    {
     "name": "stdout",
     "output_type": "stream",
     "text": [
      "    A   B\n",
      "0  A0  B0\n",
      "1  A1  B1\n",
      "2  A2  B2\n",
      "    A   B\n",
      "0  A3  B3\n",
      "1  A4  B4\n",
      "2  A5  B5\n"
     ]
    }
   ],
   "source": [
    "df3 = pd.DataFrame({\n",
    "\n",
    "    'A': ['A0', 'A1', 'A2'],\n",
    "\n",
    "    'B': ['B0', 'B1', 'B2'],\n",
    "\n",
    "})\n",
    "\n",
    "df4 = pd.DataFrame({\n",
    "\n",
    "    'A': ['A3', 'A4', 'A5'],\n",
    "\n",
    "    'B': ['B3', 'B4', 'B5'],\n",
    "\n",
    "}) \n",
    "print(df3)\n",
    "print(df4)"
   ]
  },
  {
   "cell_type": "code",
   "execution_count": null,
   "id": "862563b0",
   "metadata": {},
   "outputs": [
    {
     "name": "stdout",
     "output_type": "stream",
     "text": [
      "    A   B\n",
      "0  A0  B0\n",
      "1  A1  B1\n",
      "2  A2  B2\n",
      "0  A3  B3\n",
      "1  A4  B4\n",
      "2  A5  B5\n"
     ]
    }
   ],
   "source": [
    "#en este caso la funcion concatenar va apilar uno dataframe encima del otro, por defecto se apila de manera vertical axis = 0\n",
    "vertical_concat = pd.concat([df3,df4])\n",
    "print(vertical_concat)\n"
   ]
  },
  {
   "cell_type": "code",
   "execution_count": null,
   "id": "12d793f0",
   "metadata": {},
   "outputs": [
    {
     "name": "stdout",
     "output_type": "stream",
     "text": [
      "    A   B   A   B\n",
      "0  A0  B0  A3  B3\n",
      "1  A1  B1  A4  B4\n",
      "2  A2  B2  A5  B5\n"
     ]
    }
   ],
   "source": [
    "#apilamos de manera horizontal indicandole el axis = 1\n",
    "vertical_concat = pd.concat([df3,df4], axis = 1)\n",
    "print(vertical_concat)"
   ]
  },
  {
   "cell_type": "code",
   "execution_count": 43,
   "id": "cbd14e5b",
   "metadata": {},
   "outputs": [
    {
     "name": "stdout",
     "output_type": "stream",
     "text": [
      "     A   B\n",
      "K0  A0  B0\n",
      "K1  A1  B1\n",
      "K2  A2  B2\n",
      "     C   D\n",
      "K0  C0  DO\n",
      "K2  C1  D1\n",
      "K3  C2  D2\n"
     ]
    }
   ],
   "source": [
    "df5 = pd.DataFrame({\n",
    "\n",
    "    'A': ['A0', 'A1', 'A2'],\n",
    "\n",
    "    'B': ['B0', 'B1', 'B2']\n",
    "\n",
    "    }, index = ['K0', 'K1', 'K2']) \n",
    "\n",
    "df6 = pd.DataFrame({\n",
    "\n",
    "    'C': ['C0', 'C1', 'C2'],\n",
    "\n",
    "    'D': ['DO', 'D1', 'D2']\n",
    "\n",
    "    }, index = ['K0', 'K2', 'K3'])\n",
    "print(df5)\n",
    "print(df6)"
   ]
  },
  {
   "cell_type": "code",
   "execution_count": 44,
   "id": "9080b4d1",
   "metadata": {},
   "outputs": [
    {
     "name": "stdout",
     "output_type": "stream",
     "text": [
      "     A   B   C   D\n",
      "K0  A0  B0  C0  DO\n",
      "K2  A2  B2  C1  D1\n"
     ]
    }
   ],
   "source": [
    "joined = df5.join(df6,how='inner')\n",
    "print(joined)"
   ]
  },
  {
   "cell_type": "markdown",
   "id": "8ffb986b",
   "metadata": {},
   "source": [
    "# Analisis de series temporales"
   ]
  },
  {
   "cell_type": "code",
   "execution_count": 47,
   "id": "61eaeaf5",
   "metadata": {},
   "outputs": [
    {
     "data": {
      "text/html": [
       "<div>\n",
       "<style scoped>\n",
       "    .dataframe tbody tr th:only-of-type {\n",
       "        vertical-align: middle;\n",
       "    }\n",
       "\n",
       "    .dataframe tbody tr th {\n",
       "        vertical-align: top;\n",
       "    }\n",
       "\n",
       "    .dataframe thead th {\n",
       "        text-align: right;\n",
       "    }\n",
       "</style>\n",
       "<table border=\"1\" class=\"dataframe\">\n",
       "  <thead>\n",
       "    <tr style=\"text-align: right;\">\n",
       "      <th></th>\n",
       "      <th>InvoiceNo</th>\n",
       "      <th>StockCode</th>\n",
       "      <th>Description</th>\n",
       "      <th>Quantity</th>\n",
       "      <th>InvoiceDate</th>\n",
       "      <th>UnitPrice</th>\n",
       "      <th>CustomerID</th>\n",
       "      <th>Country</th>\n",
       "    </tr>\n",
       "  </thead>\n",
       "  <tbody>\n",
       "    <tr>\n",
       "      <th>0</th>\n",
       "      <td>536365</td>\n",
       "      <td>85123A</td>\n",
       "      <td>WHITE HANGING HEART T-LIGHT HOLDER</td>\n",
       "      <td>6</td>\n",
       "      <td>2010-12-01 08:26:00</td>\n",
       "      <td>2.55</td>\n",
       "      <td>17850.0</td>\n",
       "      <td>United Kingdom</td>\n",
       "    </tr>\n",
       "    <tr>\n",
       "      <th>1</th>\n",
       "      <td>536365</td>\n",
       "      <td>71053</td>\n",
       "      <td>WHITE METAL LANTERN</td>\n",
       "      <td>6</td>\n",
       "      <td>2010-12-01 08:26:00</td>\n",
       "      <td>3.39</td>\n",
       "      <td>17850.0</td>\n",
       "      <td>United Kingdom</td>\n",
       "    </tr>\n",
       "    <tr>\n",
       "      <th>2</th>\n",
       "      <td>536365</td>\n",
       "      <td>84406B</td>\n",
       "      <td>CREAM CUPID HEARTS COAT HANGER</td>\n",
       "      <td>8</td>\n",
       "      <td>2010-12-01 08:26:00</td>\n",
       "      <td>2.75</td>\n",
       "      <td>17850.0</td>\n",
       "      <td>United Kingdom</td>\n",
       "    </tr>\n",
       "    <tr>\n",
       "      <th>3</th>\n",
       "      <td>536365</td>\n",
       "      <td>84029G</td>\n",
       "      <td>KNITTED UNION FLAG HOT WATER BOTTLE</td>\n",
       "      <td>6</td>\n",
       "      <td>2010-12-01 08:26:00</td>\n",
       "      <td>3.39</td>\n",
       "      <td>17850.0</td>\n",
       "      <td>United Kingdom</td>\n",
       "    </tr>\n",
       "    <tr>\n",
       "      <th>4</th>\n",
       "      <td>536365</td>\n",
       "      <td>84029E</td>\n",
       "      <td>RED WOOLLY HOTTIE WHITE HEART.</td>\n",
       "      <td>6</td>\n",
       "      <td>2010-12-01 08:26:00</td>\n",
       "      <td>3.39</td>\n",
       "      <td>17850.0</td>\n",
       "      <td>United Kingdom</td>\n",
       "    </tr>\n",
       "  </tbody>\n",
       "</table>\n",
       "</div>"
      ],
      "text/plain": [
       "  InvoiceNo StockCode                          Description  Quantity  \\\n",
       "0    536365    85123A   WHITE HANGING HEART T-LIGHT HOLDER         6   \n",
       "1    536365     71053                  WHITE METAL LANTERN         6   \n",
       "2    536365    84406B       CREAM CUPID HEARTS COAT HANGER         8   \n",
       "3    536365    84029G  KNITTED UNION FLAG HOT WATER BOTTLE         6   \n",
       "4    536365    84029E       RED WOOLLY HOTTIE WHITE HEART.         6   \n",
       "\n",
       "           InvoiceDate  UnitPrice  CustomerID         Country  \n",
       "0  2010-12-01 08:26:00       2.55     17850.0  United Kingdom  \n",
       "1  2010-12-01 08:26:00       3.39     17850.0  United Kingdom  \n",
       "2  2010-12-01 08:26:00       2.75     17850.0  United Kingdom  \n",
       "3  2010-12-01 08:26:00       3.39     17850.0  United Kingdom  \n",
       "4  2010-12-01 08:26:00       3.39     17850.0  United Kingdom  "
      ]
     },
     "execution_count": 47,
     "metadata": {},
     "output_type": "execute_result"
    }
   ],
   "source": [
    "df = pd.read_csv(path)\n",
    "df.head()"
   ]
  },
  {
   "cell_type": "code",
   "execution_count": 48,
   "id": "c3de3aed",
   "metadata": {},
   "outputs": [
    {
     "name": "stdout",
     "output_type": "stream",
     "text": [
      "<class 'pandas.core.frame.DataFrame'>\n",
      "RangeIndex: 541909 entries, 0 to 541908\n",
      "Data columns (total 8 columns):\n",
      " #   Column       Non-Null Count   Dtype  \n",
      "---  ------       --------------   -----  \n",
      " 0   InvoiceNo    541909 non-null  object \n",
      " 1   StockCode    541909 non-null  object \n",
      " 2   Description  540455 non-null  object \n",
      " 3   Quantity     541909 non-null  int64  \n",
      " 4   InvoiceDate  541909 non-null  object \n",
      " 5   UnitPrice    541909 non-null  float64\n",
      " 6   CustomerID   406829 non-null  float64\n",
      " 7   Country      541909 non-null  object \n",
      "dtypes: float64(2), int64(1), object(5)\n",
      "memory usage: 33.1+ MB\n"
     ]
    }
   ],
   "source": [
    "df.info()"
   ]
  },
  {
   "cell_type": "code",
   "execution_count": 49,
   "id": "e6b75bf7",
   "metadata": {},
   "outputs": [
    {
     "name": "stdout",
     "output_type": "stream",
     "text": [
      "<class 'pandas.core.frame.DataFrame'>\n",
      "RangeIndex: 541909 entries, 0 to 541908\n",
      "Data columns (total 8 columns):\n",
      " #   Column       Non-Null Count   Dtype         \n",
      "---  ------       --------------   -----         \n",
      " 0   InvoiceNo    541909 non-null  object        \n",
      " 1   StockCode    541909 non-null  object        \n",
      " 2   Description  540455 non-null  object        \n",
      " 3   Quantity     541909 non-null  int64         \n",
      " 4   InvoiceDate  541909 non-null  datetime64[ns]\n",
      " 5   UnitPrice    541909 non-null  float64       \n",
      " 6   CustomerID   406829 non-null  float64       \n",
      " 7   Country      541909 non-null  object        \n",
      "dtypes: datetime64[ns](1), float64(2), int64(1), object(4)\n",
      "memory usage: 33.1+ MB\n"
     ]
    }
   ],
   "source": [
    "df['InvoiceDate'] = pd.to_datetime(df['InvoiceDate'])\n",
    "df.info()\n"
   ]
  },
  {
   "cell_type": "code",
   "execution_count": 51,
   "id": "bc996075",
   "metadata": {},
   "outputs": [],
   "source": [
    "df.dropna(subset=['InvoiceDate'],inplace = True)\n"
   ]
  },
  {
   "cell_type": "code",
   "execution_count": 54,
   "id": "df2b1918",
   "metadata": {},
   "outputs": [],
   "source": [
    "df.set_index('InvoiceDate', inplace = True)"
   ]
  },
  {
   "cell_type": "code",
   "execution_count": null,
   "id": "cec8e72e",
   "metadata": {},
   "outputs": [
    {
     "name": "stdout",
     "output_type": "stream",
     "text": [
      "InvoiceDate\n",
      "2010-12-01 08:26:00    2010\n",
      "2010-12-01 08:26:00    2010\n",
      "2010-12-01 08:26:00    2010\n",
      "2010-12-01 08:26:00    2010\n",
      "2010-12-01 08:26:00    2010\n",
      "                       ... \n",
      "2011-12-09 12:50:00    2011\n",
      "2011-12-09 12:50:00    2011\n",
      "2011-12-09 12:50:00    2011\n",
      "2011-12-09 12:50:00    2011\n",
      "2011-12-09 12:50:00    2011\n",
      "Name: Year, Length: 541909, dtype: int32\n",
      "InvoiceDate\n",
      "2010-12-01 08:26:00    12\n",
      "2010-12-01 08:26:00    12\n",
      "2010-12-01 08:26:00    12\n",
      "2010-12-01 08:26:00    12\n",
      "2010-12-01 08:26:00    12\n",
      "                       ..\n",
      "2011-12-09 12:50:00    12\n",
      "2011-12-09 12:50:00    12\n",
      "2011-12-09 12:50:00    12\n",
      "2011-12-09 12:50:00    12\n",
      "2011-12-09 12:50:00    12\n",
      "Name: Month, Length: 541909, dtype: int32\n",
      "InvoiceDate\n",
      "2010-12-01 08:26:00    1\n",
      "2010-12-01 08:26:00    1\n",
      "2010-12-01 08:26:00    1\n",
      "2010-12-01 08:26:00    1\n",
      "2010-12-01 08:26:00    1\n",
      "                      ..\n",
      "2011-12-09 12:50:00    9\n",
      "2011-12-09 12:50:00    9\n",
      "2011-12-09 12:50:00    9\n",
      "2011-12-09 12:50:00    9\n",
      "2011-12-09 12:50:00    9\n",
      "Name: Day, Length: 541909, dtype: int32\n"
     ]
    }
   ],
   "source": [
    "df['Year'] = df.index.year\n",
    "df['Month'] = df.index.month\n",
    "df['Day'] = df.index.day\n",
    "df['Weekdy'] = df.index.weekday #error\n",
    "df['Hour'] = df.index.hour\n",
    "\n",
    "print(df['Year'])\n",
    "print(df['Month'])\n",
    "print(df['Day'])"
   ]
  },
  {
   "cell_type": "code",
   "execution_count": null,
   "id": "2578362c",
   "metadata": {},
   "outputs": [
    {
     "data": {
      "text/html": [
       "<div>\n",
       "<style scoped>\n",
       "    .dataframe tbody tr th:only-of-type {\n",
       "        vertical-align: middle;\n",
       "    }\n",
       "\n",
       "    .dataframe tbody tr th {\n",
       "        vertical-align: top;\n",
       "    }\n",
       "\n",
       "    .dataframe thead th {\n",
       "        text-align: right;\n",
       "    }\n",
       "</style>\n",
       "<table border=\"1\" class=\"dataframe\">\n",
       "  <thead>\n",
       "    <tr style=\"text-align: right;\">\n",
       "      <th></th>\n",
       "      <th>InvoiceNo</th>\n",
       "      <th>StockCode</th>\n",
       "      <th>Description</th>\n",
       "      <th>Quantity</th>\n",
       "      <th>UnitPrice</th>\n",
       "      <th>CustomerID</th>\n",
       "      <th>Country</th>\n",
       "      <th>Year</th>\n",
       "      <th>Month</th>\n",
       "      <th>Day</th>\n",
       "      <th>Weekdy</th>\n",
       "      <th>Hour</th>\n",
       "    </tr>\n",
       "    <tr>\n",
       "      <th>InvoiceDate</th>\n",
       "      <th></th>\n",
       "      <th></th>\n",
       "      <th></th>\n",
       "      <th></th>\n",
       "      <th></th>\n",
       "      <th></th>\n",
       "      <th></th>\n",
       "      <th></th>\n",
       "      <th></th>\n",
       "      <th></th>\n",
       "      <th></th>\n",
       "      <th></th>\n",
       "    </tr>\n",
       "  </thead>\n",
       "  <tbody>\n",
       "    <tr>\n",
       "      <th>2010-12-01 08:26:00</th>\n",
       "      <td>536365</td>\n",
       "      <td>85123A</td>\n",
       "      <td>WHITE HANGING HEART T-LIGHT HOLDER</td>\n",
       "      <td>6</td>\n",
       "      <td>2.55</td>\n",
       "      <td>17850.0</td>\n",
       "      <td>United Kingdom</td>\n",
       "      <td>2010</td>\n",
       "      <td>12</td>\n",
       "      <td>1</td>\n",
       "      <td>2</td>\n",
       "      <td>8</td>\n",
       "    </tr>\n",
       "    <tr>\n",
       "      <th>2010-12-01 08:26:00</th>\n",
       "      <td>536365</td>\n",
       "      <td>71053</td>\n",
       "      <td>WHITE METAL LANTERN</td>\n",
       "      <td>6</td>\n",
       "      <td>3.39</td>\n",
       "      <td>17850.0</td>\n",
       "      <td>United Kingdom</td>\n",
       "      <td>2010</td>\n",
       "      <td>12</td>\n",
       "      <td>1</td>\n",
       "      <td>2</td>\n",
       "      <td>8</td>\n",
       "    </tr>\n",
       "    <tr>\n",
       "      <th>2010-12-01 08:26:00</th>\n",
       "      <td>536365</td>\n",
       "      <td>84406B</td>\n",
       "      <td>CREAM CUPID HEARTS COAT HANGER</td>\n",
       "      <td>8</td>\n",
       "      <td>2.75</td>\n",
       "      <td>17850.0</td>\n",
       "      <td>United Kingdom</td>\n",
       "      <td>2010</td>\n",
       "      <td>12</td>\n",
       "      <td>1</td>\n",
       "      <td>2</td>\n",
       "      <td>8</td>\n",
       "    </tr>\n",
       "    <tr>\n",
       "      <th>2010-12-01 08:26:00</th>\n",
       "      <td>536365</td>\n",
       "      <td>84029G</td>\n",
       "      <td>KNITTED UNION FLAG HOT WATER BOTTLE</td>\n",
       "      <td>6</td>\n",
       "      <td>3.39</td>\n",
       "      <td>17850.0</td>\n",
       "      <td>United Kingdom</td>\n",
       "      <td>2010</td>\n",
       "      <td>12</td>\n",
       "      <td>1</td>\n",
       "      <td>2</td>\n",
       "      <td>8</td>\n",
       "    </tr>\n",
       "    <tr>\n",
       "      <th>2010-12-01 08:26:00</th>\n",
       "      <td>536365</td>\n",
       "      <td>84029E</td>\n",
       "      <td>RED WOOLLY HOTTIE WHITE HEART.</td>\n",
       "      <td>6</td>\n",
       "      <td>3.39</td>\n",
       "      <td>17850.0</td>\n",
       "      <td>United Kingdom</td>\n",
       "      <td>2010</td>\n",
       "      <td>12</td>\n",
       "      <td>1</td>\n",
       "      <td>2</td>\n",
       "      <td>8</td>\n",
       "    </tr>\n",
       "    <tr>\n",
       "      <th>...</th>\n",
       "      <td>...</td>\n",
       "      <td>...</td>\n",
       "      <td>...</td>\n",
       "      <td>...</td>\n",
       "      <td>...</td>\n",
       "      <td>...</td>\n",
       "      <td>...</td>\n",
       "      <td>...</td>\n",
       "      <td>...</td>\n",
       "      <td>...</td>\n",
       "      <td>...</td>\n",
       "      <td>...</td>\n",
       "    </tr>\n",
       "    <tr>\n",
       "      <th>2011-12-09 12:50:00</th>\n",
       "      <td>581587</td>\n",
       "      <td>22613</td>\n",
       "      <td>PACK OF 20 SPACEBOY NAPKINS</td>\n",
       "      <td>12</td>\n",
       "      <td>0.85</td>\n",
       "      <td>12680.0</td>\n",
       "      <td>France</td>\n",
       "      <td>2011</td>\n",
       "      <td>12</td>\n",
       "      <td>9</td>\n",
       "      <td>4</td>\n",
       "      <td>12</td>\n",
       "    </tr>\n",
       "    <tr>\n",
       "      <th>2011-12-09 12:50:00</th>\n",
       "      <td>581587</td>\n",
       "      <td>22899</td>\n",
       "      <td>CHILDREN'S APRON DOLLY GIRL</td>\n",
       "      <td>6</td>\n",
       "      <td>2.10</td>\n",
       "      <td>12680.0</td>\n",
       "      <td>France</td>\n",
       "      <td>2011</td>\n",
       "      <td>12</td>\n",
       "      <td>9</td>\n",
       "      <td>4</td>\n",
       "      <td>12</td>\n",
       "    </tr>\n",
       "    <tr>\n",
       "      <th>2011-12-09 12:50:00</th>\n",
       "      <td>581587</td>\n",
       "      <td>23254</td>\n",
       "      <td>CHILDRENS CUTLERY DOLLY GIRL</td>\n",
       "      <td>4</td>\n",
       "      <td>4.15</td>\n",
       "      <td>12680.0</td>\n",
       "      <td>France</td>\n",
       "      <td>2011</td>\n",
       "      <td>12</td>\n",
       "      <td>9</td>\n",
       "      <td>4</td>\n",
       "      <td>12</td>\n",
       "    </tr>\n",
       "    <tr>\n",
       "      <th>2011-12-09 12:50:00</th>\n",
       "      <td>581587</td>\n",
       "      <td>23255</td>\n",
       "      <td>CHILDRENS CUTLERY CIRCUS PARADE</td>\n",
       "      <td>4</td>\n",
       "      <td>4.15</td>\n",
       "      <td>12680.0</td>\n",
       "      <td>France</td>\n",
       "      <td>2011</td>\n",
       "      <td>12</td>\n",
       "      <td>9</td>\n",
       "      <td>4</td>\n",
       "      <td>12</td>\n",
       "    </tr>\n",
       "    <tr>\n",
       "      <th>2011-12-09 12:50:00</th>\n",
       "      <td>581587</td>\n",
       "      <td>22138</td>\n",
       "      <td>BAKING SET 9 PIECE RETROSPOT</td>\n",
       "      <td>3</td>\n",
       "      <td>4.95</td>\n",
       "      <td>12680.0</td>\n",
       "      <td>France</td>\n",
       "      <td>2011</td>\n",
       "      <td>12</td>\n",
       "      <td>9</td>\n",
       "      <td>4</td>\n",
       "      <td>12</td>\n",
       "    </tr>\n",
       "  </tbody>\n",
       "</table>\n",
       "<p>541909 rows × 12 columns</p>\n",
       "</div>"
      ],
      "text/plain": [
       "                    InvoiceNo StockCode                          Description  \\\n",
       "InvoiceDate                                                                    \n",
       "2010-12-01 08:26:00    536365    85123A   WHITE HANGING HEART T-LIGHT HOLDER   \n",
       "2010-12-01 08:26:00    536365     71053                  WHITE METAL LANTERN   \n",
       "2010-12-01 08:26:00    536365    84406B       CREAM CUPID HEARTS COAT HANGER   \n",
       "2010-12-01 08:26:00    536365    84029G  KNITTED UNION FLAG HOT WATER BOTTLE   \n",
       "2010-12-01 08:26:00    536365    84029E       RED WOOLLY HOTTIE WHITE HEART.   \n",
       "...                       ...       ...                                  ...   \n",
       "2011-12-09 12:50:00    581587     22613          PACK OF 20 SPACEBOY NAPKINS   \n",
       "2011-12-09 12:50:00    581587     22899         CHILDREN'S APRON DOLLY GIRL    \n",
       "2011-12-09 12:50:00    581587     23254        CHILDRENS CUTLERY DOLLY GIRL    \n",
       "2011-12-09 12:50:00    581587     23255      CHILDRENS CUTLERY CIRCUS PARADE   \n",
       "2011-12-09 12:50:00    581587     22138        BAKING SET 9 PIECE RETROSPOT    \n",
       "\n",
       "                     Quantity  UnitPrice  CustomerID         Country  Year  \\\n",
       "InvoiceDate                                                                  \n",
       "2010-12-01 08:26:00         6       2.55     17850.0  United Kingdom  2010   \n",
       "2010-12-01 08:26:00         6       3.39     17850.0  United Kingdom  2010   \n",
       "2010-12-01 08:26:00         8       2.75     17850.0  United Kingdom  2010   \n",
       "2010-12-01 08:26:00         6       3.39     17850.0  United Kingdom  2010   \n",
       "2010-12-01 08:26:00         6       3.39     17850.0  United Kingdom  2010   \n",
       "...                       ...        ...         ...             ...   ...   \n",
       "2011-12-09 12:50:00        12       0.85     12680.0          France  2011   \n",
       "2011-12-09 12:50:00         6       2.10     12680.0          France  2011   \n",
       "2011-12-09 12:50:00         4       4.15     12680.0          France  2011   \n",
       "2011-12-09 12:50:00         4       4.15     12680.0          France  2011   \n",
       "2011-12-09 12:50:00         3       4.95     12680.0          France  2011   \n",
       "\n",
       "                     Month  Day  Weekdy  Hour  \n",
       "InvoiceDate                                    \n",
       "2010-12-01 08:26:00     12    1       2     8  \n",
       "2010-12-01 08:26:00     12    1       2     8  \n",
       "2010-12-01 08:26:00     12    1       2     8  \n",
       "2010-12-01 08:26:00     12    1       2     8  \n",
       "2010-12-01 08:26:00     12    1       2     8  \n",
       "...                    ...  ...     ...   ...  \n",
       "2011-12-09 12:50:00     12    9       4    12  \n",
       "2011-12-09 12:50:00     12    9       4    12  \n",
       "2011-12-09 12:50:00     12    9       4    12  \n",
       "2011-12-09 12:50:00     12    9       4    12  \n",
       "2011-12-09 12:50:00     12    9       4    12  \n",
       "\n",
       "[541909 rows x 12 columns]"
      ]
     },
     "execution_count": 57,
     "metadata": {},
     "output_type": "execute_result"
    }
   ],
   "source": [
    "#Visualizamos el dataframe completo verificando que las columnas creadas hayan quedado correctas y observamos que la columna\n",
    "#weekdy tuvo un error en la escritura\n",
    "df"
   ]
  },
  {
   "cell_type": "code",
   "execution_count": 59,
   "id": "330baa14",
   "metadata": {},
   "outputs": [],
   "source": [
    "#Procedemos a eliminar la columna y volverla a crear de manera correcta\n",
    "df =df.drop(columns = ['Weekdy'])"
   ]
  },
  {
   "cell_type": "code",
   "execution_count": 60,
   "id": "65d4143c",
   "metadata": {},
   "outputs": [
    {
     "data": {
      "text/html": [
       "<div>\n",
       "<style scoped>\n",
       "    .dataframe tbody tr th:only-of-type {\n",
       "        vertical-align: middle;\n",
       "    }\n",
       "\n",
       "    .dataframe tbody tr th {\n",
       "        vertical-align: top;\n",
       "    }\n",
       "\n",
       "    .dataframe thead th {\n",
       "        text-align: right;\n",
       "    }\n",
       "</style>\n",
       "<table border=\"1\" class=\"dataframe\">\n",
       "  <thead>\n",
       "    <tr style=\"text-align: right;\">\n",
       "      <th></th>\n",
       "      <th>InvoiceNo</th>\n",
       "      <th>StockCode</th>\n",
       "      <th>Description</th>\n",
       "      <th>Quantity</th>\n",
       "      <th>UnitPrice</th>\n",
       "      <th>CustomerID</th>\n",
       "      <th>Country</th>\n",
       "      <th>Year</th>\n",
       "      <th>Month</th>\n",
       "      <th>Day</th>\n",
       "      <th>Hour</th>\n",
       "      <th>Weekday</th>\n",
       "    </tr>\n",
       "    <tr>\n",
       "      <th>InvoiceDate</th>\n",
       "      <th></th>\n",
       "      <th></th>\n",
       "      <th></th>\n",
       "      <th></th>\n",
       "      <th></th>\n",
       "      <th></th>\n",
       "      <th></th>\n",
       "      <th></th>\n",
       "      <th></th>\n",
       "      <th></th>\n",
       "      <th></th>\n",
       "      <th></th>\n",
       "    </tr>\n",
       "  </thead>\n",
       "  <tbody>\n",
       "    <tr>\n",
       "      <th>2010-12-01 08:26:00</th>\n",
       "      <td>536365</td>\n",
       "      <td>85123A</td>\n",
       "      <td>WHITE HANGING HEART T-LIGHT HOLDER</td>\n",
       "      <td>6</td>\n",
       "      <td>2.55</td>\n",
       "      <td>17850.0</td>\n",
       "      <td>United Kingdom</td>\n",
       "      <td>2010</td>\n",
       "      <td>12</td>\n",
       "      <td>1</td>\n",
       "      <td>8</td>\n",
       "      <td>2</td>\n",
       "    </tr>\n",
       "    <tr>\n",
       "      <th>2010-12-01 08:26:00</th>\n",
       "      <td>536365</td>\n",
       "      <td>71053</td>\n",
       "      <td>WHITE METAL LANTERN</td>\n",
       "      <td>6</td>\n",
       "      <td>3.39</td>\n",
       "      <td>17850.0</td>\n",
       "      <td>United Kingdom</td>\n",
       "      <td>2010</td>\n",
       "      <td>12</td>\n",
       "      <td>1</td>\n",
       "      <td>8</td>\n",
       "      <td>2</td>\n",
       "    </tr>\n",
       "    <tr>\n",
       "      <th>2010-12-01 08:26:00</th>\n",
       "      <td>536365</td>\n",
       "      <td>84406B</td>\n",
       "      <td>CREAM CUPID HEARTS COAT HANGER</td>\n",
       "      <td>8</td>\n",
       "      <td>2.75</td>\n",
       "      <td>17850.0</td>\n",
       "      <td>United Kingdom</td>\n",
       "      <td>2010</td>\n",
       "      <td>12</td>\n",
       "      <td>1</td>\n",
       "      <td>8</td>\n",
       "      <td>2</td>\n",
       "    </tr>\n",
       "    <tr>\n",
       "      <th>2010-12-01 08:26:00</th>\n",
       "      <td>536365</td>\n",
       "      <td>84029G</td>\n",
       "      <td>KNITTED UNION FLAG HOT WATER BOTTLE</td>\n",
       "      <td>6</td>\n",
       "      <td>3.39</td>\n",
       "      <td>17850.0</td>\n",
       "      <td>United Kingdom</td>\n",
       "      <td>2010</td>\n",
       "      <td>12</td>\n",
       "      <td>1</td>\n",
       "      <td>8</td>\n",
       "      <td>2</td>\n",
       "    </tr>\n",
       "    <tr>\n",
       "      <th>2010-12-01 08:26:00</th>\n",
       "      <td>536365</td>\n",
       "      <td>84029E</td>\n",
       "      <td>RED WOOLLY HOTTIE WHITE HEART.</td>\n",
       "      <td>6</td>\n",
       "      <td>3.39</td>\n",
       "      <td>17850.0</td>\n",
       "      <td>United Kingdom</td>\n",
       "      <td>2010</td>\n",
       "      <td>12</td>\n",
       "      <td>1</td>\n",
       "      <td>8</td>\n",
       "      <td>2</td>\n",
       "    </tr>\n",
       "    <tr>\n",
       "      <th>...</th>\n",
       "      <td>...</td>\n",
       "      <td>...</td>\n",
       "      <td>...</td>\n",
       "      <td>...</td>\n",
       "      <td>...</td>\n",
       "      <td>...</td>\n",
       "      <td>...</td>\n",
       "      <td>...</td>\n",
       "      <td>...</td>\n",
       "      <td>...</td>\n",
       "      <td>...</td>\n",
       "      <td>...</td>\n",
       "    </tr>\n",
       "    <tr>\n",
       "      <th>2011-12-09 12:50:00</th>\n",
       "      <td>581587</td>\n",
       "      <td>22613</td>\n",
       "      <td>PACK OF 20 SPACEBOY NAPKINS</td>\n",
       "      <td>12</td>\n",
       "      <td>0.85</td>\n",
       "      <td>12680.0</td>\n",
       "      <td>France</td>\n",
       "      <td>2011</td>\n",
       "      <td>12</td>\n",
       "      <td>9</td>\n",
       "      <td>12</td>\n",
       "      <td>4</td>\n",
       "    </tr>\n",
       "    <tr>\n",
       "      <th>2011-12-09 12:50:00</th>\n",
       "      <td>581587</td>\n",
       "      <td>22899</td>\n",
       "      <td>CHILDREN'S APRON DOLLY GIRL</td>\n",
       "      <td>6</td>\n",
       "      <td>2.10</td>\n",
       "      <td>12680.0</td>\n",
       "      <td>France</td>\n",
       "      <td>2011</td>\n",
       "      <td>12</td>\n",
       "      <td>9</td>\n",
       "      <td>12</td>\n",
       "      <td>4</td>\n",
       "    </tr>\n",
       "    <tr>\n",
       "      <th>2011-12-09 12:50:00</th>\n",
       "      <td>581587</td>\n",
       "      <td>23254</td>\n",
       "      <td>CHILDRENS CUTLERY DOLLY GIRL</td>\n",
       "      <td>4</td>\n",
       "      <td>4.15</td>\n",
       "      <td>12680.0</td>\n",
       "      <td>France</td>\n",
       "      <td>2011</td>\n",
       "      <td>12</td>\n",
       "      <td>9</td>\n",
       "      <td>12</td>\n",
       "      <td>4</td>\n",
       "    </tr>\n",
       "    <tr>\n",
       "      <th>2011-12-09 12:50:00</th>\n",
       "      <td>581587</td>\n",
       "      <td>23255</td>\n",
       "      <td>CHILDRENS CUTLERY CIRCUS PARADE</td>\n",
       "      <td>4</td>\n",
       "      <td>4.15</td>\n",
       "      <td>12680.0</td>\n",
       "      <td>France</td>\n",
       "      <td>2011</td>\n",
       "      <td>12</td>\n",
       "      <td>9</td>\n",
       "      <td>12</td>\n",
       "      <td>4</td>\n",
       "    </tr>\n",
       "    <tr>\n",
       "      <th>2011-12-09 12:50:00</th>\n",
       "      <td>581587</td>\n",
       "      <td>22138</td>\n",
       "      <td>BAKING SET 9 PIECE RETROSPOT</td>\n",
       "      <td>3</td>\n",
       "      <td>4.95</td>\n",
       "      <td>12680.0</td>\n",
       "      <td>France</td>\n",
       "      <td>2011</td>\n",
       "      <td>12</td>\n",
       "      <td>9</td>\n",
       "      <td>12</td>\n",
       "      <td>4</td>\n",
       "    </tr>\n",
       "  </tbody>\n",
       "</table>\n",
       "<p>541909 rows × 12 columns</p>\n",
       "</div>"
      ],
      "text/plain": [
       "                    InvoiceNo StockCode                          Description  \\\n",
       "InvoiceDate                                                                    \n",
       "2010-12-01 08:26:00    536365    85123A   WHITE HANGING HEART T-LIGHT HOLDER   \n",
       "2010-12-01 08:26:00    536365     71053                  WHITE METAL LANTERN   \n",
       "2010-12-01 08:26:00    536365    84406B       CREAM CUPID HEARTS COAT HANGER   \n",
       "2010-12-01 08:26:00    536365    84029G  KNITTED UNION FLAG HOT WATER BOTTLE   \n",
       "2010-12-01 08:26:00    536365    84029E       RED WOOLLY HOTTIE WHITE HEART.   \n",
       "...                       ...       ...                                  ...   \n",
       "2011-12-09 12:50:00    581587     22613          PACK OF 20 SPACEBOY NAPKINS   \n",
       "2011-12-09 12:50:00    581587     22899         CHILDREN'S APRON DOLLY GIRL    \n",
       "2011-12-09 12:50:00    581587     23254        CHILDRENS CUTLERY DOLLY GIRL    \n",
       "2011-12-09 12:50:00    581587     23255      CHILDRENS CUTLERY CIRCUS PARADE   \n",
       "2011-12-09 12:50:00    581587     22138        BAKING SET 9 PIECE RETROSPOT    \n",
       "\n",
       "                     Quantity  UnitPrice  CustomerID         Country  Year  \\\n",
       "InvoiceDate                                                                  \n",
       "2010-12-01 08:26:00         6       2.55     17850.0  United Kingdom  2010   \n",
       "2010-12-01 08:26:00         6       3.39     17850.0  United Kingdom  2010   \n",
       "2010-12-01 08:26:00         8       2.75     17850.0  United Kingdom  2010   \n",
       "2010-12-01 08:26:00         6       3.39     17850.0  United Kingdom  2010   \n",
       "2010-12-01 08:26:00         6       3.39     17850.0  United Kingdom  2010   \n",
       "...                       ...        ...         ...             ...   ...   \n",
       "2011-12-09 12:50:00        12       0.85     12680.0          France  2011   \n",
       "2011-12-09 12:50:00         6       2.10     12680.0          France  2011   \n",
       "2011-12-09 12:50:00         4       4.15     12680.0          France  2011   \n",
       "2011-12-09 12:50:00         4       4.15     12680.0          France  2011   \n",
       "2011-12-09 12:50:00         3       4.95     12680.0          France  2011   \n",
       "\n",
       "                     Month  Day  Hour  Weekday  \n",
       "InvoiceDate                                     \n",
       "2010-12-01 08:26:00     12    1     8        2  \n",
       "2010-12-01 08:26:00     12    1     8        2  \n",
       "2010-12-01 08:26:00     12    1     8        2  \n",
       "2010-12-01 08:26:00     12    1     8        2  \n",
       "2010-12-01 08:26:00     12    1     8        2  \n",
       "...                    ...  ...   ...      ...  \n",
       "2011-12-09 12:50:00     12    9    12        4  \n",
       "2011-12-09 12:50:00     12    9    12        4  \n",
       "2011-12-09 12:50:00     12    9    12        4  \n",
       "2011-12-09 12:50:00     12    9    12        4  \n",
       "2011-12-09 12:50:00     12    9    12        4  \n",
       "\n",
       "[541909 rows x 12 columns]"
      ]
     },
     "execution_count": 60,
     "metadata": {},
     "output_type": "execute_result"
    }
   ],
   "source": [
    "df['Weekday'] = df.index.weekday #error\n",
    "df"
   ]
  },
  {
   "cell_type": "code",
   "execution_count": null,
   "id": "a38962e7",
   "metadata": {},
   "outputs": [
    {
     "data": {
      "text/html": [
       "<div>\n",
       "<style scoped>\n",
       "    .dataframe tbody tr th:only-of-type {\n",
       "        vertical-align: middle;\n",
       "    }\n",
       "\n",
       "    .dataframe tbody tr th {\n",
       "        vertical-align: top;\n",
       "    }\n",
       "\n",
       "    .dataframe thead th {\n",
       "        text-align: right;\n",
       "    }\n",
       "</style>\n",
       "<table border=\"1\" class=\"dataframe\">\n",
       "  <thead>\n",
       "    <tr style=\"text-align: right;\">\n",
       "      <th></th>\n",
       "      <th>InvoiceNo</th>\n",
       "      <th>StockCode</th>\n",
       "      <th>Description</th>\n",
       "      <th>Quantity</th>\n",
       "      <th>UnitPrice</th>\n",
       "      <th>CustomerID</th>\n",
       "      <th>Country</th>\n",
       "      <th>Year</th>\n",
       "      <th>Month</th>\n",
       "      <th>Day</th>\n",
       "      <th>Hour</th>\n",
       "      <th>Weekday</th>\n",
       "    </tr>\n",
       "    <tr>\n",
       "      <th>InvoiceDate</th>\n",
       "      <th></th>\n",
       "      <th></th>\n",
       "      <th></th>\n",
       "      <th></th>\n",
       "      <th></th>\n",
       "      <th></th>\n",
       "      <th></th>\n",
       "      <th></th>\n",
       "      <th></th>\n",
       "      <th></th>\n",
       "      <th></th>\n",
       "      <th></th>\n",
       "    </tr>\n",
       "  </thead>\n",
       "  <tbody>\n",
       "    <tr>\n",
       "      <th>2011-01-04 10:00:00</th>\n",
       "      <td>539993</td>\n",
       "      <td>22386</td>\n",
       "      <td>JUMBO BAG PINK POLKADOT</td>\n",
       "      <td>10</td>\n",
       "      <td>1.95</td>\n",
       "      <td>13313.0</td>\n",
       "      <td>United Kingdom</td>\n",
       "      <td>2011</td>\n",
       "      <td>1</td>\n",
       "      <td>4</td>\n",
       "      <td>10</td>\n",
       "      <td>1</td>\n",
       "    </tr>\n",
       "    <tr>\n",
       "      <th>2011-01-04 10:00:00</th>\n",
       "      <td>539993</td>\n",
       "      <td>21499</td>\n",
       "      <td>BLUE POLKADOT WRAP</td>\n",
       "      <td>25</td>\n",
       "      <td>0.42</td>\n",
       "      <td>13313.0</td>\n",
       "      <td>United Kingdom</td>\n",
       "      <td>2011</td>\n",
       "      <td>1</td>\n",
       "      <td>4</td>\n",
       "      <td>10</td>\n",
       "      <td>1</td>\n",
       "    </tr>\n",
       "    <tr>\n",
       "      <th>2011-01-04 10:00:00</th>\n",
       "      <td>539993</td>\n",
       "      <td>21498</td>\n",
       "      <td>RED RETROSPOT WRAP</td>\n",
       "      <td>25</td>\n",
       "      <td>0.42</td>\n",
       "      <td>13313.0</td>\n",
       "      <td>United Kingdom</td>\n",
       "      <td>2011</td>\n",
       "      <td>1</td>\n",
       "      <td>4</td>\n",
       "      <td>10</td>\n",
       "      <td>1</td>\n",
       "    </tr>\n",
       "    <tr>\n",
       "      <th>2011-01-04 10:00:00</th>\n",
       "      <td>539993</td>\n",
       "      <td>22379</td>\n",
       "      <td>RECYCLING BAG RETROSPOT</td>\n",
       "      <td>5</td>\n",
       "      <td>2.10</td>\n",
       "      <td>13313.0</td>\n",
       "      <td>United Kingdom</td>\n",
       "      <td>2011</td>\n",
       "      <td>1</td>\n",
       "      <td>4</td>\n",
       "      <td>10</td>\n",
       "      <td>1</td>\n",
       "    </tr>\n",
       "    <tr>\n",
       "      <th>2011-01-04 10:00:00</th>\n",
       "      <td>539993</td>\n",
       "      <td>20718</td>\n",
       "      <td>RED RETROSPOT SHOPPER BAG</td>\n",
       "      <td>10</td>\n",
       "      <td>1.25</td>\n",
       "      <td>13313.0</td>\n",
       "      <td>United Kingdom</td>\n",
       "      <td>2011</td>\n",
       "      <td>1</td>\n",
       "      <td>4</td>\n",
       "      <td>10</td>\n",
       "      <td>1</td>\n",
       "    </tr>\n",
       "  </tbody>\n",
       "</table>\n",
       "</div>"
      ],
      "text/plain": [
       "                    InvoiceNo StockCode                Description  Quantity  \\\n",
       "InvoiceDate                                                                    \n",
       "2011-01-04 10:00:00    539993     22386    JUMBO BAG PINK POLKADOT        10   \n",
       "2011-01-04 10:00:00    539993     21499         BLUE POLKADOT WRAP        25   \n",
       "2011-01-04 10:00:00    539993     21498        RED RETROSPOT WRAP         25   \n",
       "2011-01-04 10:00:00    539993     22379   RECYCLING BAG RETROSPOT          5   \n",
       "2011-01-04 10:00:00    539993     20718  RED RETROSPOT SHOPPER BAG        10   \n",
       "\n",
       "                     UnitPrice  CustomerID         Country  Year  Month  Day  \\\n",
       "InvoiceDate                                                                    \n",
       "2011-01-04 10:00:00       1.95     13313.0  United Kingdom  2011      1    4   \n",
       "2011-01-04 10:00:00       0.42     13313.0  United Kingdom  2011      1    4   \n",
       "2011-01-04 10:00:00       0.42     13313.0  United Kingdom  2011      1    4   \n",
       "2011-01-04 10:00:00       2.10     13313.0  United Kingdom  2011      1    4   \n",
       "2011-01-04 10:00:00       1.25     13313.0  United Kingdom  2011      1    4   \n",
       "\n",
       "                     Hour  Weekday  \n",
       "InvoiceDate                         \n",
       "2011-01-04 10:00:00    10        1  \n",
       "2011-01-04 10:00:00    10        1  \n",
       "2011-01-04 10:00:00    10        1  \n",
       "2011-01-04 10:00:00    10        1  \n",
       "2011-01-04 10:00:00    10        1  "
      ]
     },
     "execution_count": 61,
     "metadata": {},
     "output_type": "execute_result"
    }
   ],
   "source": [
    "# Con la funcion loc podemos extrer directamente informacion solo pasando un parametro de dato en este caso de 2011 con base al indice\n",
    "df_2011 = df.loc['2011']\n",
    "df_2011.head()"
   ]
  },
  {
   "cell_type": "code",
   "execution_count": 62,
   "id": "450d72c7",
   "metadata": {},
   "outputs": [
    {
     "data": {
      "text/html": [
       "<div>\n",
       "<style scoped>\n",
       "    .dataframe tbody tr th:only-of-type {\n",
       "        vertical-align: middle;\n",
       "    }\n",
       "\n",
       "    .dataframe tbody tr th {\n",
       "        vertical-align: top;\n",
       "    }\n",
       "\n",
       "    .dataframe thead th {\n",
       "        text-align: right;\n",
       "    }\n",
       "</style>\n",
       "<table border=\"1\" class=\"dataframe\">\n",
       "  <thead>\n",
       "    <tr style=\"text-align: right;\">\n",
       "      <th></th>\n",
       "      <th>InvoiceNo</th>\n",
       "      <th>StockCode</th>\n",
       "      <th>Description</th>\n",
       "      <th>Quantity</th>\n",
       "      <th>UnitPrice</th>\n",
       "      <th>CustomerID</th>\n",
       "      <th>Country</th>\n",
       "      <th>Year</th>\n",
       "      <th>Month</th>\n",
       "      <th>Day</th>\n",
       "      <th>Hour</th>\n",
       "      <th>Weekday</th>\n",
       "    </tr>\n",
       "    <tr>\n",
       "      <th>InvoiceDate</th>\n",
       "      <th></th>\n",
       "      <th></th>\n",
       "      <th></th>\n",
       "      <th></th>\n",
       "      <th></th>\n",
       "      <th></th>\n",
       "      <th></th>\n",
       "      <th></th>\n",
       "      <th></th>\n",
       "      <th></th>\n",
       "      <th></th>\n",
       "      <th></th>\n",
       "    </tr>\n",
       "  </thead>\n",
       "  <tbody>\n",
       "    <tr>\n",
       "      <th>2011-12-01 08:12:00</th>\n",
       "      <td>C579889</td>\n",
       "      <td>23245</td>\n",
       "      <td>SET OF 3 REGENCY CAKE TINS</td>\n",
       "      <td>-8</td>\n",
       "      <td>4.15</td>\n",
       "      <td>13853.0</td>\n",
       "      <td>United Kingdom</td>\n",
       "      <td>2011</td>\n",
       "      <td>12</td>\n",
       "      <td>1</td>\n",
       "      <td>8</td>\n",
       "      <td>3</td>\n",
       "    </tr>\n",
       "    <tr>\n",
       "      <th>2011-12-01 08:14:00</th>\n",
       "      <td>C579890</td>\n",
       "      <td>84947</td>\n",
       "      <td>ANTIQUE SILVER TEA GLASS ENGRAVED</td>\n",
       "      <td>-1</td>\n",
       "      <td>1.25</td>\n",
       "      <td>15197.0</td>\n",
       "      <td>United Kingdom</td>\n",
       "      <td>2011</td>\n",
       "      <td>12</td>\n",
       "      <td>1</td>\n",
       "      <td>8</td>\n",
       "      <td>3</td>\n",
       "    </tr>\n",
       "    <tr>\n",
       "      <th>2011-12-01 08:14:00</th>\n",
       "      <td>C579890</td>\n",
       "      <td>23374</td>\n",
       "      <td>RED SPOT PAPER GIFT BAG</td>\n",
       "      <td>-1</td>\n",
       "      <td>0.82</td>\n",
       "      <td>15197.0</td>\n",
       "      <td>United Kingdom</td>\n",
       "      <td>2011</td>\n",
       "      <td>12</td>\n",
       "      <td>1</td>\n",
       "      <td>8</td>\n",
       "      <td>3</td>\n",
       "    </tr>\n",
       "    <tr>\n",
       "      <th>2011-12-01 08:14:00</th>\n",
       "      <td>C579890</td>\n",
       "      <td>84945</td>\n",
       "      <td>MULTI COLOUR SILVER T-LIGHT HOLDER</td>\n",
       "      <td>-2</td>\n",
       "      <td>0.85</td>\n",
       "      <td>15197.0</td>\n",
       "      <td>United Kingdom</td>\n",
       "      <td>2011</td>\n",
       "      <td>12</td>\n",
       "      <td>1</td>\n",
       "      <td>8</td>\n",
       "      <td>3</td>\n",
       "    </tr>\n",
       "    <tr>\n",
       "      <th>2011-12-01 08:18:00</th>\n",
       "      <td>C579891</td>\n",
       "      <td>23485</td>\n",
       "      <td>BOTANICAL GARDENS WALL CLOCK</td>\n",
       "      <td>-1</td>\n",
       "      <td>25.00</td>\n",
       "      <td>13644.0</td>\n",
       "      <td>United Kingdom</td>\n",
       "      <td>2011</td>\n",
       "      <td>12</td>\n",
       "      <td>1</td>\n",
       "      <td>8</td>\n",
       "      <td>3</td>\n",
       "    </tr>\n",
       "  </tbody>\n",
       "</table>\n",
       "</div>"
      ],
      "text/plain": [
       "                    InvoiceNo StockCode                         Description  \\\n",
       "InvoiceDate                                                                   \n",
       "2011-12-01 08:12:00   C579889     23245          SET OF 3 REGENCY CAKE TINS   \n",
       "2011-12-01 08:14:00   C579890     84947   ANTIQUE SILVER TEA GLASS ENGRAVED   \n",
       "2011-12-01 08:14:00   C579890     23374             RED SPOT PAPER GIFT BAG   \n",
       "2011-12-01 08:14:00   C579890     84945  MULTI COLOUR SILVER T-LIGHT HOLDER   \n",
       "2011-12-01 08:18:00   C579891     23485       BOTANICAL GARDENS WALL CLOCK    \n",
       "\n",
       "                     Quantity  UnitPrice  CustomerID         Country  Year  \\\n",
       "InvoiceDate                                                                  \n",
       "2011-12-01 08:12:00        -8       4.15     13853.0  United Kingdom  2011   \n",
       "2011-12-01 08:14:00        -1       1.25     15197.0  United Kingdom  2011   \n",
       "2011-12-01 08:14:00        -1       0.82     15197.0  United Kingdom  2011   \n",
       "2011-12-01 08:14:00        -2       0.85     15197.0  United Kingdom  2011   \n",
       "2011-12-01 08:18:00        -1      25.00     13644.0  United Kingdom  2011   \n",
       "\n",
       "                     Month  Day  Hour  Weekday  \n",
       "InvoiceDate                                     \n",
       "2011-12-01 08:12:00     12    1     8        3  \n",
       "2011-12-01 08:14:00     12    1     8        3  \n",
       "2011-12-01 08:14:00     12    1     8        3  \n",
       "2011-12-01 08:14:00     12    1     8        3  \n",
       "2011-12-01 08:18:00     12    1     8        3  "
      ]
     },
     "execution_count": 62,
     "metadata": {},
     "output_type": "execute_result"
    }
   ],
   "source": [
    "#vamos a hacer el ejercicio extrayendo informacion del 2011 diciembre\n",
    "df_2011_dec = df.loc['2011-12']\n",
    "df_2011_dec.head()"
   ]
  },
  {
   "cell_type": "code",
   "execution_count": 64,
   "id": "89319717",
   "metadata": {},
   "outputs": [
    {
     "data": {
      "text/html": [
       "<div>\n",
       "<style scoped>\n",
       "    .dataframe tbody tr th:only-of-type {\n",
       "        vertical-align: middle;\n",
       "    }\n",
       "\n",
       "    .dataframe tbody tr th {\n",
       "        vertical-align: top;\n",
       "    }\n",
       "\n",
       "    .dataframe thead th {\n",
       "        text-align: right;\n",
       "    }\n",
       "</style>\n",
       "<table border=\"1\" class=\"dataframe\">\n",
       "  <thead>\n",
       "    <tr style=\"text-align: right;\">\n",
       "      <th></th>\n",
       "      <th>InvoiceNo</th>\n",
       "      <th>StockCode</th>\n",
       "      <th>Description</th>\n",
       "      <th>Quantity</th>\n",
       "      <th>UnitPrice</th>\n",
       "      <th>CustomerID</th>\n",
       "      <th>Country</th>\n",
       "      <th>Year</th>\n",
       "      <th>Month</th>\n",
       "      <th>Day</th>\n",
       "      <th>Hour</th>\n",
       "      <th>Weekday</th>\n",
       "    </tr>\n",
       "    <tr>\n",
       "      <th>InvoiceDate</th>\n",
       "      <th></th>\n",
       "      <th></th>\n",
       "      <th></th>\n",
       "      <th></th>\n",
       "      <th></th>\n",
       "      <th></th>\n",
       "      <th></th>\n",
       "      <th></th>\n",
       "      <th></th>\n",
       "      <th></th>\n",
       "      <th></th>\n",
       "      <th></th>\n",
       "    </tr>\n",
       "  </thead>\n",
       "  <tbody>\n",
       "    <tr>\n",
       "      <th>2010-12-01 08:26:00</th>\n",
       "      <td>536365</td>\n",
       "      <td>85123A</td>\n",
       "      <td>WHITE HANGING HEART T-LIGHT HOLDER</td>\n",
       "      <td>6</td>\n",
       "      <td>2.55</td>\n",
       "      <td>17850.0</td>\n",
       "      <td>United Kingdom</td>\n",
       "      <td>2010</td>\n",
       "      <td>12</td>\n",
       "      <td>1</td>\n",
       "      <td>8</td>\n",
       "      <td>2</td>\n",
       "    </tr>\n",
       "    <tr>\n",
       "      <th>2010-12-01 08:26:00</th>\n",
       "      <td>536365</td>\n",
       "      <td>71053</td>\n",
       "      <td>WHITE METAL LANTERN</td>\n",
       "      <td>6</td>\n",
       "      <td>3.39</td>\n",
       "      <td>17850.0</td>\n",
       "      <td>United Kingdom</td>\n",
       "      <td>2010</td>\n",
       "      <td>12</td>\n",
       "      <td>1</td>\n",
       "      <td>8</td>\n",
       "      <td>2</td>\n",
       "    </tr>\n",
       "    <tr>\n",
       "      <th>2010-12-01 08:26:00</th>\n",
       "      <td>536365</td>\n",
       "      <td>84406B</td>\n",
       "      <td>CREAM CUPID HEARTS COAT HANGER</td>\n",
       "      <td>8</td>\n",
       "      <td>2.75</td>\n",
       "      <td>17850.0</td>\n",
       "      <td>United Kingdom</td>\n",
       "      <td>2010</td>\n",
       "      <td>12</td>\n",
       "      <td>1</td>\n",
       "      <td>8</td>\n",
       "      <td>2</td>\n",
       "    </tr>\n",
       "    <tr>\n",
       "      <th>2010-12-01 08:26:00</th>\n",
       "      <td>536365</td>\n",
       "      <td>84029G</td>\n",
       "      <td>KNITTED UNION FLAG HOT WATER BOTTLE</td>\n",
       "      <td>6</td>\n",
       "      <td>3.39</td>\n",
       "      <td>17850.0</td>\n",
       "      <td>United Kingdom</td>\n",
       "      <td>2010</td>\n",
       "      <td>12</td>\n",
       "      <td>1</td>\n",
       "      <td>8</td>\n",
       "      <td>2</td>\n",
       "    </tr>\n",
       "    <tr>\n",
       "      <th>2010-12-01 08:26:00</th>\n",
       "      <td>536365</td>\n",
       "      <td>84029E</td>\n",
       "      <td>RED WOOLLY HOTTIE WHITE HEART.</td>\n",
       "      <td>6</td>\n",
       "      <td>3.39</td>\n",
       "      <td>17850.0</td>\n",
       "      <td>United Kingdom</td>\n",
       "      <td>2010</td>\n",
       "      <td>12</td>\n",
       "      <td>1</td>\n",
       "      <td>8</td>\n",
       "      <td>2</td>\n",
       "    </tr>\n",
       "    <tr>\n",
       "      <th>2010-12-01 08:26:00</th>\n",
       "      <td>536365</td>\n",
       "      <td>22752</td>\n",
       "      <td>SET 7 BABUSHKA NESTING BOXES</td>\n",
       "      <td>2</td>\n",
       "      <td>7.65</td>\n",
       "      <td>17850.0</td>\n",
       "      <td>United Kingdom</td>\n",
       "      <td>2010</td>\n",
       "      <td>12</td>\n",
       "      <td>1</td>\n",
       "      <td>8</td>\n",
       "      <td>2</td>\n",
       "    </tr>\n",
       "    <tr>\n",
       "      <th>2010-12-01 08:26:00</th>\n",
       "      <td>536365</td>\n",
       "      <td>21730</td>\n",
       "      <td>GLASS STAR FROSTED T-LIGHT HOLDER</td>\n",
       "      <td>6</td>\n",
       "      <td>4.25</td>\n",
       "      <td>17850.0</td>\n",
       "      <td>United Kingdom</td>\n",
       "      <td>2010</td>\n",
       "      <td>12</td>\n",
       "      <td>1</td>\n",
       "      <td>8</td>\n",
       "      <td>2</td>\n",
       "    </tr>\n",
       "    <tr>\n",
       "      <th>2010-12-01 08:28:00</th>\n",
       "      <td>536366</td>\n",
       "      <td>22633</td>\n",
       "      <td>HAND WARMER UNION JACK</td>\n",
       "      <td>6</td>\n",
       "      <td>1.85</td>\n",
       "      <td>17850.0</td>\n",
       "      <td>United Kingdom</td>\n",
       "      <td>2010</td>\n",
       "      <td>12</td>\n",
       "      <td>1</td>\n",
       "      <td>8</td>\n",
       "      <td>2</td>\n",
       "    </tr>\n",
       "    <tr>\n",
       "      <th>2010-12-01 08:28:00</th>\n",
       "      <td>536366</td>\n",
       "      <td>22632</td>\n",
       "      <td>HAND WARMER RED POLKA DOT</td>\n",
       "      <td>6</td>\n",
       "      <td>1.85</td>\n",
       "      <td>17850.0</td>\n",
       "      <td>United Kingdom</td>\n",
       "      <td>2010</td>\n",
       "      <td>12</td>\n",
       "      <td>1</td>\n",
       "      <td>8</td>\n",
       "      <td>2</td>\n",
       "    </tr>\n",
       "    <tr>\n",
       "      <th>2010-12-01 08:34:00</th>\n",
       "      <td>536367</td>\n",
       "      <td>84879</td>\n",
       "      <td>ASSORTED COLOUR BIRD ORNAMENT</td>\n",
       "      <td>32</td>\n",
       "      <td>1.69</td>\n",
       "      <td>13047.0</td>\n",
       "      <td>United Kingdom</td>\n",
       "      <td>2010</td>\n",
       "      <td>12</td>\n",
       "      <td>1</td>\n",
       "      <td>8</td>\n",
       "      <td>2</td>\n",
       "    </tr>\n",
       "    <tr>\n",
       "      <th>2010-12-01 08:34:00</th>\n",
       "      <td>536367</td>\n",
       "      <td>22745</td>\n",
       "      <td>POPPY'S PLAYHOUSE BEDROOM</td>\n",
       "      <td>6</td>\n",
       "      <td>2.10</td>\n",
       "      <td>13047.0</td>\n",
       "      <td>United Kingdom</td>\n",
       "      <td>2010</td>\n",
       "      <td>12</td>\n",
       "      <td>1</td>\n",
       "      <td>8</td>\n",
       "      <td>2</td>\n",
       "    </tr>\n",
       "    <tr>\n",
       "      <th>2010-12-01 08:34:00</th>\n",
       "      <td>536367</td>\n",
       "      <td>22748</td>\n",
       "      <td>POPPY'S PLAYHOUSE KITCHEN</td>\n",
       "      <td>6</td>\n",
       "      <td>2.10</td>\n",
       "      <td>13047.0</td>\n",
       "      <td>United Kingdom</td>\n",
       "      <td>2010</td>\n",
       "      <td>12</td>\n",
       "      <td>1</td>\n",
       "      <td>8</td>\n",
       "      <td>2</td>\n",
       "    </tr>\n",
       "    <tr>\n",
       "      <th>2010-12-01 08:34:00</th>\n",
       "      <td>536367</td>\n",
       "      <td>22749</td>\n",
       "      <td>FELTCRAFT PRINCESS CHARLOTTE DOLL</td>\n",
       "      <td>8</td>\n",
       "      <td>3.75</td>\n",
       "      <td>13047.0</td>\n",
       "      <td>United Kingdom</td>\n",
       "      <td>2010</td>\n",
       "      <td>12</td>\n",
       "      <td>1</td>\n",
       "      <td>8</td>\n",
       "      <td>2</td>\n",
       "    </tr>\n",
       "    <tr>\n",
       "      <th>2010-12-01 08:34:00</th>\n",
       "      <td>536367</td>\n",
       "      <td>22310</td>\n",
       "      <td>IVORY KNITTED MUG COSY</td>\n",
       "      <td>6</td>\n",
       "      <td>1.65</td>\n",
       "      <td>13047.0</td>\n",
       "      <td>United Kingdom</td>\n",
       "      <td>2010</td>\n",
       "      <td>12</td>\n",
       "      <td>1</td>\n",
       "      <td>8</td>\n",
       "      <td>2</td>\n",
       "    </tr>\n",
       "    <tr>\n",
       "      <th>2010-12-01 08:34:00</th>\n",
       "      <td>536367</td>\n",
       "      <td>84969</td>\n",
       "      <td>BOX OF 6 ASSORTED COLOUR TEASPOONS</td>\n",
       "      <td>6</td>\n",
       "      <td>4.25</td>\n",
       "      <td>13047.0</td>\n",
       "      <td>United Kingdom</td>\n",
       "      <td>2010</td>\n",
       "      <td>12</td>\n",
       "      <td>1</td>\n",
       "      <td>8</td>\n",
       "      <td>2</td>\n",
       "    </tr>\n",
       "    <tr>\n",
       "      <th>2010-12-01 08:34:00</th>\n",
       "      <td>536367</td>\n",
       "      <td>22623</td>\n",
       "      <td>BOX OF VINTAGE JIGSAW BLOCKS</td>\n",
       "      <td>3</td>\n",
       "      <td>4.95</td>\n",
       "      <td>13047.0</td>\n",
       "      <td>United Kingdom</td>\n",
       "      <td>2010</td>\n",
       "      <td>12</td>\n",
       "      <td>1</td>\n",
       "      <td>8</td>\n",
       "      <td>2</td>\n",
       "    </tr>\n",
       "    <tr>\n",
       "      <th>2010-12-01 08:34:00</th>\n",
       "      <td>536367</td>\n",
       "      <td>22622</td>\n",
       "      <td>BOX OF VINTAGE ALPHABET BLOCKS</td>\n",
       "      <td>2</td>\n",
       "      <td>9.95</td>\n",
       "      <td>13047.0</td>\n",
       "      <td>United Kingdom</td>\n",
       "      <td>2010</td>\n",
       "      <td>12</td>\n",
       "      <td>1</td>\n",
       "      <td>8</td>\n",
       "      <td>2</td>\n",
       "    </tr>\n",
       "    <tr>\n",
       "      <th>2010-12-01 08:34:00</th>\n",
       "      <td>536367</td>\n",
       "      <td>21754</td>\n",
       "      <td>HOME BUILDING BLOCK WORD</td>\n",
       "      <td>3</td>\n",
       "      <td>5.95</td>\n",
       "      <td>13047.0</td>\n",
       "      <td>United Kingdom</td>\n",
       "      <td>2010</td>\n",
       "      <td>12</td>\n",
       "      <td>1</td>\n",
       "      <td>8</td>\n",
       "      <td>2</td>\n",
       "    </tr>\n",
       "    <tr>\n",
       "      <th>2010-12-01 08:34:00</th>\n",
       "      <td>536367</td>\n",
       "      <td>21755</td>\n",
       "      <td>LOVE BUILDING BLOCK WORD</td>\n",
       "      <td>3</td>\n",
       "      <td>5.95</td>\n",
       "      <td>13047.0</td>\n",
       "      <td>United Kingdom</td>\n",
       "      <td>2010</td>\n",
       "      <td>12</td>\n",
       "      <td>1</td>\n",
       "      <td>8</td>\n",
       "      <td>2</td>\n",
       "    </tr>\n",
       "    <tr>\n",
       "      <th>2010-12-01 08:34:00</th>\n",
       "      <td>536367</td>\n",
       "      <td>21777</td>\n",
       "      <td>RECIPE BOX WITH METAL HEART</td>\n",
       "      <td>4</td>\n",
       "      <td>7.95</td>\n",
       "      <td>13047.0</td>\n",
       "      <td>United Kingdom</td>\n",
       "      <td>2010</td>\n",
       "      <td>12</td>\n",
       "      <td>1</td>\n",
       "      <td>8</td>\n",
       "      <td>2</td>\n",
       "    </tr>\n",
       "  </tbody>\n",
       "</table>\n",
       "</div>"
      ],
      "text/plain": [
       "                    InvoiceNo StockCode                          Description  \\\n",
       "InvoiceDate                                                                    \n",
       "2010-12-01 08:26:00    536365    85123A   WHITE HANGING HEART T-LIGHT HOLDER   \n",
       "2010-12-01 08:26:00    536365     71053                  WHITE METAL LANTERN   \n",
       "2010-12-01 08:26:00    536365    84406B       CREAM CUPID HEARTS COAT HANGER   \n",
       "2010-12-01 08:26:00    536365    84029G  KNITTED UNION FLAG HOT WATER BOTTLE   \n",
       "2010-12-01 08:26:00    536365    84029E       RED WOOLLY HOTTIE WHITE HEART.   \n",
       "2010-12-01 08:26:00    536365     22752         SET 7 BABUSHKA NESTING BOXES   \n",
       "2010-12-01 08:26:00    536365     21730    GLASS STAR FROSTED T-LIGHT HOLDER   \n",
       "2010-12-01 08:28:00    536366     22633               HAND WARMER UNION JACK   \n",
       "2010-12-01 08:28:00    536366     22632            HAND WARMER RED POLKA DOT   \n",
       "2010-12-01 08:34:00    536367     84879        ASSORTED COLOUR BIRD ORNAMENT   \n",
       "2010-12-01 08:34:00    536367     22745           POPPY'S PLAYHOUSE BEDROOM    \n",
       "2010-12-01 08:34:00    536367     22748            POPPY'S PLAYHOUSE KITCHEN   \n",
       "2010-12-01 08:34:00    536367     22749    FELTCRAFT PRINCESS CHARLOTTE DOLL   \n",
       "2010-12-01 08:34:00    536367     22310              IVORY KNITTED MUG COSY    \n",
       "2010-12-01 08:34:00    536367     84969   BOX OF 6 ASSORTED COLOUR TEASPOONS   \n",
       "2010-12-01 08:34:00    536367     22623        BOX OF VINTAGE JIGSAW BLOCKS    \n",
       "2010-12-01 08:34:00    536367     22622       BOX OF VINTAGE ALPHABET BLOCKS   \n",
       "2010-12-01 08:34:00    536367     21754             HOME BUILDING BLOCK WORD   \n",
       "2010-12-01 08:34:00    536367     21755             LOVE BUILDING BLOCK WORD   \n",
       "2010-12-01 08:34:00    536367     21777          RECIPE BOX WITH METAL HEART   \n",
       "\n",
       "                     Quantity  UnitPrice  CustomerID         Country  Year  \\\n",
       "InvoiceDate                                                                  \n",
       "2010-12-01 08:26:00         6       2.55     17850.0  United Kingdom  2010   \n",
       "2010-12-01 08:26:00         6       3.39     17850.0  United Kingdom  2010   \n",
       "2010-12-01 08:26:00         8       2.75     17850.0  United Kingdom  2010   \n",
       "2010-12-01 08:26:00         6       3.39     17850.0  United Kingdom  2010   \n",
       "2010-12-01 08:26:00         6       3.39     17850.0  United Kingdom  2010   \n",
       "2010-12-01 08:26:00         2       7.65     17850.0  United Kingdom  2010   \n",
       "2010-12-01 08:26:00         6       4.25     17850.0  United Kingdom  2010   \n",
       "2010-12-01 08:28:00         6       1.85     17850.0  United Kingdom  2010   \n",
       "2010-12-01 08:28:00         6       1.85     17850.0  United Kingdom  2010   \n",
       "2010-12-01 08:34:00        32       1.69     13047.0  United Kingdom  2010   \n",
       "2010-12-01 08:34:00         6       2.10     13047.0  United Kingdom  2010   \n",
       "2010-12-01 08:34:00         6       2.10     13047.0  United Kingdom  2010   \n",
       "2010-12-01 08:34:00         8       3.75     13047.0  United Kingdom  2010   \n",
       "2010-12-01 08:34:00         6       1.65     13047.0  United Kingdom  2010   \n",
       "2010-12-01 08:34:00         6       4.25     13047.0  United Kingdom  2010   \n",
       "2010-12-01 08:34:00         3       4.95     13047.0  United Kingdom  2010   \n",
       "2010-12-01 08:34:00         2       9.95     13047.0  United Kingdom  2010   \n",
       "2010-12-01 08:34:00         3       5.95     13047.0  United Kingdom  2010   \n",
       "2010-12-01 08:34:00         3       5.95     13047.0  United Kingdom  2010   \n",
       "2010-12-01 08:34:00         4       7.95     13047.0  United Kingdom  2010   \n",
       "\n",
       "                     Month  Day  Hour  Weekday  \n",
       "InvoiceDate                                     \n",
       "2010-12-01 08:26:00     12    1     8        2  \n",
       "2010-12-01 08:26:00     12    1     8        2  \n",
       "2010-12-01 08:26:00     12    1     8        2  \n",
       "2010-12-01 08:26:00     12    1     8        2  \n",
       "2010-12-01 08:26:00     12    1     8        2  \n",
       "2010-12-01 08:26:00     12    1     8        2  \n",
       "2010-12-01 08:26:00     12    1     8        2  \n",
       "2010-12-01 08:28:00     12    1     8        2  \n",
       "2010-12-01 08:28:00     12    1     8        2  \n",
       "2010-12-01 08:34:00     12    1     8        2  \n",
       "2010-12-01 08:34:00     12    1     8        2  \n",
       "2010-12-01 08:34:00     12    1     8        2  \n",
       "2010-12-01 08:34:00     12    1     8        2  \n",
       "2010-12-01 08:34:00     12    1     8        2  \n",
       "2010-12-01 08:34:00     12    1     8        2  \n",
       "2010-12-01 08:34:00     12    1     8        2  \n",
       "2010-12-01 08:34:00     12    1     8        2  \n",
       "2010-12-01 08:34:00     12    1     8        2  \n",
       "2010-12-01 08:34:00     12    1     8        2  \n",
       "2010-12-01 08:34:00     12    1     8        2  "
      ]
     },
     "execution_count": 64,
     "metadata": {},
     "output_type": "execute_result"
    }
   ],
   "source": [
    "#vamos a extraer informacion en un rango de fechas\n",
    "df_dec_range = df.loc['2010-12-01':'2010-12-15']\n",
    "df_dec_range.head(20)"
   ]
  },
  {
   "cell_type": "code",
   "execution_count": 66,
   "id": "8940ec03",
   "metadata": {},
   "outputs": [
    {
     "data": {
      "text/plain": [
       "DatetimeIndex(['2024-01-01', '2024-01-02', '2024-01-03', '2024-01-04',\n",
       "               '2024-01-05', '2024-01-06', '2024-01-07', '2024-01-08',\n",
       "               '2024-01-09', '2024-01-10',\n",
       "               ...\n",
       "               '2024-12-22', '2024-12-23', '2024-12-24', '2024-12-25',\n",
       "               '2024-12-26', '2024-12-27', '2024-12-28', '2024-12-29',\n",
       "               '2024-12-30', '2024-12-31'],\n",
       "              dtype='datetime64[ns]', length=366, freq='D')"
      ]
     },
     "execution_count": 66,
     "metadata": {},
     "output_type": "execute_result"
    }
   ],
   "source": [
    "date_range_new = pd.date_range(start='2024-01-01', end='2024-12-31',freq='D')\n",
    "date_range_new"
   ]
  },
  {
   "cell_type": "code",
   "execution_count": 69,
   "id": "d49c949a",
   "metadata": {},
   "outputs": [
    {
     "data": {
      "text/html": [
       "<div>\n",
       "<style scoped>\n",
       "    .dataframe tbody tr th:only-of-type {\n",
       "        vertical-align: middle;\n",
       "    }\n",
       "\n",
       "    .dataframe tbody tr th {\n",
       "        vertical-align: top;\n",
       "    }\n",
       "\n",
       "    .dataframe thead th {\n",
       "        text-align: right;\n",
       "    }\n",
       "</style>\n",
       "<table border=\"1\" class=\"dataframe\">\n",
       "  <thead>\n",
       "    <tr style=\"text-align: right;\">\n",
       "      <th></th>\n",
       "      <th>Date</th>\n",
       "    </tr>\n",
       "  </thead>\n",
       "  <tbody>\n",
       "    <tr>\n",
       "      <th>0</th>\n",
       "      <td>2024-01-01</td>\n",
       "    </tr>\n",
       "    <tr>\n",
       "      <th>1</th>\n",
       "      <td>2024-01-02</td>\n",
       "    </tr>\n",
       "    <tr>\n",
       "      <th>2</th>\n",
       "      <td>2024-01-03</td>\n",
       "    </tr>\n",
       "    <tr>\n",
       "      <th>3</th>\n",
       "      <td>2024-01-04</td>\n",
       "    </tr>\n",
       "    <tr>\n",
       "      <th>4</th>\n",
       "      <td>2024-01-05</td>\n",
       "    </tr>\n",
       "    <tr>\n",
       "      <th>...</th>\n",
       "      <td>...</td>\n",
       "    </tr>\n",
       "    <tr>\n",
       "      <th>361</th>\n",
       "      <td>2024-12-27</td>\n",
       "    </tr>\n",
       "    <tr>\n",
       "      <th>362</th>\n",
       "      <td>2024-12-28</td>\n",
       "    </tr>\n",
       "    <tr>\n",
       "      <th>363</th>\n",
       "      <td>2024-12-29</td>\n",
       "    </tr>\n",
       "    <tr>\n",
       "      <th>364</th>\n",
       "      <td>2024-12-30</td>\n",
       "    </tr>\n",
       "    <tr>\n",
       "      <th>365</th>\n",
       "      <td>2024-12-31</td>\n",
       "    </tr>\n",
       "  </tbody>\n",
       "</table>\n",
       "<p>366 rows × 1 columns</p>\n",
       "</div>"
      ],
      "text/plain": [
       "          Date\n",
       "0   2024-01-01\n",
       "1   2024-01-02\n",
       "2   2024-01-03\n",
       "3   2024-01-04\n",
       "4   2024-01-05\n",
       "..         ...\n",
       "361 2024-12-27\n",
       "362 2024-12-28\n",
       "363 2024-12-29\n",
       "364 2024-12-30\n",
       "365 2024-12-31\n",
       "\n",
       "[366 rows x 1 columns]"
      ]
     },
     "execution_count": 69,
     "metadata": {},
     "output_type": "execute_result"
    }
   ],
   "source": [
    "df_dates = pd.DataFrame(date_range_new, columns = ['Date'])\n",
    "df_dates"
   ]
  }
 ],
 "metadata": {
  "kernelspec": {
   "display_name": "venv",
   "language": "python",
   "name": "python3"
  },
  "language_info": {
   "codemirror_mode": {
    "name": "ipython",
    "version": 3
   },
   "file_extension": ".py",
   "mimetype": "text/x-python",
   "name": "python",
   "nbconvert_exporter": "python",
   "pygments_lexer": "ipython3",
   "version": "3.13.2"
  }
 },
 "nbformat": 4,
 "nbformat_minor": 5
}
